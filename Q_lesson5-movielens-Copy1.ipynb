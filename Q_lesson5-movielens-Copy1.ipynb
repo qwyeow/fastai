{
 "cells": [
  {
   "cell_type": "markdown",
   "metadata": {
    "heading_collapsed": true
   },
   "source": [
    "## Movielens"
   ]
  },
  {
   "cell_type": "code",
   "execution_count": 1,
   "metadata": {
    "hidden": true
   },
   "outputs": [],
   "source": [
    "%reload_ext autoreload\n",
    "%autoreload 2\n",
    "%matplotlib inline\n",
    "\n",
    "from fastai.learner import *\n",
    "from fastai.column_data import *"
   ]
  },
  {
   "cell_type": "markdown",
   "metadata": {
    "hidden": true
   },
   "source": [
    "Data available from http://files.grouplens.org/datasets/movielens/ml-latest-small.zip"
   ]
  },
  {
   "cell_type": "code",
   "execution_count": 2,
   "metadata": {
    "hidden": true
   },
   "outputs": [],
   "source": [
    "path='data/ml-latest-small/'"
   ]
  },
  {
   "cell_type": "markdown",
   "metadata": {
    "hidden": true
   },
   "source": [
    "We're working with the movielens data, which contains one rating per row, like this:"
   ]
  },
  {
   "cell_type": "code",
   "execution_count": 3,
   "metadata": {
    "hidden": true
   },
   "outputs": [
    {
     "data": {
      "text/html": [
       "<div>\n",
       "<style scoped>\n",
       "    .dataframe tbody tr th:only-of-type {\n",
       "        vertical-align: middle;\n",
       "    }\n",
       "\n",
       "    .dataframe tbody tr th {\n",
       "        vertical-align: top;\n",
       "    }\n",
       "\n",
       "    .dataframe thead th {\n",
       "        text-align: right;\n",
       "    }\n",
       "</style>\n",
       "<table border=\"1\" class=\"dataframe\">\n",
       "  <thead>\n",
       "    <tr style=\"text-align: right;\">\n",
       "      <th></th>\n",
       "      <th>userId</th>\n",
       "      <th>movieId</th>\n",
       "      <th>rating</th>\n",
       "      <th>timestamp</th>\n",
       "    </tr>\n",
       "  </thead>\n",
       "  <tbody>\n",
       "    <tr>\n",
       "      <th>0</th>\n",
       "      <td>1</td>\n",
       "      <td>31</td>\n",
       "      <td>2.5</td>\n",
       "      <td>1260759144</td>\n",
       "    </tr>\n",
       "    <tr>\n",
       "      <th>1</th>\n",
       "      <td>1</td>\n",
       "      <td>1029</td>\n",
       "      <td>3.0</td>\n",
       "      <td>1260759179</td>\n",
       "    </tr>\n",
       "    <tr>\n",
       "      <th>2</th>\n",
       "      <td>1</td>\n",
       "      <td>1061</td>\n",
       "      <td>3.0</td>\n",
       "      <td>1260759182</td>\n",
       "    </tr>\n",
       "    <tr>\n",
       "      <th>3</th>\n",
       "      <td>1</td>\n",
       "      <td>1129</td>\n",
       "      <td>2.0</td>\n",
       "      <td>1260759185</td>\n",
       "    </tr>\n",
       "    <tr>\n",
       "      <th>4</th>\n",
       "      <td>1</td>\n",
       "      <td>1172</td>\n",
       "      <td>4.0</td>\n",
       "      <td>1260759205</td>\n",
       "    </tr>\n",
       "  </tbody>\n",
       "</table>\n",
       "</div>"
      ],
      "text/plain": [
       "   userId  movieId  rating   timestamp\n",
       "0       1       31     2.5  1260759144\n",
       "1       1     1029     3.0  1260759179\n",
       "2       1     1061     3.0  1260759182\n",
       "3       1     1129     2.0  1260759185\n",
       "4       1     1172     4.0  1260759205"
      ]
     },
     "execution_count": 3,
     "metadata": {},
     "output_type": "execute_result"
    }
   ],
   "source": [
    "ratings = pd.read_csv(path+'ratings.csv')\n",
    "ratings.head()"
   ]
  },
  {
   "cell_type": "markdown",
   "metadata": {
    "hidden": true
   },
   "source": [
    "Just for display purposes, let's read in the movie names too."
   ]
  },
  {
   "cell_type": "code",
   "execution_count": 4,
   "metadata": {
    "hidden": true
   },
   "outputs": [
    {
     "data": {
      "text/html": [
       "<div>\n",
       "<style scoped>\n",
       "    .dataframe tbody tr th:only-of-type {\n",
       "        vertical-align: middle;\n",
       "    }\n",
       "\n",
       "    .dataframe tbody tr th {\n",
       "        vertical-align: top;\n",
       "    }\n",
       "\n",
       "    .dataframe thead th {\n",
       "        text-align: right;\n",
       "    }\n",
       "</style>\n",
       "<table border=\"1\" class=\"dataframe\">\n",
       "  <thead>\n",
       "    <tr style=\"text-align: right;\">\n",
       "      <th></th>\n",
       "      <th>movieId</th>\n",
       "      <th>title</th>\n",
       "      <th>genres</th>\n",
       "    </tr>\n",
       "  </thead>\n",
       "  <tbody>\n",
       "    <tr>\n",
       "      <th>0</th>\n",
       "      <td>1</td>\n",
       "      <td>Toy Story (1995)</td>\n",
       "      <td>Adventure|Animation|Children|Comedy|Fantasy</td>\n",
       "    </tr>\n",
       "    <tr>\n",
       "      <th>1</th>\n",
       "      <td>2</td>\n",
       "      <td>Jumanji (1995)</td>\n",
       "      <td>Adventure|Children|Fantasy</td>\n",
       "    </tr>\n",
       "    <tr>\n",
       "      <th>2</th>\n",
       "      <td>3</td>\n",
       "      <td>Grumpier Old Men (1995)</td>\n",
       "      <td>Comedy|Romance</td>\n",
       "    </tr>\n",
       "    <tr>\n",
       "      <th>3</th>\n",
       "      <td>4</td>\n",
       "      <td>Waiting to Exhale (1995)</td>\n",
       "      <td>Comedy|Drama|Romance</td>\n",
       "    </tr>\n",
       "    <tr>\n",
       "      <th>4</th>\n",
       "      <td>5</td>\n",
       "      <td>Father of the Bride Part II (1995)</td>\n",
       "      <td>Comedy</td>\n",
       "    </tr>\n",
       "  </tbody>\n",
       "</table>\n",
       "</div>"
      ],
      "text/plain": [
       "   movieId                               title  \\\n",
       "0        1                    Toy Story (1995)   \n",
       "1        2                      Jumanji (1995)   \n",
       "2        3             Grumpier Old Men (1995)   \n",
       "3        4            Waiting to Exhale (1995)   \n",
       "4        5  Father of the Bride Part II (1995)   \n",
       "\n",
       "                                        genres  \n",
       "0  Adventure|Animation|Children|Comedy|Fantasy  \n",
       "1                   Adventure|Children|Fantasy  \n",
       "2                               Comedy|Romance  \n",
       "3                         Comedy|Drama|Romance  \n",
       "4                                       Comedy  "
      ]
     },
     "execution_count": 4,
     "metadata": {},
     "output_type": "execute_result"
    }
   ],
   "source": [
    "movies = pd.read_csv(path+'movies.csv')\n",
    "movies.head()"
   ]
  },
  {
   "cell_type": "markdown",
   "metadata": {
    "heading_collapsed": true
   },
   "source": [
    "## Create subset for Excel"
   ]
  },
  {
   "cell_type": "markdown",
   "metadata": {
    "hidden": true
   },
   "source": [
    "We create a crosstab of the most popular movies and most movie-addicted users which we'll copy into Excel for creating a simple example. This isn't necessary for any of the modeling below however."
   ]
  },
  {
   "cell_type": "markdown",
   "metadata": {},
   "source": [
    "Get the number of ratings given by each user."
   ]
  },
  {
   "cell_type": "code",
   "execution_count": 9,
   "metadata": {},
   "outputs": [
    {
     "data": {
      "text/plain": [
       "userId\n",
       "1     20\n",
       "2     76\n",
       "3     51\n",
       "4    204\n",
       "5    100\n",
       "Name: rating, dtype: int64"
      ]
     },
     "execution_count": 9,
     "metadata": {},
     "output_type": "execute_result"
    }
   ],
   "source": [
    "ratings.groupby('userId')['rating'].count().head()"
   ]
  },
  {
   "cell_type": "markdown",
   "metadata": {},
   "source": [
    "Tally the total number of ratings for each user."
   ]
  },
  {
   "cell_type": "code",
   "execution_count": 10,
   "metadata": {},
   "outputs": [
    {
     "data": {
      "text/plain": [
       "userId\n",
       "547    2391\n",
       "564    1868\n",
       "624    1735\n",
       "15     1700\n",
       "73     1610\n",
       "452    1340\n",
       "468    1291\n",
       "380    1063\n",
       "311    1019\n",
       "30     1011\n",
       "294     947\n",
       "509     923\n",
       "580     922\n",
       "213     910\n",
       "212     876\n",
       "Name: rating, dtype: int64"
      ]
     },
     "execution_count": 10,
     "metadata": {},
     "output_type": "execute_result"
    }
   ],
   "source": [
    "g=ratings.groupby('userId')['rating'].count()\n",
    "g.sort_values(ascending=False)[:15]"
   ]
  },
  {
   "cell_type": "code",
   "execution_count": 11,
   "metadata": {},
   "outputs": [],
   "source": [
    "topUsers=g.sort_values(ascending=False)[:15]"
   ]
  },
  {
   "cell_type": "code",
   "execution_count": 77,
   "metadata": {},
   "outputs": [
    {
     "data": {
      "text/plain": [
       "movieId\n",
       "1    247\n",
       "2    107\n",
       "3     59\n",
       "4     13\n",
       "5     56\n",
       "Name: rating, dtype: int64"
      ]
     },
     "execution_count": 77,
     "metadata": {},
     "output_type": "execute_result"
    }
   ],
   "source": [
    "ratings.groupby('movieId')['rating'].count().head()"
   ]
  },
  {
   "cell_type": "code",
   "execution_count": 78,
   "metadata": {},
   "outputs": [
    {
     "data": {
      "text/plain": [
       "movieId\n",
       "356     341\n",
       "296     324\n",
       "318     311\n",
       "593     304\n",
       "260     291\n",
       "480     274\n",
       "2571    259\n",
       "1       247\n",
       "527     244\n",
       "589     237\n",
       "1196    234\n",
       "110     228\n",
       "1270    226\n",
       "608     224\n",
       "1198    220\n",
       "Name: rating, dtype: int64"
      ]
     },
     "execution_count": 78,
     "metadata": {},
     "output_type": "execute_result"
    }
   ],
   "source": [
    "g=ratings.groupby('movieId')['rating'].count()\n",
    "g.sort_values(ascending=False)[:15]"
   ]
  },
  {
   "cell_type": "code",
   "execution_count": 12,
   "metadata": {},
   "outputs": [],
   "source": [
    "g=ratings.groupby('movieId')['rating'].count()\n",
    "topMovies=g.sort_values(ascending=False)[:15]"
   ]
  },
  {
   "cell_type": "code",
   "execution_count": 13,
   "metadata": {},
   "outputs": [
    {
     "data": {
      "text/plain": [
       "movieId\n",
       "356     341\n",
       "296     324\n",
       "318     311\n",
       "593     304\n",
       "260     291\n",
       "480     274\n",
       "2571    259\n",
       "1       247\n",
       "527     244\n",
       "589     237\n",
       "1196    234\n",
       "110     228\n",
       "1270    226\n",
       "608     224\n",
       "1198    220\n",
       "Name: rating, dtype: int64"
      ]
     },
     "execution_count": 13,
     "metadata": {},
     "output_type": "execute_result"
    }
   ],
   "source": [
    "topMovies"
   ]
  },
  {
   "cell_type": "markdown",
   "metadata": {},
   "source": [
    "Attach the number of ratings given by each user"
   ]
  },
  {
   "cell_type": "code",
   "execution_count": 80,
   "metadata": {},
   "outputs": [
    {
     "data": {
      "text/html": [
       "<div>\n",
       "<style scoped>\n",
       "    .dataframe tbody tr th:only-of-type {\n",
       "        vertical-align: middle;\n",
       "    }\n",
       "\n",
       "    .dataframe tbody tr th {\n",
       "        vertical-align: top;\n",
       "    }\n",
       "\n",
       "    .dataframe thead th {\n",
       "        text-align: right;\n",
       "    }\n",
       "</style>\n",
       "<table border=\"1\" class=\"dataframe\">\n",
       "  <thead>\n",
       "    <tr style=\"text-align: right;\">\n",
       "      <th></th>\n",
       "      <th>userId</th>\n",
       "      <th>movieId</th>\n",
       "      <th>rating</th>\n",
       "      <th>timestamp</th>\n",
       "      <th>rating_r</th>\n",
       "    </tr>\n",
       "  </thead>\n",
       "  <tbody>\n",
       "    <tr>\n",
       "      <th>962</th>\n",
       "      <td>15</td>\n",
       "      <td>1</td>\n",
       "      <td>2.0</td>\n",
       "      <td>997938310</td>\n",
       "      <td>1700</td>\n",
       "    </tr>\n",
       "    <tr>\n",
       "      <th>963</th>\n",
       "      <td>15</td>\n",
       "      <td>2</td>\n",
       "      <td>2.0</td>\n",
       "      <td>1134521380</td>\n",
       "      <td>1700</td>\n",
       "    </tr>\n",
       "    <tr>\n",
       "      <th>964</th>\n",
       "      <td>15</td>\n",
       "      <td>5</td>\n",
       "      <td>4.5</td>\n",
       "      <td>1093070098</td>\n",
       "      <td>1700</td>\n",
       "    </tr>\n",
       "    <tr>\n",
       "      <th>965</th>\n",
       "      <td>15</td>\n",
       "      <td>6</td>\n",
       "      <td>4.0</td>\n",
       "      <td>1040205753</td>\n",
       "      <td>1700</td>\n",
       "    </tr>\n",
       "    <tr>\n",
       "      <th>966</th>\n",
       "      <td>15</td>\n",
       "      <td>10</td>\n",
       "      <td>3.0</td>\n",
       "      <td>1093028290</td>\n",
       "      <td>1700</td>\n",
       "    </tr>\n",
       "  </tbody>\n",
       "</table>\n",
       "</div>"
      ],
      "text/plain": [
       "     userId  movieId  rating   timestamp  rating_r\n",
       "962      15        1     2.0   997938310      1700\n",
       "963      15        2     2.0  1134521380      1700\n",
       "964      15        5     4.5  1093070098      1700\n",
       "965      15        6     4.0  1040205753      1700\n",
       "966      15       10     3.0  1093028290      1700"
      ]
     },
     "execution_count": 80,
     "metadata": {},
     "output_type": "execute_result"
    }
   ],
   "source": [
    "top_r = ratings.join(topUsers, rsuffix='_r', how='inner', on='userId')\n",
    "top_r.head()"
   ]
  },
  {
   "cell_type": "markdown",
   "metadata": {},
   "source": [
    "Add the number of ratings received by each movie"
   ]
  },
  {
   "cell_type": "code",
   "execution_count": 81,
   "metadata": {},
   "outputs": [
    {
     "data": {
      "text/html": [
       "<div>\n",
       "<style scoped>\n",
       "    .dataframe tbody tr th:only-of-type {\n",
       "        vertical-align: middle;\n",
       "    }\n",
       "\n",
       "    .dataframe tbody tr th {\n",
       "        vertical-align: top;\n",
       "    }\n",
       "\n",
       "    .dataframe thead th {\n",
       "        text-align: right;\n",
       "    }\n",
       "</style>\n",
       "<table border=\"1\" class=\"dataframe\">\n",
       "  <thead>\n",
       "    <tr style=\"text-align: right;\">\n",
       "      <th></th>\n",
       "      <th>userId</th>\n",
       "      <th>movieId</th>\n",
       "      <th>rating</th>\n",
       "      <th>timestamp</th>\n",
       "      <th>rating_r</th>\n",
       "      <th>rating_r</th>\n",
       "    </tr>\n",
       "  </thead>\n",
       "  <tbody>\n",
       "    <tr>\n",
       "      <th>962</th>\n",
       "      <td>15</td>\n",
       "      <td>1</td>\n",
       "      <td>2.0</td>\n",
       "      <td>997938310</td>\n",
       "      <td>1700</td>\n",
       "      <td>247</td>\n",
       "    </tr>\n",
       "    <tr>\n",
       "      <th>5048</th>\n",
       "      <td>30</td>\n",
       "      <td>1</td>\n",
       "      <td>4.0</td>\n",
       "      <td>944943070</td>\n",
       "      <td>1011</td>\n",
       "      <td>247</td>\n",
       "    </tr>\n",
       "    <tr>\n",
       "      <th>10214</th>\n",
       "      <td>73</td>\n",
       "      <td>1</td>\n",
       "      <td>5.0</td>\n",
       "      <td>1303464840</td>\n",
       "      <td>1610</td>\n",
       "      <td>247</td>\n",
       "    </tr>\n",
       "    <tr>\n",
       "      <th>28390</th>\n",
       "      <td>212</td>\n",
       "      <td>1</td>\n",
       "      <td>3.0</td>\n",
       "      <td>1218405007</td>\n",
       "      <td>876</td>\n",
       "      <td>247</td>\n",
       "    </tr>\n",
       "    <tr>\n",
       "      <th>29266</th>\n",
       "      <td>213</td>\n",
       "      <td>1</td>\n",
       "      <td>3.0</td>\n",
       "      <td>1462637445</td>\n",
       "      <td>910</td>\n",
       "      <td>247</td>\n",
       "    </tr>\n",
       "  </tbody>\n",
       "</table>\n",
       "</div>"
      ],
      "text/plain": [
       "       userId  movieId  rating   timestamp  rating_r  rating_r\n",
       "962        15        1     2.0   997938310      1700       247\n",
       "5048       30        1     4.0   944943070      1011       247\n",
       "10214      73        1     5.0  1303464840      1610       247\n",
       "28390     212        1     3.0  1218405007       876       247\n",
       "29266     213        1     3.0  1462637445       910       247"
      ]
     },
     "execution_count": 81,
     "metadata": {},
     "output_type": "execute_result"
    }
   ],
   "source": [
    "top_r = top_r.join(topMovies, rsuffix='_r', how='inner', on='movieId')\n",
    "top_r.head()"
   ]
  },
  {
   "cell_type": "markdown",
   "metadata": {},
   "source": [
    "Create cross-tabulation. Note that aggfunc has to be stated as the 3rd argument `value` is used. It serves no feal function, as can be seen by  \n",
    "`aggfunc= lambda x: x` and `aggfunc=np.sum` both giving the same result."
   ]
  },
  {
   "cell_type": "code",
   "execution_count": 82,
   "metadata": {},
   "outputs": [
    {
     "data": {
      "text/html": [
       "<div>\n",
       "<style scoped>\n",
       "    .dataframe tbody tr th:only-of-type {\n",
       "        vertical-align: middle;\n",
       "    }\n",
       "\n",
       "    .dataframe tbody tr th {\n",
       "        vertical-align: top;\n",
       "    }\n",
       "\n",
       "    .dataframe thead th {\n",
       "        text-align: right;\n",
       "    }\n",
       "</style>\n",
       "<table border=\"1\" class=\"dataframe\">\n",
       "  <thead>\n",
       "    <tr style=\"text-align: right;\">\n",
       "      <th>movieId</th>\n",
       "      <th>1</th>\n",
       "      <th>110</th>\n",
       "      <th>260</th>\n",
       "      <th>296</th>\n",
       "      <th>318</th>\n",
       "      <th>356</th>\n",
       "      <th>480</th>\n",
       "      <th>527</th>\n",
       "      <th>589</th>\n",
       "      <th>593</th>\n",
       "      <th>608</th>\n",
       "      <th>1196</th>\n",
       "      <th>1198</th>\n",
       "      <th>1270</th>\n",
       "      <th>2571</th>\n",
       "    </tr>\n",
       "    <tr>\n",
       "      <th>userId</th>\n",
       "      <th></th>\n",
       "      <th></th>\n",
       "      <th></th>\n",
       "      <th></th>\n",
       "      <th></th>\n",
       "      <th></th>\n",
       "      <th></th>\n",
       "      <th></th>\n",
       "      <th></th>\n",
       "      <th></th>\n",
       "      <th></th>\n",
       "      <th></th>\n",
       "      <th></th>\n",
       "      <th></th>\n",
       "      <th></th>\n",
       "    </tr>\n",
       "  </thead>\n",
       "  <tbody>\n",
       "    <tr>\n",
       "      <th>15</th>\n",
       "      <td>2.0</td>\n",
       "      <td>3.0</td>\n",
       "      <td>5.0</td>\n",
       "      <td>5.0</td>\n",
       "      <td>2.0</td>\n",
       "      <td>1.0</td>\n",
       "      <td>3.0</td>\n",
       "      <td>4.0</td>\n",
       "      <td>4.0</td>\n",
       "      <td>5.0</td>\n",
       "      <td>5.0</td>\n",
       "      <td>5.0</td>\n",
       "      <td>4.0</td>\n",
       "      <td>5.0</td>\n",
       "      <td>5.0</td>\n",
       "    </tr>\n",
       "    <tr>\n",
       "      <th>30</th>\n",
       "      <td>4.0</td>\n",
       "      <td>5.0</td>\n",
       "      <td>4.0</td>\n",
       "      <td>5.0</td>\n",
       "      <td>5.0</td>\n",
       "      <td>5.0</td>\n",
       "      <td>4.0</td>\n",
       "      <td>5.0</td>\n",
       "      <td>4.0</td>\n",
       "      <td>4.0</td>\n",
       "      <td>5.0</td>\n",
       "      <td>4.0</td>\n",
       "      <td>5.0</td>\n",
       "      <td>5.0</td>\n",
       "      <td>3.0</td>\n",
       "    </tr>\n",
       "    <tr>\n",
       "      <th>73</th>\n",
       "      <td>5.0</td>\n",
       "      <td>4.0</td>\n",
       "      <td>4.5</td>\n",
       "      <td>5.0</td>\n",
       "      <td>5.0</td>\n",
       "      <td>5.0</td>\n",
       "      <td>4.0</td>\n",
       "      <td>5.0</td>\n",
       "      <td>3.0</td>\n",
       "      <td>4.5</td>\n",
       "      <td>4.0</td>\n",
       "      <td>5.0</td>\n",
       "      <td>5.0</td>\n",
       "      <td>5.0</td>\n",
       "      <td>4.5</td>\n",
       "    </tr>\n",
       "    <tr>\n",
       "      <th>212</th>\n",
       "      <td>3.0</td>\n",
       "      <td>5.0</td>\n",
       "      <td>4.0</td>\n",
       "      <td>4.0</td>\n",
       "      <td>4.5</td>\n",
       "      <td>4.0</td>\n",
       "      <td>3.0</td>\n",
       "      <td>5.0</td>\n",
       "      <td>3.0</td>\n",
       "      <td>4.0</td>\n",
       "      <td>NaN</td>\n",
       "      <td>NaN</td>\n",
       "      <td>3.0</td>\n",
       "      <td>3.0</td>\n",
       "      <td>5.0</td>\n",
       "    </tr>\n",
       "    <tr>\n",
       "      <th>213</th>\n",
       "      <td>3.0</td>\n",
       "      <td>2.5</td>\n",
       "      <td>5.0</td>\n",
       "      <td>NaN</td>\n",
       "      <td>NaN</td>\n",
       "      <td>2.0</td>\n",
       "      <td>5.0</td>\n",
       "      <td>NaN</td>\n",
       "      <td>4.0</td>\n",
       "      <td>2.5</td>\n",
       "      <td>2.0</td>\n",
       "      <td>5.0</td>\n",
       "      <td>3.0</td>\n",
       "      <td>3.0</td>\n",
       "      <td>4.0</td>\n",
       "    </tr>\n",
       "  </tbody>\n",
       "</table>\n",
       "</div>"
      ],
      "text/plain": [
       "movieId  1     110   260   296   318   356   480   527   589   593   608   \\\n",
       "userId                                                                      \n",
       "15        2.0   3.0   5.0   5.0   2.0   1.0   3.0   4.0   4.0   5.0   5.0   \n",
       "30        4.0   5.0   4.0   5.0   5.0   5.0   4.0   5.0   4.0   4.0   5.0   \n",
       "73        5.0   4.0   4.5   5.0   5.0   5.0   4.0   5.0   3.0   4.5   4.0   \n",
       "212       3.0   5.0   4.0   4.0   4.5   4.0   3.0   5.0   3.0   4.0   NaN   \n",
       "213       3.0   2.5   5.0   NaN   NaN   2.0   5.0   NaN   4.0   2.5   2.0   \n",
       "\n",
       "movieId  1196  1198  1270  2571  \n",
       "userId                           \n",
       "15        5.0   4.0   5.0   5.0  \n",
       "30        4.0   5.0   5.0   3.0  \n",
       "73        5.0   5.0   5.0   4.5  \n",
       "212       NaN   3.0   3.0   5.0  \n",
       "213       5.0   3.0   3.0   4.0  "
      ]
     },
     "execution_count": 82,
     "metadata": {},
     "output_type": "execute_result"
    }
   ],
   "source": [
    "pd.crosstab(top_r.userId, top_r.movieId, top_r.rating, aggfunc= lambda x: x).head()"
   ]
  },
  {
   "cell_type": "code",
   "execution_count": 83,
   "metadata": {
    "hidden": true
   },
   "outputs": [
    {
     "data": {
      "text/html": [
       "<div>\n",
       "<style scoped>\n",
       "    .dataframe tbody tr th:only-of-type {\n",
       "        vertical-align: middle;\n",
       "    }\n",
       "\n",
       "    .dataframe tbody tr th {\n",
       "        vertical-align: top;\n",
       "    }\n",
       "\n",
       "    .dataframe thead th {\n",
       "        text-align: right;\n",
       "    }\n",
       "</style>\n",
       "<table border=\"1\" class=\"dataframe\">\n",
       "  <thead>\n",
       "    <tr style=\"text-align: right;\">\n",
       "      <th>movieId</th>\n",
       "      <th>1</th>\n",
       "      <th>110</th>\n",
       "      <th>260</th>\n",
       "      <th>296</th>\n",
       "      <th>318</th>\n",
       "      <th>356</th>\n",
       "      <th>480</th>\n",
       "      <th>527</th>\n",
       "      <th>589</th>\n",
       "      <th>593</th>\n",
       "      <th>608</th>\n",
       "      <th>1196</th>\n",
       "      <th>1198</th>\n",
       "      <th>1270</th>\n",
       "      <th>2571</th>\n",
       "    </tr>\n",
       "    <tr>\n",
       "      <th>userId</th>\n",
       "      <th></th>\n",
       "      <th></th>\n",
       "      <th></th>\n",
       "      <th></th>\n",
       "      <th></th>\n",
       "      <th></th>\n",
       "      <th></th>\n",
       "      <th></th>\n",
       "      <th></th>\n",
       "      <th></th>\n",
       "      <th></th>\n",
       "      <th></th>\n",
       "      <th></th>\n",
       "      <th></th>\n",
       "      <th></th>\n",
       "    </tr>\n",
       "  </thead>\n",
       "  <tbody>\n",
       "    <tr>\n",
       "      <th>15</th>\n",
       "      <td>2.0</td>\n",
       "      <td>3.0</td>\n",
       "      <td>5.0</td>\n",
       "      <td>5.0</td>\n",
       "      <td>2.0</td>\n",
       "      <td>1.0</td>\n",
       "      <td>3.0</td>\n",
       "      <td>4.0</td>\n",
       "      <td>4.0</td>\n",
       "      <td>5.0</td>\n",
       "      <td>5.0</td>\n",
       "      <td>5.0</td>\n",
       "      <td>4.0</td>\n",
       "      <td>5.0</td>\n",
       "      <td>5.0</td>\n",
       "    </tr>\n",
       "    <tr>\n",
       "      <th>30</th>\n",
       "      <td>4.0</td>\n",
       "      <td>5.0</td>\n",
       "      <td>4.0</td>\n",
       "      <td>5.0</td>\n",
       "      <td>5.0</td>\n",
       "      <td>5.0</td>\n",
       "      <td>4.0</td>\n",
       "      <td>5.0</td>\n",
       "      <td>4.0</td>\n",
       "      <td>4.0</td>\n",
       "      <td>5.0</td>\n",
       "      <td>4.0</td>\n",
       "      <td>5.0</td>\n",
       "      <td>5.0</td>\n",
       "      <td>3.0</td>\n",
       "    </tr>\n",
       "    <tr>\n",
       "      <th>73</th>\n",
       "      <td>5.0</td>\n",
       "      <td>4.0</td>\n",
       "      <td>4.5</td>\n",
       "      <td>5.0</td>\n",
       "      <td>5.0</td>\n",
       "      <td>5.0</td>\n",
       "      <td>4.0</td>\n",
       "      <td>5.0</td>\n",
       "      <td>3.0</td>\n",
       "      <td>4.5</td>\n",
       "      <td>4.0</td>\n",
       "      <td>5.0</td>\n",
       "      <td>5.0</td>\n",
       "      <td>5.0</td>\n",
       "      <td>4.5</td>\n",
       "    </tr>\n",
       "    <tr>\n",
       "      <th>212</th>\n",
       "      <td>3.0</td>\n",
       "      <td>5.0</td>\n",
       "      <td>4.0</td>\n",
       "      <td>4.0</td>\n",
       "      <td>4.5</td>\n",
       "      <td>4.0</td>\n",
       "      <td>3.0</td>\n",
       "      <td>5.0</td>\n",
       "      <td>3.0</td>\n",
       "      <td>4.0</td>\n",
       "      <td>NaN</td>\n",
       "      <td>NaN</td>\n",
       "      <td>3.0</td>\n",
       "      <td>3.0</td>\n",
       "      <td>5.0</td>\n",
       "    </tr>\n",
       "    <tr>\n",
       "      <th>213</th>\n",
       "      <td>3.0</td>\n",
       "      <td>2.5</td>\n",
       "      <td>5.0</td>\n",
       "      <td>NaN</td>\n",
       "      <td>NaN</td>\n",
       "      <td>2.0</td>\n",
       "      <td>5.0</td>\n",
       "      <td>NaN</td>\n",
       "      <td>4.0</td>\n",
       "      <td>2.5</td>\n",
       "      <td>2.0</td>\n",
       "      <td>5.0</td>\n",
       "      <td>3.0</td>\n",
       "      <td>3.0</td>\n",
       "      <td>4.0</td>\n",
       "    </tr>\n",
       "    <tr>\n",
       "      <th>294</th>\n",
       "      <td>4.0</td>\n",
       "      <td>3.0</td>\n",
       "      <td>4.0</td>\n",
       "      <td>NaN</td>\n",
       "      <td>3.0</td>\n",
       "      <td>4.0</td>\n",
       "      <td>4.0</td>\n",
       "      <td>4.0</td>\n",
       "      <td>3.0</td>\n",
       "      <td>NaN</td>\n",
       "      <td>NaN</td>\n",
       "      <td>4.0</td>\n",
       "      <td>4.5</td>\n",
       "      <td>4.0</td>\n",
       "      <td>4.5</td>\n",
       "    </tr>\n",
       "    <tr>\n",
       "      <th>311</th>\n",
       "      <td>3.0</td>\n",
       "      <td>3.0</td>\n",
       "      <td>4.0</td>\n",
       "      <td>3.0</td>\n",
       "      <td>4.5</td>\n",
       "      <td>5.0</td>\n",
       "      <td>4.5</td>\n",
       "      <td>5.0</td>\n",
       "      <td>4.5</td>\n",
       "      <td>2.0</td>\n",
       "      <td>4.0</td>\n",
       "      <td>3.0</td>\n",
       "      <td>4.5</td>\n",
       "      <td>4.5</td>\n",
       "      <td>4.0</td>\n",
       "    </tr>\n",
       "    <tr>\n",
       "      <th>380</th>\n",
       "      <td>4.0</td>\n",
       "      <td>5.0</td>\n",
       "      <td>4.0</td>\n",
       "      <td>5.0</td>\n",
       "      <td>4.0</td>\n",
       "      <td>5.0</td>\n",
       "      <td>4.0</td>\n",
       "      <td>NaN</td>\n",
       "      <td>4.0</td>\n",
       "      <td>5.0</td>\n",
       "      <td>4.0</td>\n",
       "      <td>4.0</td>\n",
       "      <td>NaN</td>\n",
       "      <td>3.0</td>\n",
       "      <td>5.0</td>\n",
       "    </tr>\n",
       "    <tr>\n",
       "      <th>452</th>\n",
       "      <td>3.5</td>\n",
       "      <td>4.0</td>\n",
       "      <td>4.0</td>\n",
       "      <td>5.0</td>\n",
       "      <td>5.0</td>\n",
       "      <td>4.0</td>\n",
       "      <td>5.0</td>\n",
       "      <td>4.0</td>\n",
       "      <td>4.0</td>\n",
       "      <td>5.0</td>\n",
       "      <td>5.0</td>\n",
       "      <td>4.0</td>\n",
       "      <td>4.0</td>\n",
       "      <td>4.0</td>\n",
       "      <td>2.0</td>\n",
       "    </tr>\n",
       "    <tr>\n",
       "      <th>468</th>\n",
       "      <td>4.0</td>\n",
       "      <td>3.0</td>\n",
       "      <td>3.5</td>\n",
       "      <td>3.5</td>\n",
       "      <td>3.5</td>\n",
       "      <td>3.0</td>\n",
       "      <td>2.5</td>\n",
       "      <td>NaN</td>\n",
       "      <td>NaN</td>\n",
       "      <td>3.0</td>\n",
       "      <td>4.0</td>\n",
       "      <td>3.0</td>\n",
       "      <td>3.5</td>\n",
       "      <td>3.0</td>\n",
       "      <td>3.0</td>\n",
       "    </tr>\n",
       "    <tr>\n",
       "      <th>509</th>\n",
       "      <td>3.0</td>\n",
       "      <td>5.0</td>\n",
       "      <td>5.0</td>\n",
       "      <td>5.0</td>\n",
       "      <td>4.0</td>\n",
       "      <td>4.0</td>\n",
       "      <td>3.0</td>\n",
       "      <td>5.0</td>\n",
       "      <td>2.0</td>\n",
       "      <td>4.0</td>\n",
       "      <td>4.5</td>\n",
       "      <td>5.0</td>\n",
       "      <td>5.0</td>\n",
       "      <td>3.0</td>\n",
       "      <td>4.5</td>\n",
       "    </tr>\n",
       "    <tr>\n",
       "      <th>547</th>\n",
       "      <td>3.5</td>\n",
       "      <td>NaN</td>\n",
       "      <td>NaN</td>\n",
       "      <td>5.0</td>\n",
       "      <td>5.0</td>\n",
       "      <td>2.0</td>\n",
       "      <td>3.0</td>\n",
       "      <td>5.0</td>\n",
       "      <td>NaN</td>\n",
       "      <td>5.0</td>\n",
       "      <td>5.0</td>\n",
       "      <td>2.5</td>\n",
       "      <td>2.0</td>\n",
       "      <td>3.5</td>\n",
       "      <td>3.5</td>\n",
       "    </tr>\n",
       "    <tr>\n",
       "      <th>564</th>\n",
       "      <td>4.0</td>\n",
       "      <td>1.0</td>\n",
       "      <td>2.0</td>\n",
       "      <td>5.0</td>\n",
       "      <td>NaN</td>\n",
       "      <td>3.0</td>\n",
       "      <td>5.0</td>\n",
       "      <td>4.0</td>\n",
       "      <td>5.0</td>\n",
       "      <td>5.0</td>\n",
       "      <td>5.0</td>\n",
       "      <td>5.0</td>\n",
       "      <td>5.0</td>\n",
       "      <td>3.0</td>\n",
       "      <td>3.0</td>\n",
       "    </tr>\n",
       "    <tr>\n",
       "      <th>580</th>\n",
       "      <td>4.0</td>\n",
       "      <td>4.5</td>\n",
       "      <td>4.0</td>\n",
       "      <td>4.5</td>\n",
       "      <td>4.0</td>\n",
       "      <td>3.5</td>\n",
       "      <td>3.0</td>\n",
       "      <td>4.0</td>\n",
       "      <td>4.5</td>\n",
       "      <td>4.0</td>\n",
       "      <td>4.5</td>\n",
       "      <td>4.0</td>\n",
       "      <td>3.5</td>\n",
       "      <td>3.0</td>\n",
       "      <td>4.5</td>\n",
       "    </tr>\n",
       "    <tr>\n",
       "      <th>624</th>\n",
       "      <td>5.0</td>\n",
       "      <td>NaN</td>\n",
       "      <td>5.0</td>\n",
       "      <td>5.0</td>\n",
       "      <td>NaN</td>\n",
       "      <td>3.0</td>\n",
       "      <td>3.0</td>\n",
       "      <td>NaN</td>\n",
       "      <td>3.0</td>\n",
       "      <td>5.0</td>\n",
       "      <td>4.0</td>\n",
       "      <td>5.0</td>\n",
       "      <td>5.0</td>\n",
       "      <td>5.0</td>\n",
       "      <td>2.0</td>\n",
       "    </tr>\n",
       "  </tbody>\n",
       "</table>\n",
       "</div>"
      ],
      "text/plain": [
       "movieId  1     110   260   296   318   356   480   527   589   593   608   \\\n",
       "userId                                                                      \n",
       "15        2.0   3.0   5.0   5.0   2.0   1.0   3.0   4.0   4.0   5.0   5.0   \n",
       "30        4.0   5.0   4.0   5.0   5.0   5.0   4.0   5.0   4.0   4.0   5.0   \n",
       "73        5.0   4.0   4.5   5.0   5.0   5.0   4.0   5.0   3.0   4.5   4.0   \n",
       "212       3.0   5.0   4.0   4.0   4.5   4.0   3.0   5.0   3.0   4.0   NaN   \n",
       "213       3.0   2.5   5.0   NaN   NaN   2.0   5.0   NaN   4.0   2.5   2.0   \n",
       "294       4.0   3.0   4.0   NaN   3.0   4.0   4.0   4.0   3.0   NaN   NaN   \n",
       "311       3.0   3.0   4.0   3.0   4.5   5.0   4.5   5.0   4.5   2.0   4.0   \n",
       "380       4.0   5.0   4.0   5.0   4.0   5.0   4.0   NaN   4.0   5.0   4.0   \n",
       "452       3.5   4.0   4.0   5.0   5.0   4.0   5.0   4.0   4.0   5.0   5.0   \n",
       "468       4.0   3.0   3.5   3.5   3.5   3.0   2.5   NaN   NaN   3.0   4.0   \n",
       "509       3.0   5.0   5.0   5.0   4.0   4.0   3.0   5.0   2.0   4.0   4.5   \n",
       "547       3.5   NaN   NaN   5.0   5.0   2.0   3.0   5.0   NaN   5.0   5.0   \n",
       "564       4.0   1.0   2.0   5.0   NaN   3.0   5.0   4.0   5.0   5.0   5.0   \n",
       "580       4.0   4.5   4.0   4.5   4.0   3.5   3.0   4.0   4.5   4.0   4.5   \n",
       "624       5.0   NaN   5.0   5.0   NaN   3.0   3.0   NaN   3.0   5.0   4.0   \n",
       "\n",
       "movieId  1196  1198  1270  2571  \n",
       "userId                           \n",
       "15        5.0   4.0   5.0   5.0  \n",
       "30        4.0   5.0   5.0   3.0  \n",
       "73        5.0   5.0   5.0   4.5  \n",
       "212       NaN   3.0   3.0   5.0  \n",
       "213       5.0   3.0   3.0   4.0  \n",
       "294       4.0   4.5   4.0   4.5  \n",
       "311       3.0   4.5   4.5   4.0  \n",
       "380       4.0   NaN   3.0   5.0  \n",
       "452       4.0   4.0   4.0   2.0  \n",
       "468       3.0   3.5   3.0   3.0  \n",
       "509       5.0   5.0   3.0   4.5  \n",
       "547       2.5   2.0   3.5   3.5  \n",
       "564       5.0   5.0   3.0   3.0  \n",
       "580       4.0   3.5   3.0   4.5  \n",
       "624       5.0   5.0   5.0   2.0  "
      ]
     },
     "execution_count": 83,
     "metadata": {},
     "output_type": "execute_result"
    }
   ],
   "source": [
    "pd.crosstab(top_r.userId, top_r.movieId, top_r.rating, aggfunc=np.sum)"
   ]
  },
  {
   "cell_type": "markdown",
   "metadata": {
    "heading_collapsed": true
   },
   "source": [
    "## Collaborative filtering"
   ]
  },
  {
   "cell_type": "markdown",
   "metadata": {},
   "source": [
    "Let's use fastai learner and see what kind of result we can get."
   ]
  },
  {
   "cell_type": "code",
   "execution_count": 14,
   "metadata": {
    "hidden": true
   },
   "outputs": [],
   "source": [
    "# cross validation \n",
    "val_idxs = get_cv_idxs(len(ratings))\n",
    "\n",
    "# weight decay L2 regularization\n",
    "wd=2e-4\n",
    "\n",
    "# embedding size\n",
    "n_factors = 50"
   ]
  },
  {
   "cell_type": "markdown",
   "metadata": {},
   "source": [
    "Set data object `CollabFilterDataset` with  \n",
    "rows = `userId`  \n",
    "columns = `movieId`  \n",
    "values = `rating`  "
   ]
  },
  {
   "cell_type": "code",
   "execution_count": 15,
   "metadata": {},
   "outputs": [],
   "source": [
    "cf = CollabFilterDataset.from_csv(path, 'ratings.csv', 'userId', 'movieId', 'rating')"
   ]
  },
  {
   "cell_type": "markdown",
   "metadata": {},
   "source": [
    "size of embedding later = n_factors  \n",
    "validation index = val_idxs  \n",
    "batch size = 64  \n",
    "optimizer = Adam  "
   ]
  },
  {
   "cell_type": "code",
   "execution_count": 16,
   "metadata": {
    "hidden": true
   },
   "outputs": [],
   "source": [
    "learn = cf.get_learner(n_factors, val_idxs, 64, opt_fn=optim.Adam)"
   ]
  },
  {
   "cell_type": "markdown",
   "metadata": {},
   "source": [
    "train model"
   ]
  },
  {
   "cell_type": "code",
   "execution_count": 18,
   "metadata": {},
   "outputs": [
    {
     "data": {
      "application/vnd.jupyter.widget-view+json": {
       "model_id": "da8ebb3f79e2410f812017732e12c5ae",
       "version_major": 2,
       "version_minor": 0
      },
      "text/plain": [
       "HBox(children=(IntProgress(value=0, description='Epoch', max=1), HTML(value='')))"
      ]
     },
     "metadata": {},
     "output_type": "display_data"
    },
    {
     "name": "stdout",
     "output_type": "stream",
     "text": [
      " 72%|███████▏  | 904/1251 [00:02<00:00, 370.84it/s, loss=4.54]\n",
      "                                                              \r"
     ]
    }
   ],
   "source": [
    "learn.lr_find()"
   ]
  },
  {
   "cell_type": "code",
   "execution_count": 19,
   "metadata": {},
   "outputs": [
    {
     "data": {
      "image/png": "[encoded data removed]",
      "text/plain": [
       "<Figure size 432x288 with 1 Axes>"
      ]
     },
     "metadata": {},
     "output_type": "display_data"
    }
   ],
   "source": [
    "learn.sched.plot()"
   ]
  },
  {
   "cell_type": "code",
   "execution_count": 17,
   "metadata": {},
   "outputs": [
    {
     "data": {
      "application/vnd.jupyter.widget-view+json": {
       "model_id": "b4df314cbea546cca111f0f005fe02f0",
       "version_major": 2,
       "version_minor": 0
      },
      "text/plain": [
       "HBox(children=(IntProgress(value=0, description='Epoch', max=3), HTML(value='')))"
      ]
     },
     "metadata": {},
     "output_type": "display_data"
    },
    {
     "name": "stdout",
     "output_type": "stream",
     "text": [
      "epoch      trn_loss   val_loss                                  \n",
      "    0      0.818922   0.807252  \n",
      "    1      0.786927   0.779639                                  \n",
      "    2      0.615785   0.766221                                  \n",
      "\n"
     ]
    },
    {
     "data": {
      "text/plain": [
       "[array([0.76622])]"
      ]
     },
     "execution_count": 17,
     "metadata": {},
     "output_type": "execute_result"
    }
   ],
   "source": [
    "learn.fit(1e-2, 2, wds=wd, cycle_len=1, cycle_mult=2)"
   ]
  },
  {
   "cell_type": "markdown",
   "metadata": {
    "hidden": true
   },
   "source": [
    "Let's compare to some benchmarks. Here's [some benchmarks](https://www.librec.net/release/v1.3/example.html) on the same dataset for the popular Librec system for collaborative filtering. They show best results based on [RMSE](http://www.statisticshowto.com/rmse/) of 0.91. We'll need to take the square root of our loss, since we use plain MSE."
   ]
  },
  {
   "cell_type": "code",
   "execution_count": 21,
   "metadata": {
    "hidden": true
   },
   "outputs": [
    {
     "data": {
      "text/plain": [
       "0.8746427842267951"
      ]
     },
     "execution_count": 21,
     "metadata": {},
     "output_type": "execute_result"
    }
   ],
   "source": [
    "math.sqrt(0.765)"
   ]
  },
  {
   "cell_type": "markdown",
   "metadata": {
    "hidden": true
   },
   "source": [
    "Looking good - we've found a solution better than any of those benchmarks! Let's take a look at how the predictions compare to actuals for this model."
   ]
  },
  {
   "cell_type": "markdown",
   "metadata": {},
   "source": [
    "A interesting visulation using seaborne to plot"
   ]
  },
  {
   "cell_type": "code",
   "execution_count": 22,
   "metadata": {
    "hidden": true
   },
   "outputs": [],
   "source": [
    "preds = learn.predict()"
   ]
  },
  {
   "cell_type": "code",
   "execution_count": 23,
   "metadata": {
    "hidden": true
   },
   "outputs": [
    {
     "name": "stderr",
     "output_type": "stream",
     "text": [
      "/home/wyquek/anaconda3/envs/fastai/lib/python3.6/site-packages/matplotlib/axes/_axes.py:6462: UserWarning: The 'normed' kwarg is deprecated, and has been replaced by the 'density' kwarg.\n",
      "  warnings.warn(\"The 'normed' kwarg is deprecated, and has been \"\n",
      "/home/wyquek/anaconda3/envs/fastai/lib/python3.6/site-packages/matplotlib/axes/_axes.py:6462: UserWarning: The 'normed' kwarg is deprecated, and has been replaced by the 'density' kwarg.\n",
      "  warnings.warn(\"The 'normed' kwarg is deprecated, and has been \"\n"
     ]
    },
    {
     "data": {
      "image/png": "[encoded data removed]",
      "text/plain": [
       "<Figure size 432x432 with 3 Axes>"
      ]
     },
     "metadata": {},
     "output_type": "display_data"
    }
   ],
   "source": [
    "y=learn.data.val_y\n",
    "# x-axis predictor top horizontal = hist(pred)\n",
    "#y-axis= y value  right-hand vertical = hist(y)\n",
    "sns.jointplot(preds, y, kind='hex', stat_func=None);"
   ]
  },
  {
   "cell_type": "markdown",
   "metadata": {},
   "source": [
    "## Analyze results"
   ]
  },
  {
   "cell_type": "markdown",
   "metadata": {
    "heading_collapsed": true
   },
   "source": [
    "### Movie bias"
   ]
  },
  {
   "cell_type": "code",
   "execution_count": 18,
   "metadata": {
    "hidden": true
   },
   "outputs": [
    {
     "data": {
      "text/plain": [
       "{1: 'Toy Story (1995)',\n",
       " 2: 'Jumanji (1995)',\n",
       " 3: 'Grumpier Old Men (1995)',\n",
       " 4: 'Waiting to Exhale (1995)',\n",
       " 5: 'Father of the Bride Part II (1995)',\n",
       " 6: 'Heat (1995)',\n",
       " 7: 'Sabrina (1995)',\n",
       " 8: 'Tom and Huck (1995)',\n",
       " 9: 'Sudden Death (1995)',\n",
       " 10: 'GoldenEye (1995)',\n",
       " 11: 'American President, The (1995)',\n",
       " 12: 'Dracula: Dead and Loving It (1995)',\n",
       " 13: 'Balto (1995)',\n",
       " 14: 'Nixon (1995)',\n",
       " 15: 'Cutthroat Island (1995)',\n",
       " 16: 'Casino (1995)',\n",
       " 17: 'Sense and Sensibility (1995)',\n",
       " 18: 'Four Rooms (1995)',\n",
       " 19: 'Ace Ventura: When Nature Calls (1995)',\n",
       " 20: 'Money Train (1995)',\n",
       " 21: 'Get Shorty (1995)',\n",
       " 22: 'Copycat (1995)',\n",
       " 23: 'Assassins (1995)',\n",
       " 24: 'Powder (1995)',\n",
       " 25: 'Leaving Las Vegas (1995)',\n",
       " 26: 'Othello (1995)',\n",
       " 27: 'Now and Then (1995)',\n",
       " 28: 'Persuasion (1995)',\n",
       " 29: 'City of Lost Children, The (Cité des enfants perdus, La) (1995)',\n",
       " 30: 'Shanghai Triad (Yao a yao yao dao waipo qiao) (1995)',\n",
       " 31: 'Dangerous Minds (1995)',\n",
       " 32: 'Twelve Monkeys (a.k.a. 12 Monkeys) (1995)',\n",
       " 34: 'Babe (1995)',\n",
       " 35: 'Carrington (1995)',\n",
       " 36: 'Dead Man Walking (1995)',\n",
       " 37: 'Across the Sea of Time (1995)',\n",
       " 38: 'It Takes Two (1995)',\n",
       " 39: 'Clueless (1995)',\n",
       " 40: 'Cry, the Beloved Country (1995)',\n",
       " 41: 'Richard III (1995)',\n",
       " 42: 'Dead Presidents (1995)',\n",
       " 43: 'Restoration (1995)',\n",
       " 44: 'Mortal Kombat (1995)',\n",
       " 45: 'To Die For (1995)',\n",
       " 46: 'How to Make an American Quilt (1995)',\n",
       " 47: 'Seven (a.k.a. Se7en) (1995)',\n",
       " 48: 'Pocahontas (1995)',\n",
       " 49: 'When Night Is Falling (1995)',\n",
       " 50: 'Usual Suspects, The (1995)',\n",
       " 52: 'Mighty Aphrodite (1995)',\n",
       " 53: 'Lamerica (1994)',\n",
       " 54: 'Big Green, The (1995)',\n",
       " 55: 'Georgia (1995)',\n",
       " 57: 'Home for the Holidays (1995)',\n",
       " 58: 'Postman, The (Postino, Il) (1994)',\n",
       " 59: 'Confessional, The (Confessionnal, Le) (1995)',\n",
       " 60: 'Indian in the Cupboard, The (1995)',\n",
       " 61: 'Eye for an Eye (1996)',\n",
       " 62: \"Mr. Holland's Opus (1995)\",\n",
       " 63: \"Don't Be a Menace to South Central While Drinking Your Juice in the Hood (1996)\",\n",
       " 64: 'Two if by Sea (1996)',\n",
       " 65: 'Bio-Dome (1996)',\n",
       " 66: 'Lawnmower Man 2: Beyond Cyberspace (1996)',\n",
       " 68: 'French Twist (Gazon maudit) (1995)',\n",
       " 69: 'Friday (1995)',\n",
       " 70: 'From Dusk Till Dawn (1996)',\n",
       " 71: 'Fair Game (1995)',\n",
       " 72: 'Kicking and Screaming (1995)',\n",
       " 73: 'Misérables, Les (1995)',\n",
       " 74: 'Bed of Roses (1996)',\n",
       " 76: 'Screamers (1995)',\n",
       " 77: 'Nico Icon (1995)',\n",
       " 78: 'Crossing Guard, The (1995)',\n",
       " 79: 'Juror, The (1996)',\n",
       " 80: 'White Balloon, The (Badkonake sefid) (1995)',\n",
       " 81: \"Things to Do in Denver When You're Dead (1995)\",\n",
       " 82: \"Antonia's Line (Antonia) (1995)\",\n",
       " 83: 'Once Upon a Time... When We Were Colored (1995)',\n",
       " 84: 'Last Summer in the Hamptons (1995)',\n",
       " 85: 'Angels and Insects (1995)',\n",
       " 86: 'White Squall (1996)',\n",
       " 87: 'Dunston Checks In (1996)',\n",
       " 88: 'Black Sheep (1996)',\n",
       " 89: 'Nick of Time (1995)',\n",
       " 92: 'Mary Reilly (1996)',\n",
       " 93: 'Vampire in Brooklyn (1995)',\n",
       " 94: 'Beautiful Girls (1996)',\n",
       " 95: 'Broken Arrow (1996)',\n",
       " 96: 'In the Bleak Midwinter (1995)',\n",
       " 97: 'Hate (Haine, La) (1995)',\n",
       " 98: 'Shopping (1994)',\n",
       " 99: 'Heidi Fleiss: Hollywood Madam (1995)',\n",
       " 100: 'City Hall (1996)',\n",
       " 101: 'Bottle Rocket (1996)',\n",
       " 102: 'Mr. Wrong (1996)',\n",
       " 103: 'Unforgettable (1996)',\n",
       " 104: 'Happy Gilmore (1996)',\n",
       " 105: 'Bridges of Madison County, The (1995)',\n",
       " 107: 'Muppet Treasure Island (1996)',\n",
       " 108: 'Catwalk (1996)',\n",
       " 110: 'Braveheart (1995)',\n",
       " 111: 'Taxi Driver (1976)',\n",
       " 112: 'Rumble in the Bronx (Hont faan kui) (1995)',\n",
       " 113: 'Before and After (1996)',\n",
       " 114: \"Margaret's Museum (1995)\",\n",
       " 116: 'Anne Frank Remembered (1995)',\n",
       " 117: \"Young Poisoner's Handbook, The (1995)\",\n",
       " 118: 'If Lucy Fell (1996)',\n",
       " 119: 'Steal Big, Steal Little (1995)',\n",
       " 121: 'Boys of St. Vincent, The (1992)',\n",
       " 122: 'Boomerang (1992)',\n",
       " 123: 'Chungking Express (Chung Hing sam lam) (1994)',\n",
       " 124: \"Star Maker, The (Uomo delle stelle, L') (1995)\",\n",
       " 125: 'Flirting With Disaster (1996)',\n",
       " 126: 'NeverEnding Story III, The (1994)',\n",
       " 129: 'Pie in the Sky (1996)',\n",
       " 130: 'Angela (1995)',\n",
       " 131: 'Frankie Starlight (1995)',\n",
       " 132: 'Jade (1995)',\n",
       " 135: 'Down Periscope (1996)',\n",
       " 137: 'Man of the Year (1995)',\n",
       " 140: 'Up Close and Personal (1996)',\n",
       " 141: 'Birdcage, The (1996)',\n",
       " 144: 'Brothers McMullen, The (1995)',\n",
       " 145: 'Bad Boys (1995)',\n",
       " 146: 'Amazing Panda Adventure, The (1995)',\n",
       " 147: 'Basketball Diaries, The (1995)',\n",
       " 148: 'Awfully Big Adventure, An (1995)',\n",
       " 149: 'Amateur (1994)',\n",
       " 150: 'Apollo 13 (1995)',\n",
       " 151: 'Rob Roy (1995)',\n",
       " 152: 'Addiction, The (1995)',\n",
       " 153: 'Batman Forever (1995)',\n",
       " 154: 'Beauty of the Day (Belle de jour) (1967)',\n",
       " 155: 'Beyond Rangoon (1995)',\n",
       " 156: 'Blue in the Face (1995)',\n",
       " 157: 'Canadian Bacon (1995)',\n",
       " 158: 'Casper (1995)',\n",
       " 159: 'Clockers (1995)',\n",
       " 160: 'Congo (1995)',\n",
       " 161: 'Crimson Tide (1995)',\n",
       " 162: 'Crumb (1994)',\n",
       " 163: 'Desperado (1995)',\n",
       " 164: 'Devil in a Blue Dress (1995)',\n",
       " 165: 'Die Hard: With a Vengeance (1995)',\n",
       " 166: 'Doom Generation, The (1995)',\n",
       " 167: 'Feast of July (1995)',\n",
       " 168: 'First Knight (1995)',\n",
       " 169: 'Free Willy 2: The Adventure Home (1995)',\n",
       " 170: 'Hackers (1995)',\n",
       " 171: 'Jeffrey (1995)',\n",
       " 172: 'Johnny Mnemonic (1995)',\n",
       " 173: 'Judge Dredd (1995)',\n",
       " 174: 'Jury Duty (1995)',\n",
       " 175: 'Kids (1995)',\n",
       " 176: 'Living in Oblivion (1995)',\n",
       " 177: 'Lord of Illusions (1995)',\n",
       " 178: 'Love & Human Remains (1993)',\n",
       " 179: 'Mad Love (1995)',\n",
       " 180: 'Mallrats (1995)',\n",
       " 181: 'Mighty Morphin Power Rangers: The Movie (1995)',\n",
       " 183: 'Mute Witness (1994)',\n",
       " 184: 'Nadja (1994)',\n",
       " 185: 'Net, The (1995)',\n",
       " 186: 'Nine Months (1995)',\n",
       " 187: 'Party Girl (1995)',\n",
       " 188: 'Prophecy, The (1995)',\n",
       " 189: 'Reckless (1995)',\n",
       " 190: 'Safe (1995)',\n",
       " 191: 'Scarlet Letter, The (1995)',\n",
       " 193: 'Showgirls (1995)',\n",
       " 194: 'Smoke (1995)',\n",
       " 195: 'Something to Talk About (1995)',\n",
       " 196: 'Species (1995)',\n",
       " 198: 'Strange Days (1995)',\n",
       " 199: 'Umbrellas of Cherbourg, The (Parapluies de Cherbourg, Les) (1964)',\n",
       " 200: 'Tie That Binds, The (1995)',\n",
       " 201: 'Three Wishes (1995)',\n",
       " 202: 'Total Eclipse (1995)',\n",
       " 203: 'To Wong Foo, Thanks for Everything! Julie Newmar (1995)',\n",
       " 204: 'Under Siege 2: Dark Territory (1995)',\n",
       " 205: 'Unstrung Heroes (1995)',\n",
       " 206: 'Unzipped (1995)',\n",
       " 207: 'Walk in the Clouds, A (1995)',\n",
       " 208: 'Waterworld (1995)',\n",
       " 209: \"White Man's Burden (1995)\",\n",
       " 211: 'Browning Version, The (1994)',\n",
       " 213: 'Burnt by the Sun (Utomlyonnye solntsem) (1994)',\n",
       " 214: 'Before the Rain (Pred dozhdot) (1994)',\n",
       " 215: 'Before Sunrise (1995)',\n",
       " 216: 'Billy Madison (1995)',\n",
       " 217: 'Babysitter, The (1995)',\n",
       " 218: 'Boys on the Side (1995)',\n",
       " 219: 'Cure, The (1995)',\n",
       " 220: 'Castle Freak (1995)',\n",
       " 222: 'Circle of Friends (1995)',\n",
       " 223: 'Clerks (1994)',\n",
       " 224: 'Don Juan DeMarco (1995)',\n",
       " 225: 'Disclosure (1994)',\n",
       " 227: 'Drop Zone (1994)',\n",
       " 228: 'Destiny Turns on the Radio (1995)',\n",
       " 229: 'Death and the Maiden (1994)',\n",
       " 230: 'Dolores Claiborne (1995)',\n",
       " 231: 'Dumb & Dumber (Dumb and Dumber) (1994)',\n",
       " 232: 'Eat Drink Man Woman (Yin shi nan nu) (1994)',\n",
       " 233: 'Exotica (1994)',\n",
       " 234: 'Exit to Eden (1994)',\n",
       " 235: 'Ed Wood (1994)',\n",
       " 236: 'French Kiss (1995)',\n",
       " 237: 'Forget Paris (1995)',\n",
       " 238: 'Far From Home: The Adventures of Yellow Dog (1995)',\n",
       " 239: 'Goofy Movie, A (1995)',\n",
       " 240: 'Hideaway (1995)',\n",
       " 241: 'Fluke (1995)',\n",
       " 242: 'Farinelli: il castrato (1994)',\n",
       " 243: 'Gordy (1995)',\n",
       " 244: 'Gumby: The Movie (1995)',\n",
       " 245: 'The Glass Shield (1994)',\n",
       " 246: 'Hoop Dreams (1994)',\n",
       " 247: 'Heavenly Creatures (1994)',\n",
       " 248: 'Houseguest (1994)',\n",
       " 249: 'Immortal Beloved (1994)',\n",
       " 250: 'Heavyweights (Heavy Weights) (1995)',\n",
       " 251: 'Hunted, The (1995)',\n",
       " 252: 'I.Q. (1994)',\n",
       " 253: 'Interview with the Vampire: The Vampire Chronicles (1994)',\n",
       " 254: 'Jefferson in Paris (1995)',\n",
       " 255: 'Jerky Boys, The (1995)',\n",
       " 256: 'Junior (1994)',\n",
       " 257: 'Just Cause (1995)',\n",
       " 258: \"Kid in King Arthur's Court, A (1995)\",\n",
       " 259: 'Kiss of Death (1995)',\n",
       " 260: 'Star Wars: Episode IV - A New Hope (1977)',\n",
       " 261: 'Little Women (1994)',\n",
       " 262: 'Little Princess, A (1995)',\n",
       " 263: 'Ladybird Ladybird (1994)',\n",
       " 264: \"Enfer, L' (1994)\",\n",
       " 265: 'Like Water for Chocolate (Como agua para chocolate) (1992)',\n",
       " 266: 'Legends of the Fall (1994)',\n",
       " 267: 'Major Payne (1995)',\n",
       " 268: 'Little Odessa (1994)',\n",
       " 269: 'My Crazy Life (Mi vida loca) (1993)',\n",
       " 270: 'Love Affair (1994)',\n",
       " 271: 'Losing Isaiah (1995)',\n",
       " 272: 'Madness of King George, The (1994)',\n",
       " 273: \"Mary Shelley's Frankenstein (Frankenstein) (1994)\",\n",
       " 274: 'Man of the House (1995)',\n",
       " 275: 'Mixed Nuts (1994)',\n",
       " 276: 'Milk Money (1994)',\n",
       " 277: 'Miracle on 34th Street (1994)',\n",
       " 278: 'Miami Rhapsody (1995)',\n",
       " 279: 'My Family (1995)',\n",
       " 280: 'Murder in the First (1995)',\n",
       " 281: \"Nobody's Fool (1994)\",\n",
       " 282: 'Nell (1994)',\n",
       " 283: 'New Jersey Drive (1995)',\n",
       " 285: 'Beyond Bedlam (1993)',\n",
       " 287: 'Nina Takes a Lover (1994)',\n",
       " 288: 'Natural Born Killers (1994)',\n",
       " 289: 'Only You (1994)',\n",
       " 290: 'Once Were Warriors (1994)',\n",
       " 291: 'Poison Ivy II (1996)',\n",
       " 292: 'Outbreak (1995)',\n",
       " 293: 'Léon: The Professional (a.k.a. The Professional) (Léon) (1994)',\n",
       " 294: 'Perez Family, The (1995)',\n",
       " 295: \"Pyromaniac's Love Story, A (1995)\",\n",
       " 296: 'Pulp Fiction (1994)',\n",
       " 299: 'Priest (1994)',\n",
       " 300: 'Quiz Show (1994)',\n",
       " 301: 'Picture Bride (Bijo photo) (1994)',\n",
       " 302: 'Queen Margot (Reine Margot, La) (1994)',\n",
       " 303: 'Quick and the Dead, The (1995)',\n",
       " 304: 'Roommates (1995)',\n",
       " 305: 'Ready to Wear (Pret-A-Porter) (1994)',\n",
       " 306: 'Three Colors: Red (Trois couleurs: Rouge) (1994)',\n",
       " 307: 'Three Colors: Blue (Trois couleurs: Bleu) (1993)',\n",
       " 308: 'Three Colors: White (Trzy kolory: Bialy) (1994)',\n",
       " 309: 'Red Firecracker, Green Firecracker (Pao Da Shuang Deng) (1994)',\n",
       " 312: 'Stuart Saves His Family (1995)',\n",
       " 313: 'Swan Princess, The (1994)',\n",
       " 314: 'Secret of Roan Inish, The (1994)',\n",
       " 315: 'Specialist, The (1994)',\n",
       " 316: 'Stargate (1994)',\n",
       " 317: 'Santa Clause, The (1994)',\n",
       " 318: 'Shawshank Redemption, The (1994)',\n",
       " 319: 'Shallow Grave (1994)',\n",
       " 320: 'Suture (1993)',\n",
       " 321: 'Strawberry and Chocolate (Fresa y chocolate) (1993)',\n",
       " 322: 'Swimming with Sharks (1995)',\n",
       " 324: 'Sum of Us, The (1994)',\n",
       " 325: \"National Lampoon's Senior Trip (1995)\",\n",
       " 326: 'To Live (Huozhe) (1994)',\n",
       " 327: 'Tank Girl (1995)',\n",
       " 328: 'Tales from the Crypt Presents: Demon Knight (1995)',\n",
       " 329: 'Star Trek: Generations (1994)',\n",
       " 330: 'Tales from the Hood (1995)',\n",
       " 331: 'Tom & Viv (1994)',\n",
       " 332: 'Village of the Damned (1995)',\n",
       " 333: 'Tommy Boy (1995)',\n",
       " 334: 'Vanya on 42nd Street (1994)',\n",
       " 335: 'Underneath (1995)',\n",
       " 336: 'Walking Dead, The (1995)',\n",
       " 337: \"What's Eating Gilbert Grape (1993)\",\n",
       " 338: 'Virtuosity (1995)',\n",
       " 339: 'While You Were Sleeping (1995)',\n",
       " 340: 'War, The (1994)',\n",
       " 341: 'Double Happiness (1994)',\n",
       " 342: \"Muriel's Wedding (1994)\",\n",
       " 343: 'Baby-Sitters Club, The (1995)',\n",
       " 344: 'Ace Ventura: Pet Detective (1994)',\n",
       " 345: 'Adventures of Priscilla, Queen of the Desert, The (1994)',\n",
       " 346: 'Backbeat (1993)',\n",
       " 347: 'Bitter Moon (1992)',\n",
       " 348: 'Bullets Over Broadway (1994)',\n",
       " 349: 'Clear and Present Danger (1994)',\n",
       " 350: 'Client, The (1994)',\n",
       " 351: 'Corrina, Corrina (1994)',\n",
       " 352: 'Crooklyn (1994)',\n",
       " 353: 'Crow, The (1994)',\n",
       " 354: 'Cobb (1994)',\n",
       " 355: 'Flintstones, The (1994)',\n",
       " 356: 'Forrest Gump (1994)',\n",
       " 357: 'Four Weddings and a Funeral (1994)',\n",
       " 358: 'Higher Learning (1995)',\n",
       " 360: 'I Love Trouble (1994)',\n",
       " 361: 'It Could Happen to You (1994)',\n",
       " 362: 'Jungle Book, The (1994)',\n",
       " 363: 'Wonderful, Horrible Life of Leni Riefenstahl, The (Macht der Bilder: Leni Riefenstahl, Die) (1993)',\n",
       " 364: 'Lion King, The (1994)',\n",
       " 365: 'Little Buddha (1993)',\n",
       " 366: \"Wes Craven's New Nightmare (Nightmare on Elm Street Part 7: Freddy's Finale, A) (1994)\",\n",
       " 367: 'Mask, The (1994)',\n",
       " 368: 'Maverick (1994)',\n",
       " 369: 'Mrs. Parker and the Vicious Circle (1994)',\n",
       " 370: 'Naked Gun 33 1/3: The Final Insult (1994)',\n",
       " 371: 'Paper, The (1994)',\n",
       " 372: 'Reality Bites (1994)',\n",
       " 373: 'Red Rock West (1992)',\n",
       " 374: 'Richie Rich (1994)',\n",
       " 375: 'Safe Passage (1994)',\n",
       " 376: 'River Wild, The (1994)',\n",
       " 377: 'Speed (1994)',\n",
       " 378: 'Speechless (1994)',\n",
       " 379: 'Timecop (1994)',\n",
       " 380: 'True Lies (1994)',\n",
       " 381: 'When a Man Loves a Woman (1994)',\n",
       " 382: 'Wolf (1994)',\n",
       " 383: 'Wyatt Earp (1994)',\n",
       " 384: 'Bad Company (1995)',\n",
       " 387: 'Low Down Dirty Shame, A (1994)',\n",
       " 388: 'Boys Life (1995)',\n",
       " 389: 'Colonel Chabert, Le (1994)',\n",
       " 390: 'Faster Pussycat! Kill! Kill! (1965)',\n",
       " 391: \"Jason's Lyric (1994)\",\n",
       " 392: 'Secret Adventures of Tom Thumb, The (1993)',\n",
       " 393: 'Street Fighter (1994)',\n",
       " 401: 'Mirage (1995)',\n",
       " 405: 'Highlander III: The Sorcerer (a.k.a. Highlander: The Final Dimension) (1994)',\n",
       " 407: 'In the Mouth of Madness (1995)',\n",
       " 408: '8 Seconds (1994)',\n",
       " 409: 'Above the Rim (1994)',\n",
       " 410: 'Addams Family Values (1993)',\n",
       " 412: 'Age of Innocence, The (1993)',\n",
       " 413: 'Airheads (1994)',\n",
       " 414: 'Air Up There, The (1994)',\n",
       " 415: 'Another Stakeout (1993)',\n",
       " 416: 'Bad Girls (1994)',\n",
       " 417: 'Barcelona (1994)',\n",
       " 418: 'Being Human (1993)',\n",
       " 419: 'Beverly Hillbillies, The (1993)',\n",
       " 420: 'Beverly Hills Cop III (1994)',\n",
       " 421: 'Black Beauty (1994)',\n",
       " 422: 'Blink (1994)',\n",
       " 423: 'Blown Away (1994)',\n",
       " 424: 'Blue Chips (1994)',\n",
       " 425: 'Blue Sky (1994)',\n",
       " 426: 'Body Snatchers (1993)',\n",
       " 427: 'Boxing Helena (1993)',\n",
       " 428: 'Bronx Tale, A (1993)',\n",
       " 429: 'Cabin Boy (1994)',\n",
       " 431: \"Carlito's Way (1993)\",\n",
       " 432: \"City Slickers II: The Legend of Curly's Gold (1994)\",\n",
       " 433: 'Clean Slate (1994)',\n",
       " 434: 'Cliffhanger (1993)',\n",
       " 435: 'Coneheads (1993)',\n",
       " 436: 'Color of Night (1994)',\n",
       " 437: 'Cops and Robbersons (1994)',\n",
       " 438: 'Cowboy Way, The (1994)',\n",
       " 439: 'Dangerous Game (1993)',\n",
       " 440: 'Dave (1993)',\n",
       " 441: 'Dazed and Confused (1993)',\n",
       " 442: 'Demolition Man (1993)',\n",
       " 443: 'Endless Summer 2, The (1994)',\n",
       " 444: 'Even Cowgirls Get the Blues (1993)',\n",
       " 445: 'Fatal Instinct (1993)',\n",
       " 446: 'Farewell My Concubine (Ba wang bie ji) (1993)',\n",
       " 447: 'Favor, The (1994)',\n",
       " 448: 'Fearless (1993)',\n",
       " 449: 'Fear of a Black Hat (1994)',\n",
       " 450: 'With Honors (1994)',\n",
       " 451: 'Flesh and Bone (1993)',\n",
       " 452: \"Widows' Peak (1994)\",\n",
       " 453: 'For Love or Money (1993)',\n",
       " 454: 'Firm, The (1993)',\n",
       " 455: 'Free Willy (1993)',\n",
       " 456: 'Fresh (1994)',\n",
       " 457: 'Fugitive, The (1993)',\n",
       " 458: 'Geronimo: An American Legend (1993)',\n",
       " 459: 'Getaway, The (1994)',\n",
       " 460: 'Getting Even with Dad (1994)',\n",
       " 461: 'Go Fish (1994)',\n",
       " 463: 'Guilty as Sin (1993)',\n",
       " 464: 'Hard Target (1993)',\n",
       " 465: 'Heaven & Earth (1993)',\n",
       " 466: 'Hot Shots! Part Deux (1993)',\n",
       " 467: 'Live Nude Girls (1995)',\n",
       " 468: 'Englishman Who Went Up a Hill But Came Down a Mountain, The (1995)',\n",
       " 469: 'House of the Spirits, The (1993)',\n",
       " 470: 'House Party 3 (1994)',\n",
       " 471: 'Hudsucker Proxy, The (1994)',\n",
       " 472: \"I'll Do Anything (1994)\",\n",
       " 473: 'In the Army Now (1994)',\n",
       " 474: 'In the Line of Fire (1993)',\n",
       " 475: 'In the Name of the Father (1993)',\n",
       " 476: 'Inkwell, The (1994)',\n",
       " 477: \"What's Love Got to Do with It? (1993)\",\n",
       " 479: 'Judgment Night (1993)',\n",
       " 480: 'Jurassic Park (1993)',\n",
       " 481: 'Kalifornia (1993)',\n",
       " 482: 'Killing Zoe (1994)',\n",
       " 483: 'King of the Hill (1993)',\n",
       " 484: 'Lassie (1994)',\n",
       " 485: 'Last Action Hero (1993)',\n",
       " 486: 'Life with Mikey (1993)',\n",
       " 487: 'Lightning Jack (1994)',\n",
       " 488: 'M. Butterfly (1993)',\n",
       " 489: 'Made in America (1993)',\n",
       " 490: 'Malice (1993)',\n",
       " 491: 'Man Without a Face, The (1993)',\n",
       " 492: 'Manhattan Murder Mystery (1993)',\n",
       " 493: 'Menace II Society (1993)',\n",
       " 494: 'Executive Decision (1996)',\n",
       " 495: 'In the Realm of the Senses (Ai no corrida) (1976)',\n",
       " 496: 'What Happened Was... (1994)',\n",
       " 497: 'Much Ado About Nothing (1993)',\n",
       " 498: 'Mr. Jones (1993)',\n",
       " 499: 'Mr. Wonderful (1993)',\n",
       " 500: 'Mrs. Doubtfire (1993)',\n",
       " 501: 'Naked (1993)',\n",
       " 502: 'Next Karate Kid, The (1994)',\n",
       " 504: 'No Escape (1994)',\n",
       " 505: 'North (1994)',\n",
       " 506: 'Orlando (1992)',\n",
       " 507: 'Perfect World, A (1993)',\n",
       " 508: 'Philadelphia (1993)',\n",
       " 509: 'Piano, The (1993)',\n",
       " 510: 'Poetic Justice (1993)',\n",
       " 511: 'Program, The (1993)',\n",
       " 512: 'Puppet Masters, The (1994)',\n",
       " 513: 'Radioland Murders (1994)',\n",
       " 514: 'Ref, The (1994)',\n",
       " 515: 'Remains of the Day, The (1993)',\n",
       " 516: 'Renaissance Man (1994)',\n",
       " 517: 'Rising Sun (1993)',\n",
       " 518: 'Road to Wellville, The (1994)',\n",
       " 519: 'RoboCop 3 (1993)',\n",
       " 520: 'Robin Hood: Men in Tights (1993)',\n",
       " 521: 'Romeo Is Bleeding (1993)',\n",
       " 522: 'Romper Stomper (1992)',\n",
       " 523: 'Ruby in Paradise (1993)',\n",
       " 524: 'Rudy (1993)',\n",
       " 526: 'Savage Nights (Nuits fauves, Les) (1992)',\n",
       " 527: \"Schindler's List (1993)\",\n",
       " 528: 'Scout, The (1994)',\n",
       " 529: 'Searching for Bobby Fischer (1993)',\n",
       " 531: 'Secret Garden, The (1993)',\n",
       " 532: 'Serial Mom (1994)',\n",
       " 533: 'Shadow, The (1994)',\n",
       " 534: 'Shadowlands (1993)',\n",
       " 535: 'Short Cuts (1993)',\n",
       " 536: 'Simple Twist of Fate, A (1994)',\n",
       " 537: 'Sirens (1994)',\n",
       " 538: 'Six Degrees of Separation (1993)',\n",
       " 539: 'Sleepless in Seattle (1993)',\n",
       " 540: 'Sliver (1993)',\n",
       " 541: 'Blade Runner (1982)',\n",
       " 542: 'Son in Law (1993)',\n",
       " 543: 'So I Married an Axe Murderer (1993)',\n",
       " 544: 'Striking Distance (1993)',\n",
       " 546: 'Super Mario Bros. (1993)',\n",
       " 547: 'Surviving the Game (1994)',\n",
       " 548: 'Terminal Velocity (1994)',\n",
       " 549: 'Thirty-Two Short Films About Glenn Gould (1993)',\n",
       " 550: 'Threesome (1994)',\n",
       " 551: 'Nightmare Before Christmas, The (1993)',\n",
       " 552: 'Three Musketeers, The (1993)',\n",
       " 553: 'Tombstone (1993)',\n",
       " 554: 'Trial by Jury (1994)',\n",
       " 555: 'True Romance (1993)',\n",
       " 556: 'War Room, The (1993)',\n",
       " 558: 'Pagemaster, The (1994)',\n",
       " 559: 'Paris, France (1993)',\n",
       " 561: 'Killer (Bulletproof Heart) (1994)',\n",
       " 562: 'Welcome to the Dollhouse (1995)',\n",
       " 563: 'Germinal (1993)',\n",
       " 564: 'Chasers (1994)',\n",
       " 565: 'Cronos (1993)',\n",
       " 567: 'Kika (1993)',\n",
       " 568: 'Bhaji on the Beach (1993)',\n",
       " 569: 'Little Big League (1994)',\n",
       " 571: 'Wedding Gift, The (1994)',\n",
       " 573: 'Ciao, Professore! (Io speriamo che me la cavo) (1992)',\n",
       " 574: 'Spanking the Monkey (1994)',\n",
       " 575: 'Little Rascals, The (1994)',\n",
       " 577: 'Andre (1994)',\n",
       " 580: 'Princess Caraboo (1994)',\n",
       " 581: 'Celluloid Closet, The (1995)',\n",
       " 582: 'Métisse (Café au Lait) (1993)',\n",
       " 585: 'Brady Bunch Movie, The (1995)',\n",
       " 586: 'Home Alone (1990)',\n",
       " 587: 'Ghost (1990)',\n",
       " 588: 'Aladdin (1992)',\n",
       " 589: 'Terminator 2: Judgment Day (1991)',\n",
       " 590: 'Dances with Wolves (1990)',\n",
       " 592: 'Batman (1989)',\n",
       " 593: 'Silence of the Lambs, The (1991)',\n",
       " 594: 'Snow White and the Seven Dwarfs (1937)',\n",
       " 595: 'Beauty and the Beast (1991)',\n",
       " 596: 'Pinocchio (1940)',\n",
       " 597: 'Pretty Woman (1990)',\n",
       " 599: 'Wild Bunch, The (1969)',\n",
       " 600: 'Love and a .45 (1994)',\n",
       " 603: 'Bye Bye, Love (1995)',\n",
       " 605: 'One Fine Day (1996)',\n",
       " 606: 'Candyman: Farewell to the Flesh (1995)',\n",
       " 608: 'Fargo (1996)',\n",
       " 609: 'Homeward Bound II: Lost in San Francisco (1996)',\n",
       " 610: 'Heavy Metal (1981)',\n",
       " 611: 'Hellraiser: Bloodline (1996)',\n",
       " 612: 'Pallbearer, The (1996)',\n",
       " 613: 'Jane Eyre (1996)',\n",
       " 614: 'Loaded (1994)',\n",
       " 615: 'Bread and Chocolate (Pane e cioccolata) (1973)',\n",
       " 616: 'Aristocats, The (1970)',\n",
       " 617: 'Flower of My Secret, The (La flor de mi secreto) (1995)',\n",
       " 619: 'Ed (1996)',\n",
       " 620: 'Scream of Stone (Cerro Torre: Schrei aus Stein) (1991)',\n",
       " 621: 'My Favorite Season (1993)',\n",
       " 626: 'Thin Line Between Love and Hate, A (1996)',\n",
       " 627: 'Last Supper, The (1995)',\n",
       " 628: 'Primal Fear (1996)',\n",
       " 630: 'Carried Away (1996)',\n",
       " 631: 'All Dogs Go to Heaven 2 (1996)',\n",
       " 632: 'Land and Freedom (Tierra y libertad) (1995)',\n",
       " 633: 'Denise Calls Up (1995)',\n",
       " 635: 'Family Thing, A (1996)',\n",
       " 637: 'Sgt. Bilko (1996)',\n",
       " 638: 'Jack and Sarah (1995)',\n",
       " 639: 'Girl 6 (1996)',\n",
       " 640: 'Diabolique (1996)',\n",
       " 647: 'Courage Under Fire (1996)',\n",
       " 648: 'Mission: Impossible (1996)',\n",
       " 650: 'Moll Flanders (1996)',\n",
       " 651: 'Superweib, Das (1996)',\n",
       " 653: 'Dragonheart (1996)',\n",
       " 656: 'Eddie (1996)',\n",
       " 659: 'Purple Noon (Plein soleil) (1960)',\n",
       " 661: 'James and the Giant Peach (1996)',\n",
       " 662: 'Fear (1996)',\n",
       " 663: 'Kids in the Hall: Brain Candy (1996)',\n",
       " 664: 'Faithful (1996)',\n",
       " 665: 'Underground (1995)',\n",
       " 667: 'Bloodsport 2 (a.k.a. Bloodsport II: The Next Kumite) (1996)',\n",
       " 668: 'Song of the Little Road (Pather Panchali) (1955)',\n",
       " 670: 'World of Apu, The (Apur Sansar) (1959)',\n",
       " 671: 'Mystery Science Theater 3000: The Movie (1996)',\n",
       " 673: 'Space Jam (1996)',\n",
       " 674: 'Barbarella (1968)',\n",
       " 678: 'Some Folks Call It a Sling Blade (1993)',\n",
       " 679: 'Run of the Country, The (1995)',\n",
       " 680: 'Alphaville (Alphaville, une étrange aventure de Lemmy Caution) (1965)',\n",
       " 681: 'Coup de torchon (Clean Slate) (1981)',\n",
       " 685: \"It's My Party (1996)\",\n",
       " 687: 'Country Life (1994)',\n",
       " 688: 'Operation Dumbo Drop (1995)',\n",
       " 690: 'Promise, The (Versprechen, Das) (1995)',\n",
       " 691: 'Mrs. Winterbourne (1996)',\n",
       " 692: 'Solo (1996)',\n",
       " 694: 'Substitute, The (1996)',\n",
       " 695: 'True Crime (1996)',\n",
       " 696: 'Butterfly Kiss (1995)',\n",
       " 697: 'Feeling Minnesota (1996)',\n",
       " 698: 'Delta of Venus (1995)',\n",
       " 700: 'Angus (1995)',\n",
       " 702: 'Faces (1968)',\n",
       " 703: 'Boys (1996)',\n",
       " 704: 'Quest, The (1996)',\n",
       " 705: 'Cosi (1996)',\n",
       " 707: 'Mulholland Falls (1996)',\n",
       " 708: 'Truth About Cats & Dogs, The (1996)',\n",
       " 709: 'Oliver & Company (1988)',\n",
       " 710: 'Celtic Pride (1996)',\n",
       " 711: 'Flipper (1996)',\n",
       " 714: 'Dead Man (1995)',\n",
       " 715: 'Horseman on the Roof, The (Hussard sur le toit, Le) (1995)',\n",
       " 718: 'Visitors, The (Visiteurs, Les) (1993)',\n",
       " 719: 'Multiplicity (1996)',\n",
       " 720: 'Wallace & Gromit: The Best of Aardman Animation (1996)',\n",
       " 721: 'Halfmoon (Paul Bowles - Halbmond) (1995)',\n",
       " 722: 'Haunted World of Edward D. Wood Jr., The (1996)',\n",
       " 724: 'Craft, The (1996)',\n",
       " 725: 'Great White Hype, The (1996)',\n",
       " 726: 'Last Dance (1996)',\n",
       " 728: 'Cold Comfort Farm (1995)',\n",
       " 731: \"Heaven's Prisoners (1996)\",\n",
       " 733: 'Rock, The (1996)',\n",
       " 735: 'Cemetery Man (Dellamorte Dellamore) (1994)',\n",
       " 736: 'Twister (1996)',\n",
       " 737: 'Barb Wire (1996)',\n",
       " 741: 'Ghost in the Shell (Kôkaku kidôtai) (1995)',\n",
       " 742: 'Thinner (1996)',\n",
       " 743: 'Spy Hard (1996)',\n",
       " 745: 'Wallace & Gromit: A Close Shave (1995)',\n",
       " 746: 'Force of Evil (1948)',\n",
       " 747: 'Stupids, The (1996)',\n",
       " 748: 'Arrival, The (1996)',\n",
       " 750: 'Dr. Strangelove or: How I Learned to Stop Worrying and Love the Bomb (1964)',\n",
       " 753: 'Month by the Lake, A (1995)',\n",
       " 754: 'Gold Diggers: The Secret of Bear Mountain (1995)',\n",
       " 755: 'Kim (1950)',\n",
       " 756: 'Carmen Miranda: Bananas Is My Business (1994)',\n",
       " 757: 'Ashes of Time (Dung che sai duk) (1994)',\n",
       " 759: 'Maya Lin: A Strong Clear Vision (1994)',\n",
       " 760: 'Stalingrad (1993)',\n",
       " 761: 'Phantom, The (1996)',\n",
       " 762: 'Striptease (1996)',\n",
       " 764: 'Heavy (1995)',\n",
       " 765: 'Jack (1996)',\n",
       " 766: 'I Shot Andy Warhol (1996)',\n",
       " 767: 'Grass Harp, The (1995)',\n",
       " 769: 'Marlene Dietrich: Shadow and Light (1996)',\n",
       " 775: 'Spirits of the Dead (1968)',\n",
       " 778: 'Trainspotting (1996)',\n",
       " 779: \"'Til There Was You (1997)\",\n",
       " 780: 'Independence Day (a.k.a. ID4) (1996)',\n",
       " 781: 'Stealing Beauty (1996)',\n",
       " 782: 'Fan, The (1996)',\n",
       " 783: 'Hunchback of Notre Dame, The (1996)',\n",
       " 784: 'Cable Guy, The (1996)',\n",
       " 785: 'Kingpin (1996)',\n",
       " 786: 'Eraser (1996)',\n",
       " 787: 'Gate of Heavenly Peace, The (1995)',\n",
       " 788: 'Nutty Professor, The (1996)',\n",
       " 793: \"My Life and Times With Antonin Artaud (En compagnie d'Antonin Artaud) (1993)\",\n",
       " 798: 'Daylight (1996)',\n",
       " 799: 'Frighteners, The (1996)',\n",
       " 800: 'Lone Star (1996)',\n",
       " 801: 'Harriet the Spy (1996)',\n",
       " 802: 'Phenomenon (1996)',\n",
       " 803: 'Walking and Talking (1996)',\n",
       " 804: \"She's the One (1996)\",\n",
       " 805: 'Time to Kill, A (1996)',\n",
       " 806: 'American Buffalo (1996)',\n",
       " 808: 'Alaska (1996)',\n",
       " 809: 'Fled (1996)',\n",
       " 810: 'Kazaam (1996)',\n",
       " 813: 'Larger Than Life (1996)',\n",
       " 816: 'Two Deaths (1995)',\n",
       " 818: 'Very Brady Sequel, A (1996)',\n",
       " 820: 'Death in the Garden (Mort en ce jardin, La) (1956)',\n",
       " 824: 'Kaspar Hauser (1993)',\n",
       " 828: 'Adventures of Pinocchio, The (1996)',\n",
       " 829: \"Joe's Apartment (1996)\",\n",
       " 830: 'First Wives Club, The (1996)',\n",
       " 831: 'Stonewall (1995)',\n",
       " 832: 'Ransom (1996)',\n",
       " 833: 'High School High (1996)',\n",
       " 834: 'Phat Beach (1996)',\n",
       " 835: 'Foxfire (1996)',\n",
       " 836: 'Chain Reaction (1996)',\n",
       " 837: 'Matilda (1996)',\n",
       " 838: 'Emma (1996)',\n",
       " 839: 'Crow: City of Angels, The (1996)',\n",
       " 840: 'House Arrest (1996)',\n",
       " 841: 'Eyes Without a Face (Yeux sans visage, Les) (1959)',\n",
       " 842: 'Tales from the Crypt Presents: Bordello of Blood (1996)',\n",
       " 844: 'Story of Xinghua, The (Xinghua san yue tian) (1994)',\n",
       " 845: 'Day the Sun Turned Cold, The (Tianguo niezi) (1994)',\n",
       " 846: 'Flirt (1995)',\n",
       " 848: 'Spitfire Grill, The (1996)',\n",
       " 849: 'Escape from L.A. (1996)',\n",
       " 850: 'Cyclo (Xich lo) (1995)',\n",
       " 851: 'Basquiat (1996)',\n",
       " 852: 'Tin Cup (1996)',\n",
       " 854: 'Ballad of Narayama, The (Narayama Bushiko) (1958)',\n",
       " 858: 'Godfather, The (1972)',\n",
       " 861: 'Supercop (Police Story 3: Supercop) (Jing cha gu shi III: Chao ji jing cha) (1992)',\n",
       " 864: 'Wife, The (1995)',\n",
       " 865: 'Small Faces (1996)',\n",
       " 866: 'Bound (1996)',\n",
       " 867: 'Carpool (1996)',\n",
       " 869: 'Kansas City (1996)',\n",
       " 870: \"Gone Fishin' (1997)\",\n",
       " 872: \"Vive L'Amour (Ai qing wan sui) (1994)\",\n",
       " 875: 'Nothing to Lose (1994)',\n",
       " 876: 'Supercop 2 (Project S) (Chao ji ji hua) (1993)',\n",
       " 879: 'Relic, The (1997)',\n",
       " 880: 'Island of Dr. Moreau, The (1996)',\n",
       " 881: 'First Kid (1996)',\n",
       " 882: 'Trigger Effect, The (1996)',\n",
       " 885: 'Bogus (1996)',\n",
       " 886: 'Bulletproof (1996)',\n",
       " 888: 'Land Before Time III: The Time of the Great Giving (1995)',\n",
       " 889: '1-900 (06) (1994)',\n",
       " 891: 'Halloween: The Curse of Michael Myers (Halloween 6: The Curse of Michael Myers) (1995)',\n",
       " 892: 'Twelfth Night (1996)',\n",
       " 893: 'Mother Night (1996)',\n",
       " 896: 'Wild Reeds (Les roseaux sauvages) (1994)',\n",
       " 897: 'For Whom the Bell Tolls (1943)',\n",
       " 898: 'Philadelphia Story, The (1940)',\n",
       " 899: \"Singin' in the Rain (1952)\",\n",
       " 900: 'American in Paris, An (1951)',\n",
       " 901: 'Funny Face (1957)',\n",
       " 902: \"Breakfast at Tiffany's (1961)\",\n",
       " 903: 'Vertigo (1958)',\n",
       " 904: 'Rear Window (1954)',\n",
       " 905: 'It Happened One Night (1934)',\n",
       " 906: 'Gaslight (1944)',\n",
       " 907: 'Gay Divorcee, The (1934)',\n",
       " 908: 'North by Northwest (1959)',\n",
       " 909: 'Apartment, The (1960)',\n",
       " 910: 'Some Like It Hot (1959)',\n",
       " 911: 'Charade (1963)',\n",
       " 912: 'Casablanca (1942)',\n",
       " 913: 'Maltese Falcon, The (1941)',\n",
       " 914: 'My Fair Lady (1964)',\n",
       " 915: 'Sabrina (1954)',\n",
       " 916: 'Roman Holiday (1953)',\n",
       " 917: 'Little Princess, The (1939)',\n",
       " 918: 'Meet Me in St. Louis (1944)',\n",
       " 919: 'Wizard of Oz, The (1939)',\n",
       " 920: 'Gone with the Wind (1939)',\n",
       " 921: 'My Favorite Year (1982)',\n",
       " 922: 'Sunset Blvd. (a.k.a. Sunset Boulevard) (1950)',\n",
       " 923: 'Citizen Kane (1941)',\n",
       " 924: '2001: A Space Odyssey (1968)',\n",
       " 926: 'All About Eve (1950)',\n",
       " 927: 'Women, The (1939)',\n",
       " 928: 'Rebecca (1940)',\n",
       " 929: 'Foreign Correspondent (1940)',\n",
       " 930: 'Notorious (1946)',\n",
       " 931: 'Spellbound (1945)',\n",
       " 932: 'Affair to Remember, An (1957)',\n",
       " 933: 'To Catch a Thief (1955)',\n",
       " 934: 'Father of the Bride (1950)',\n",
       " 935: 'Band Wagon, The (1953)',\n",
       " 936: 'Ninotchka (1939)',\n",
       " 937: 'Love in the Afternoon (1957)',\n",
       " 938: 'Gigi (1958)',\n",
       " 939: 'Reluctant Debutante, The (1958)',\n",
       " 940: 'Adventures of Robin Hood, The (1938)',\n",
       " 941: 'Mark of Zorro, The (1940)',\n",
       " 942: 'Laura (1944)',\n",
       " 943: 'Ghost and Mrs. Muir, The (1947)',\n",
       " 944: 'Lost Horizon (1937)',\n",
       " 945: 'Top Hat (1935)',\n",
       " 946: 'To Be or Not to Be (1942)',\n",
       " 947: 'My Man Godfrey (1936)',\n",
       " 948: 'Giant (1956)',\n",
       " 949: 'East of Eden (1955)',\n",
       " 950: 'Thin Man, The (1934)',\n",
       " 951: 'His Girl Friday (1940)',\n",
       " 952: 'Around the World in 80 Days (1956)',\n",
       " 953: \"It's a Wonderful Life (1946)\",\n",
       " 954: 'Mr. Smith Goes to Washington (1939)',\n",
       " 955: 'Bringing Up Baby (1938)',\n",
       " 956: 'Penny Serenade (1941)',\n",
       " 957: 'Scarlet Letter, The (1926)',\n",
       " 960: 'Angel on My Shoulder (1946)',\n",
       " 961: 'Little Lord Fauntleroy (1936)',\n",
       " 962: 'They Made Me a Criminal (1939)',\n",
       " 963: 'Inspector General, The (1949)',\n",
       " 964: 'Angel and the Badman (1947)',\n",
       " 965: '39 Steps, The (1935)',\n",
       " 966: 'A Walk in the Sun (1945)',\n",
       " 968: 'Night of the Living Dead (1968)',\n",
       " 969: 'African Queen, The (1951)',\n",
       " 970: 'Beat the Devil (1953)',\n",
       " 971: 'Cat on a Hot Tin Roof (1958)',\n",
       " 972: 'Last Time I Saw Paris, The (1954)',\n",
       " 973: 'Meet John Doe (1941)',\n",
       " 976: 'Farewell to Arms, A (1932)',\n",
       " 980: 'Yes, Madam (a.k.a. Police Assassins) (a.k.a. In the Line of Duty 2) (Huang gu shi jie) (1985)',\n",
       " 981: 'Dangerous Ground (1997)',\n",
       " 982: 'Picnic (1955)',\n",
       " 984: 'Pompatus of Love, The (1996)',\n",
       " 986: 'Fly Away Home (1996)',\n",
       " 987: 'Bliss (1997)',\n",
       " 988: 'Grace of My Heart (1996)',\n",
       " 990: 'Maximum Risk (1996)',\n",
       " 991: 'Michael Collins (1996)',\n",
       " 992: \"Rich Man's Wife, The (1996)\",\n",
       " 994: 'Big Night (1996)',\n",
       " 996: 'Last Man Standing (1996)',\n",
       " 997: 'Caught (1996)',\n",
       " 998: 'Set It Off (1996)',\n",
       " 999: '2 Days in the Valley (1996)',\n",
       " 1003: 'Extreme Measures (1996)',\n",
       " 1004: 'Glimmer Man, The (1996)',\n",
       " 1005: 'D3: The Mighty Ducks (1996)',\n",
       " 1006: 'Chamber, The (1996)',\n",
       " 1007: 'Apple Dumpling Gang, The (1975)',\n",
       " 1008: 'Davy Crockett, King of the Wild Frontier (1955)',\n",
       " 1009: 'Escape to Witch Mountain (1975)',\n",
       " 1010: 'Love Bug, The (1969)',\n",
       " 1011: 'Herbie Rides Again (1974)',\n",
       " 1012: 'Old Yeller (1957)',\n",
       " 1013: 'Parent Trap, The (1961)',\n",
       " 1014: 'Pollyanna (1960)',\n",
       " 1015: 'Homeward Bound: The Incredible Journey (1993)',\n",
       " 1016: 'Shaggy Dog, The (1959)',\n",
       " 1017: 'Swiss Family Robinson (1960)',\n",
       " 1018: 'That Darn Cat! (1965)',\n",
       " 1019: '20,000 Leagues Under the Sea (1954)',\n",
       " 1020: 'Cool Runnings (1993)',\n",
       " 1021: 'Angels in the Outfield (1994)',\n",
       " 1022: 'Cinderella (1950)',\n",
       " 1023: 'Winnie the Pooh and the Blustery Day (1968)',\n",
       " 1024: 'Three Caballeros, The (1945)',\n",
       " 1025: 'Sword in the Stone, The (1963)',\n",
       " 1026: 'So Dear to My Heart (1949)',\n",
       " 1027: 'Robin Hood: Prince of Thieves (1991)',\n",
       " 1028: 'Mary Poppins (1964)',\n",
       " 1029: 'Dumbo (1941)',\n",
       " 1030: \"Pete's Dragon (1977)\",\n",
       " 1031: 'Bedknobs and Broomsticks (1971)',\n",
       " 1032: 'Alice in Wonderland (1951)',\n",
       " 1033: 'Fox and the Hound, The (1981)',\n",
       " 1034: 'Freeway (1996)',\n",
       " 1035: 'Sound of Music, The (1965)',\n",
       " 1036: 'Die Hard (1988)',\n",
       " 1037: 'Lawnmower Man, The (1992)',\n",
       " 1040: 'Secret Agent, The (1996)',\n",
       " 1041: 'Secrets & Lies (1996)',\n",
       " 1042: 'That Thing You Do! (1996)',\n",
       " 1043: 'To Gillian on Her 37th Birthday (1996)',\n",
       " 1044: 'Surviving Picasso (1996)',\n",
       " 1046: 'Beautiful Thing (1996)',\n",
       " 1047: 'Long Kiss Goodnight, The (1996)',\n",
       " 1049: 'Ghost and the Darkness, The (1996)',\n",
       " 1050: 'Looking for Richard (1996)',\n",
       " 1051: 'Trees Lounge (1996)',\n",
       " 1053: 'Normal Life (1996)',\n",
       " 1054: 'Get on the Bus (1996)',\n",
       " 1055: 'Shadow Conspiracy (1997)',\n",
       " 1056: 'Jude (1996)',\n",
       " 1057: 'Everyone Says I Love You (1996)',\n",
       " 1059: \"William Shakespeare's Romeo + Juliet (1996)\",\n",
       " 1060: 'Swingers (1996)',\n",
       " 1061: 'Sleepers (1996)',\n",
       " 1063: 'Johns (1996)',\n",
       " 1064: 'Aladdin and the King of Thieves (1996)',\n",
       " 1066: 'Shall We Dance (1937)',\n",
       " 1067: 'Damsel in Distress, A (1937)',\n",
       " 1068: 'Crossfire (1947)',\n",
       " 1069: 'Murder, My Sweet (1944)',\n",
       " 1073: 'Willy Wonka & the Chocolate Factory (1971)',\n",
       " 1076: 'Innocents, The (1961)',\n",
       " 1077: 'Sleeper (1973)',\n",
       " 1078: 'Bananas (1971)',\n",
       " 1079: 'Fish Called Wanda, A (1988)',\n",
       " 1080: \"Monty Python's Life of Brian (1979)\",\n",
       " 1081: 'Victor/Victoria (1982)',\n",
       " 1082: 'Candidate, The (1972)',\n",
       " 1083: 'Great Race, The (1965)',\n",
       " 1084: 'Bonnie and Clyde (1967)',\n",
       " 1085: 'Old Man and the Sea, The (1958)',\n",
       " 1086: 'Dial M for Murder (1954)',\n",
       " 1087: 'Madame Butterfly (1995)',\n",
       " 1088: 'Dirty Dancing (1987)',\n",
       " 1089: 'Reservoir Dogs (1992)',\n",
       " 1090: 'Platoon (1986)',\n",
       " 1091: \"Weekend at Bernie's (1989)\",\n",
       " 1092: 'Basic Instinct (1992)',\n",
       " 1093: 'Doors, The (1991)',\n",
       " 1094: 'Crying Game, The (1992)',\n",
       " 1095: 'Glengarry Glen Ross (1992)',\n",
       " 1096: \"Sophie's Choice (1982)\",\n",
       " 1097: 'E.T. the Extra-Terrestrial (1982)',\n",
       " 1099: 'Christmas Carol, A (1938)',\n",
       " 1100: 'Days of Thunder (1990)',\n",
       " 1101: 'Top Gun (1986)',\n",
       " 1103: 'Rebel Without a Cause (1955)',\n",
       " 1104: 'Streetcar Named Desire, A (1951)',\n",
       " 1105: 'Children of the Corn IV: The Gathering (1996)',\n",
       " 1111: \"Microcosmos (Microcosmos: Le peuple de l'herbe) (1996)\",\n",
       " 1112: 'Palookaville (1996)',\n",
       " 1113: 'Associate, The (1996)',\n",
       " 1114: 'Funeral, The (1996)',\n",
       " 1120: 'People vs. Larry Flynt, The (1996)',\n",
       " 1123: 'Perfect Candidate, A (1996)',\n",
       " 1124: 'On Golden Pond (1981)',\n",
       " 1125: 'Return of the Pink Panther, The (1975)',\n",
       " 1126: 'Drop Dead Fred (1991)',\n",
       " 1127: 'Abyss, The (1989)',\n",
       " 1128: 'Fog, The (1980)',\n",
       " 1129: 'Escape from New York (1981)',\n",
       " 1130: 'Howling, The (1980)',\n",
       " 1131: 'Jean de Florette (1986)',\n",
       " 1132: 'Manon of the Spring (Manon des sources) (1986)',\n",
       " 1133: 'Talking About Sex (1994)',\n",
       " 1135: 'Private Benjamin (1980)',\n",
       " 1136: 'Monty Python and the Holy Grail (1975)',\n",
       " 1137: 'Hustler White (1996)',\n",
       " 1145: 'Snowriders (1996)',\n",
       " 1147: 'When We Were Kings (1996)',\n",
       " 1148: 'Wallace & Gromit: The Wrong Trousers (1993)',\n",
       " 1150: 'Return of Martin Guerre, The (Retour de Martin Guerre, Le) (1982)',\n",
       " 1151: 'Lesson Faust (1994)',\n",
       " 1152: 'He Walked by Night (1948)',\n",
       " 1153: 'Raw Deal (1948)',\n",
       " 1154: 'T-Men (1947)',\n",
       " 1161: 'Tin Drum, The (Blechtrommel, Die) (1979)',\n",
       " 1162: 'Ruling Class, The (1972)',\n",
       " 1163: 'Mina Tannenbaum (1994)',\n",
       " 1164: \"2 ou 3 choses que je sais d'elle (2 or 3 Things I Know About Her) (1967)\",\n",
       " 1165: 'Bloody Child, The (1996)',\n",
       " 1167: 'Dear God (1996)',\n",
       " 1168: 'Bad Moon (1996)',\n",
       " 1169: 'American Dream (1990)',\n",
       " 1171: 'Bob Roberts (1992)',\n",
       " 1172: 'Cinema Paradiso (Nuovo cinema Paradiso) (1989)',\n",
       " 1173: 'Cook the Thief His Wife & Her Lover, The (1989)',\n",
       " 1174: 'Dead Tired (Grosse Fatigue) (1994)',\n",
       " 1175: 'Delicatessen (1991)',\n",
       " 1176: 'Double Life of Veronique, The (Double Vie de Véronique, La) (1991)',\n",
       " 1177: 'Enchanted April (1992)',\n",
       " 1178: 'Paths of Glory (1957)',\n",
       " 1179: 'Grifters, The (1990)',\n",
       " 1180: 'Hear My Song (1991)',\n",
       " 1181: 'Shooter, The (1997)',\n",
       " 1183: 'English Patient, The (1996)',\n",
       " 1184: 'Mediterraneo (1991)',\n",
       " 1185: 'My Left Foot (1989)',\n",
       " 1186: 'Sex, Lies, and Videotape (1989)',\n",
       " 1187: 'Passion Fish (1992)',\n",
       " 1188: 'Strictly Ballroom (1992)',\n",
       " 1189: 'Thin Blue Line, The (1988)',\n",
       " 1190: 'Tie Me Up! Tie Me Down! (¡Átame!) (1990)',\n",
       " 1191: 'Madonna: Truth or Dare (1991)',\n",
       " 1192: 'Paris Is Burning (1990)',\n",
       " 1193: \"One Flew Over the Cuckoo's Nest (1975)\",\n",
       " 1194: \"Cheech and Chong's Up in Smoke (1978)\",\n",
       " 1196: 'Star Wars: Episode V - The Empire Strikes Back (1980)',\n",
       " 1197: 'Princess Bride, The (1987)',\n",
       " 1198: 'Raiders of the Lost Ark (Indiana Jones and the Raiders of the Lost Ark) (1981)',\n",
       " 1199: 'Brazil (1985)',\n",
       " 1200: 'Aliens (1986)',\n",
       " 1201: 'Good, the Bad and the Ugly, The (Buono, il brutto, il cattivo, Il) (1966)',\n",
       " 1202: 'Withnail & I (1987)',\n",
       " 1203: '12 Angry Men (1957)',\n",
       " 1204: 'Lawrence of Arabia (1962)',\n",
       " 1206: 'Clockwork Orange, A (1971)',\n",
       " 1207: 'To Kill a Mockingbird (1962)',\n",
       " 1208: 'Apocalypse Now (1979)',\n",
       " 1209: \"Once Upon a Time in the West (C'era una volta il West) (1968)\",\n",
       " 1210: 'Star Wars: Episode VI - Return of the Jedi (1983)',\n",
       " 1211: 'Wings of Desire (Himmel über Berlin, Der) (1987)',\n",
       " 1212: 'Third Man, The (1949)',\n",
       " 1213: 'Goodfellas (1990)',\n",
       " 1214: 'Alien (1979)',\n",
       " 1215: 'Army of Darkness (1993)',\n",
       " 1216: 'Big Blue, The (Grand bleu, Le) (1988)',\n",
       " 1217: 'Ran (1985)',\n",
       " 1218: 'Killer, The (Die xue shuang xiong) (1989)',\n",
       " 1219: 'Psycho (1960)',\n",
       " 1220: 'Blues Brothers, The (1980)',\n",
       " 1221: 'Godfather: Part II, The (1974)',\n",
       " 1222: 'Full Metal Jacket (1987)',\n",
       " 1223: 'Grand Day Out with Wallace and Gromit, A (1989)',\n",
       " 1224: 'Henry V (1989)',\n",
       " 1225: 'Amadeus (1984)',\n",
       " 1226: 'Quiet Man, The (1952)',\n",
       " 1227: 'Once Upon a Time in America (1984)',\n",
       " 1228: 'Raging Bull (1980)',\n",
       " 1230: 'Annie Hall (1977)',\n",
       " 1231: 'Right Stuff, The (1983)',\n",
       " 1232: 'Stalker (1979)',\n",
       " 1233: 'Boot, Das (Boat, The) (1981)',\n",
       " 1234: 'Sting, The (1973)',\n",
       " 1235: 'Harold and Maude (1971)',\n",
       " 1236: 'Trust (1990)',\n",
       " 1237: 'Seventh Seal, The (Sjunde inseglet, Det) (1957)',\n",
       " 1238: 'Local Hero (1983)',\n",
       " 1240: 'Terminator, The (1984)',\n",
       " 1241: 'Dead Alive (Braindead) (1992)',\n",
       " 1242: 'Glory (1989)',\n",
       " 1243: 'Rosencrantz and Guildenstern Are Dead (1990)',\n",
       " 1244: 'Manhattan (1979)',\n",
       " 1245: \"Miller's Crossing (1990)\",\n",
       " ...}"
      ]
     },
     "execution_count": 18,
     "metadata": {},
     "output_type": "execute_result"
    }
   ],
   "source": [
    "movie_names = movies.set_index('movieId')['title'].to_dict(); movie_names"
   ]
  },
  {
   "cell_type": "markdown",
   "metadata": {},
   "source": [
    "Movies that have the most number of user ratings"
   ]
  },
  {
   "cell_type": "code",
   "execution_count": 69,
   "metadata": {
    "hidden": true
   },
   "outputs": [
    {
     "data": {
      "text/plain": [
       "array([   356,    296,    318, ...,  26480,  26485, 163949])"
      ]
     },
     "execution_count": 69,
     "metadata": {},
     "output_type": "execute_result"
    }
   ],
   "source": [
    "g=ratings.groupby('movieId')['rating'].count()\n",
    "topMovies=g.sort_values(ascending=False).index.values #[:3000]\n",
    "topMovies\n",
    "#[cf.item2idx[o] for o in topMovies][:10]"
   ]
  },
  {
   "cell_type": "code",
   "execution_count": 70,
   "metadata": {},
   "outputs": [
    {
     "data": {
      "text/plain": [
       "['Hair (1979)',\n",
       " 'Luna, La (1979)',\n",
       " 'Starting Over (1979)',\n",
       " 'Bad Boys (1983)',\n",
       " 'Blue Thunder (1983)',\n",
       " 'Day After, The (1983)',\n",
       " 'Eddie Murphy Delirious (1983)',\n",
       " 'Raiders of Atlantis, The (1983)',\n",
       " 'Rumble Fish (1983)',\n",
       " 'The Beatles: Eight Days a Week - The Touring Years (2016)']"
      ]
     },
     "execution_count": 70,
     "metadata": {},
     "output_type": "execute_result"
    }
   ],
   "source": [
    "[movie_names[i] for i in topMovies][-10:]"
   ]
  },
  {
   "cell_type": "code",
   "execution_count": 19,
   "metadata": {
    "hidden": true
   },
   "outputs": [
    {
     "data": {
      "text/plain": [
       "array([  57,   49,   99, ...,  668, 4252, 4213])"
      ]
     },
     "execution_count": 19,
     "metadata": {},
     "output_type": "execute_result"
    }
   ],
   "source": [
    "topMovieIdx = np.array([cf.item2idx[o] for o in topMovies])\n",
    "topMovieIdx"
   ]
  },
  {
   "cell_type": "markdown",
   "metadata": {},
   "source": [
    "To look at the model architecture, call `learn.models.model` or its shortcut `learn.model`"
   ]
  },
  {
   "cell_type": "code",
   "execution_count": 43,
   "metadata": {},
   "outputs": [
    {
     "data": {
      "text/plain": [
       "EmbeddingDotBias(\n",
       "  (u): Embedding(671, 50)\n",
       "  (i): Embedding(9066, 50)\n",
       "  (ub): Embedding(671, 1)\n",
       "  (ib): Embedding(9066, 1)\n",
       ")"
      ]
     },
     "execution_count": 43,
     "metadata": {},
     "output_type": "execute_result"
    }
   ],
   "source": [
    "learn.model"
   ]
  },
  {
   "cell_type": "code",
   "execution_count": 47,
   "metadata": {
    "hidden": true
   },
   "outputs": [],
   "source": [
    "m=learn.model"
   ]
  },
  {
   "cell_type": "markdown",
   "metadata": {},
   "source": [
    "Note that if you want to put the model in cpu (e.g. to make a prediction after the model is trained) call m.cpu(). To put it back on gpu, call m.cuda()"
   ]
  },
  {
   "cell_type": "code",
   "execution_count": 59,
   "metadata": {},
   "outputs": [
    {
     "data": {
      "text/plain": [
       "Variable containing:\n",
       " 0.8270\n",
       " 0.9176\n",
       " 1.2692\n",
       "   ⋮    \n",
       " 0.3153\n",
       "-0.0025\n",
       " 0.1652\n",
       "[torch.FloatTensor of size 3000x1]"
      ]
     },
     "execution_count": 59,
     "metadata": {},
     "output_type": "execute_result"
    }
   ],
   "source": [
    "m.cpu().ib(V(topMovieIdx).cpu()) "
   ]
  },
  {
   "cell_type": "markdown",
   "metadata": {},
   "source": [
    "Now we put the m back on GPU"
   ]
  },
  {
   "cell_type": "code",
   "execution_count": 61,
   "metadata": {},
   "outputs": [
    {
     "data": {
      "text/plain": [
       "EmbeddingDotBias(\n",
       "  (u): Embedding(671, 50)\n",
       "  (i): Embedding(9066, 50)\n",
       "  (ub): Embedding(671, 1)\n",
       "  (ib): Embedding(9066, 1)\n",
       ")"
      ]
     },
     "execution_count": 61,
     "metadata": {},
     "output_type": "execute_result"
    }
   ],
   "source": [
    "m.cuda()"
   ]
  },
  {
   "cell_type": "markdown",
   "metadata": {
    "hidden": true
   },
   "source": [
    "First, we'll look at the movie bias term. Here, our input is the movie id (a single id), and the output is the movie bias (a single float)."
   ]
  },
  {
   "cell_type": "code",
   "execution_count": 45,
   "metadata": {},
   "outputs": [
    {
     "data": {
      "text/plain": [
       "array([  57,   49,   99, ...,  668, 4252, 4213])"
      ]
     },
     "execution_count": 45,
     "metadata": {},
     "output_type": "execute_result"
    }
   ],
   "source": [
    "topMovieIdx"
   ]
  },
  {
   "cell_type": "markdown",
   "metadata": {},
   "source": [
    "Passing an array of movie indexes `topMovieIdx` through the bias Embedding `m.ib` will pull out the bias for each movie. This is like a look-up dictionary `(ib): Embedding(9066, 1)`."
   ]
  },
  {
   "cell_type": "code",
   "execution_count": 62,
   "metadata": {
    "hidden": true
   },
   "outputs": [],
   "source": [
    "movie_bias = to_np(m.ib(V(topMovieIdx)))"
   ]
  },
  {
   "cell_type": "code",
   "execution_count": null,
   "metadata": {},
   "outputs": [],
   "source": [
    "def to_np(v):\n",
    "    '''returns an np.array object given an input of np.array, list, tuple, torch variable or tensor.'''\n",
    "    if isinstance(v, (np.ndarray, np.generic)): return v\n",
    "    if isinstance(v, (list,tuple)): return [to_np(o) for o in v]\n",
    "    if isinstance(v, Variable): v=v.data\n",
    "    if isinstance(v, torch.cuda.HalfTensor): v=v.float()\n",
    "    return v.cpu().numpy() # puts things on cpu and change to np"
   ]
  },
  {
   "cell_type": "code",
   "execution_count": 63,
   "metadata": {
    "hidden": true
   },
   "outputs": [
    {
     "data": {
      "text/plain": [
       "array([[ 0.82702],\n",
       "       [ 0.91763],\n",
       "       [ 1.26921],\n",
       "       ...,\n",
       "       [ 0.3153 ],\n",
       "       [-0.00253],\n",
       "       [ 0.16524]], dtype=float32)"
      ]
     },
     "execution_count": 63,
     "metadata": {},
     "output_type": "execute_result"
    }
   ],
   "source": [
    "movie_bias"
   ]
  },
  {
   "cell_type": "code",
   "execution_count": 64,
   "metadata": {
    "hidden": true
   },
   "outputs": [],
   "source": [
    "movie_ratings = [(b[0], movie_names[i]) for i,b in zip(topMovies,movie_bias)]"
   ]
  },
  {
   "cell_type": "markdown",
   "metadata": {
    "hidden": true
   },
   "source": [
    "Now we can look at the top and bottom rated movies. These ratings are corrected for different levels of reviewer sentiment, as well as different types of movies that different reviewers watch.  \n",
    "Since movie_ratings is a tuple with 2 elements, we can sort it this way"
   ]
  },
  {
   "cell_type": "code",
   "execution_count": 66,
   "metadata": {},
   "outputs": [
    {
     "data": {
      "text/plain": [
       "[(-0.9584071, 'Battlefield Earth (2000)'),\n",
       " (-0.7956044, 'Wild Wild West (1999)'),\n",
       " (-0.7594863, 'Speed 2: Cruise Control (1997)'),\n",
       " (-0.7262106, 'Anaconda (1997)'),\n",
       " (-0.7143692, 'Mighty Morphin Power Rangers: The Movie (1995)'),\n",
       " (-0.640052, 'Super Mario Bros. (1993)'),\n",
       " (-0.63555425, 'Superman III (1983)'),\n",
       " (-0.62459457, 'Inspector Gadget (1999)'),\n",
       " (-0.6124194, 'Avengers, The (1998)'),\n",
       " (-0.6037861, 'Batman & Robin (1997)'),\n",
       " (-0.5988371, 'Little Nicky (2000)'),\n",
       " (-0.58628285, 'Honey, I Blew Up the Kid (1992)'),\n",
       " (-0.5764471, 'Karate Kid, Part III, The (1989)'),\n",
       " (-0.5733391, 'Congo (1995)'),\n",
       " (-0.57150364, 'Haunting, The (1999)')]"
      ]
     },
     "execution_count": 66,
     "metadata": {},
     "output_type": "execute_result"
    }
   ],
   "source": [
    "sorted(movie_ratings, key=lambda o: o[0])[:15]"
   ]
  },
  {
   "cell_type": "markdown",
   "metadata": {},
   "source": [
    "Jeremy claimed that 'Battlefield Earth' is the most movies of all times, but seems wrong. THese are the 3000 movies with the most number of ratings (proxy for high box office?), and this movie has the worest bias. So its actually the most watched but worstly rated movies of all times."
   ]
  },
  {
   "cell_type": "code",
   "execution_count": 67,
   "metadata": {
    "hidden": true
   },
   "outputs": [
    {
     "data": {
      "text/plain": [
       "[(1.2692107, 'Shawshank Redemption, The (1994)'),\n",
       " (1.1591821, 'Godfather, The (1972)'),\n",
       " (1.0386945, 'Usual Suspects, The (1995)'),\n",
       " (0.95561165, '12 Angry Men (1957)'),\n",
       " (0.9503766, 'Godfather: Part II, The (1974)'),\n",
       " (0.917628, 'Pulp Fiction (1994)'),\n",
       " (0.88231146, 'Fargo (1996)'),\n",
       " (0.87726283, 'Silence of the Lambs, The (1991)'),\n",
       " (0.8702674, 'Matrix, The (1999)'),\n",
       " (0.8692416, 'To Kill a Mockingbird (1962)'),\n",
       " (0.8662901, 'Princess Bride, The (1987)'),\n",
       " (0.86249304, \"Schindler's List (1993)\"),\n",
       " (0.8615817, 'Rear Window (1954)'),\n",
       " (0.85153574, 'North by Northwest (1959)'),\n",
       " (0.8406066, 'Dark Knight, The (2008)')]"
      ]
     },
     "execution_count": 67,
     "metadata": {},
     "output_type": "execute_result"
    }
   ],
   "source": [
    "sorted(movie_ratings, key=lambda o: o[0], reverse=True)[:15]"
   ]
  },
  {
   "cell_type": "markdown",
   "metadata": {
    "heading_collapsed": true
   },
   "source": [
    "### Embedding interpretation"
   ]
  },
  {
   "cell_type": "markdown",
   "metadata": {
    "hidden": true
   },
   "source": [
    "We can now do the same thing for the embeddings."
   ]
  },
  {
   "cell_type": "code",
   "execution_count": 95,
   "metadata": {
    "hidden": true
   },
   "outputs": [
    {
     "data": {
      "text/plain": [
       "(3000, 50)"
      ]
     },
     "execution_count": 95,
     "metadata": {},
     "output_type": "execute_result"
    }
   ],
   "source": [
    "movie_emb = to_np(m.i(V(topMovieIdx)))\n",
    "movie_emb.shape"
   ]
  },
  {
   "cell_type": "markdown",
   "metadata": {
    "hidden": true
   },
   "source": [
    "Because it's hard to interpret 50 embeddings, we use [PCA](https://plot.ly/ipython-notebooks/principal-component-analysis/) to simplify them down to just 3 vectors. "
   ]
  },
  {
   "cell_type": "code",
   "execution_count": 96,
   "metadata": {
    "hidden": true
   },
   "outputs": [],
   "source": [
    "from sklearn.decomposition import PCA\n",
    "pca = PCA(n_components=3)\n",
    "movie_pca = pca.fit(movie_emb.T).components_"
   ]
  },
  {
   "cell_type": "code",
   "execution_count": 97,
   "metadata": {
    "hidden": true
   },
   "outputs": [
    {
     "data": {
      "text/plain": [
       "(3, 3000)"
      ]
     },
     "execution_count": 97,
     "metadata": {},
     "output_type": "execute_result"
    }
   ],
   "source": [
    "movie_pca.shape"
   ]
  },
  {
   "cell_type": "code",
   "execution_count": 98,
   "metadata": {
    "hidden": true
   },
   "outputs": [],
   "source": [
    "fac0 = movie_pca[0]\n",
    "movie_comp = [(f, movie_names[i]) for f,i in zip(fac0, topMovies)]"
   ]
  },
  {
   "cell_type": "markdown",
   "metadata": {
    "hidden": true
   },
   "source": [
    "Here's the 1st component. It seems to be 'easy watching' vs 'serious'."
   ]
  },
  {
   "cell_type": "code",
   "execution_count": 99,
   "metadata": {
    "hidden": true
   },
   "outputs": [
    {
     "data": {
      "text/plain": [
       "[(0.06356802, 'Cube (1997)'),\n",
       " (0.06247188, 'Gold Rush, The (1925)'),\n",
       " (0.053579386, 'Femme Nikita, La (Nikita) (1990)'),\n",
       " (0.05328588, 'I Love You, Man (2009)'),\n",
       " (0.051103517, 'October Sky (1999)'),\n",
       " (0.049606748, 'Harry Potter and the Chamber of Secrets (2002)'),\n",
       " (0.04945577, 'Scooby-Doo (2002)'),\n",
       " (0.049319476, 'Downfall (Untergang, Der) (2004)'),\n",
       " (0.04896426, '12 Years a Slave (2013)'),\n",
       " (0.048555806, 'Surrogates (2009)')]"
      ]
     },
     "execution_count": 99,
     "metadata": {},
     "output_type": "execute_result"
    }
   ],
   "source": [
    "sorted(movie_comp, key=itemgetter(0), reverse=True)[:10]"
   ]
  },
  {
   "cell_type": "code",
   "execution_count": 100,
   "metadata": {
    "hidden": true
   },
   "outputs": [
    {
     "data": {
      "text/plain": [
       "[(-0.057844568, 'Imaginarium of Doctor Parnassus, The (2009)'),\n",
       " (-0.05661865, 'Parent Trap, The (1998)'),\n",
       " (-0.05456287, 'Panic Room (2002)'),\n",
       " (-0.054223236, 'Lars and the Real Girl (2007)'),\n",
       " (-0.0537095, \"Jesus' Son (1999)\"),\n",
       " (-0.053356286, \"Bill & Ted's Excellent Adventure (1989)\"),\n",
       " (-0.053028107, 'Outbreak (1995)'),\n",
       " (-0.052619267, 'Animal House (1978)'),\n",
       " (-0.052410144, 'Avatar (2009)'),\n",
       " (-0.052295, 'Waiting for Guffman (1996)')]"
      ]
     },
     "execution_count": 100,
     "metadata": {},
     "output_type": "execute_result"
    }
   ],
   "source": [
    "sorted(movie_comp, key=itemgetter(0))[:10]"
   ]
  },
  {
   "cell_type": "code",
   "execution_count": 101,
   "metadata": {
    "hidden": true
   },
   "outputs": [],
   "source": [
    "fac1 = movie_pca[1]\n",
    "movie_comp = [(f, movie_names[i]) for f,i in zip(fac1, topMovies)]"
   ]
  },
  {
   "cell_type": "markdown",
   "metadata": {
    "hidden": true
   },
   "source": [
    "Here's the 2nd component. It seems to be 'CGI' vs 'dialog driven'."
   ]
  },
  {
   "cell_type": "code",
   "execution_count": 102,
   "metadata": {
    "hidden": true
   },
   "outputs": [
    {
     "data": {
      "text/plain": [
       "[(0.05548163, 'Accused, The (1988)'),\n",
       " (0.054395366, 'Tears of the Sun (2003)'),\n",
       " (0.05285003, 'Dead Again (1991)'),\n",
       " (0.04942377, 'Dick Tracy (1990)'),\n",
       " (0.04925513, 'Benji (1974)'),\n",
       " (0.04886526, 'Love Actually (2003)'),\n",
       " (0.04791024, 'Along Came Polly (2004)'),\n",
       " (0.047210958, '50/50 (2011)'),\n",
       " (0.04552338, 'Help, The (2011)'),\n",
       " (0.045424614, 'Honey, I Shrunk the Kids (1989)')]"
      ]
     },
     "execution_count": 102,
     "metadata": {},
     "output_type": "execute_result"
    }
   ],
   "source": [
    "sorted(movie_comp, key=itemgetter(0), reverse=True)[:10]"
   ]
  },
  {
   "cell_type": "code",
   "execution_count": 103,
   "metadata": {
    "hidden": true
   },
   "outputs": [
    {
     "data": {
      "text/plain": [
       "[(-0.061750308, 'Touching the Void (2003)'),\n",
       " (-0.055197097, 'Cemetery Man (Dellamorte Dellamore) (1994)'),\n",
       " (-0.053384606, 'Kiss Kiss Bang Bang (2005)'),\n",
       " (-0.053169347, 'Slap Shot (1977)'),\n",
       " (-0.053100374, 'Blue Lagoon, The (1980)'),\n",
       " (-0.05299171, 'Blazing Saddles (1974)'),\n",
       " (-0.050142042, 'Elephant Man, The (1980)'),\n",
       " (-0.049057245, 'Big Trouble in Little China (1986)'),\n",
       " (-0.04688569, 'Ant-Man (2015)'),\n",
       " (-0.045081962, 'Bitter Moon (1992)')]"
      ]
     },
     "execution_count": 103,
     "metadata": {},
     "output_type": "execute_result"
    }
   ],
   "source": [
    "sorted(movie_comp, key=itemgetter(0))[:10]"
   ]
  },
  {
   "cell_type": "markdown",
   "metadata": {
    "hidden": true
   },
   "source": [
    "We can draw a picture to see how various movies appear on the map of these components. This picture shows the first two components."
   ]
  },
  {
   "cell_type": "code",
   "execution_count": 104,
   "metadata": {
    "hidden": true,
    "scrolled": false
   },
   "outputs": [
    {
     "data": {
      "image/png": "[encoded data removed]",
      "text/plain": [
       "<Figure size 1080x1080 with 1 Axes>"
      ]
     },
     "metadata": {},
     "output_type": "display_data"
    }
   ],
   "source": [
    "idxs = np.random.choice(len(topMovies), 50, replace=False)\n",
    "X = fac0[idxs]\n",
    "Y = fac1[idxs]\n",
    "plt.figure(figsize=(15,15))\n",
    "plt.scatter(X, Y)\n",
    "for i, x, y in zip(topMovies[idxs], X, Y):\n",
    "    plt.text(x,y,movie_names[i], color=np.random.rand(3)*0.7, fontsize=11)\n",
    "plt.show()"
   ]
  },
  {
   "cell_type": "markdown",
   "metadata": {},
   "source": [
    "## Collab filtering from scratch"
   ]
  },
  {
   "cell_type": "markdown",
   "metadata": {
    "heading_collapsed": true
   },
   "source": [
    "### Dot product example"
   ]
  },
  {
   "cell_type": "code",
   "execution_count": 8,
   "metadata": {
    "hidden": true
   },
   "outputs": [
    {
     "data": {
      "text/plain": [
       "(\n",
       "  1  2\n",
       "  3  4\n",
       " [torch.cuda.FloatTensor of size 2x2 (GPU 0)], \n",
       "   2   2\n",
       "  10  10\n",
       " [torch.cuda.FloatTensor of size 2x2 (GPU 0)])"
      ]
     },
     "execution_count": 8,
     "metadata": {},
     "output_type": "execute_result"
    }
   ],
   "source": [
    "a = T([[1.,2],[3,4]])\n",
    "b = T([[2.,2],[10,10]])\n",
    "a,b"
   ]
  },
  {
   "cell_type": "code",
   "execution_count": 9,
   "metadata": {
    "hidden": true
   },
   "outputs": [
    {
     "data": {
      "text/plain": [
       "\n",
       "  2   4\n",
       " 30  40\n",
       "[torch.cuda.FloatTensor of size 2x2 (GPU 0)]"
      ]
     },
     "execution_count": 9,
     "metadata": {},
     "output_type": "execute_result"
    }
   ],
   "source": [
    "a*b"
   ]
  },
  {
   "cell_type": "code",
   "execution_count": 26,
   "metadata": {
    "hidden": true
   },
   "outputs": [
    {
     "data": {
      "text/plain": [
       "\n",
       "  6\n",
       " 70\n",
       "[torch.cuda.FloatTensor of size 2 (GPU 0)]"
      ]
     },
     "execution_count": 26,
     "metadata": {},
     "output_type": "execute_result"
    }
   ],
   "source": [
    "(a*b).sum(1)"
   ]
  },
  {
   "cell_type": "markdown",
   "metadata": {},
   "source": [
    "Create a very simple module"
   ]
  },
  {
   "cell_type": "code",
   "execution_count": 27,
   "metadata": {},
   "outputs": [],
   "source": [
    "class DotProduct(nn.Module):\n",
    "    def forward(self, u, m): return (u*m).sum(1)"
   ]
  },
  {
   "cell_type": "code",
   "execution_count": 28,
   "metadata": {
    "hidden": true
   },
   "outputs": [],
   "source": [
    "model=DotProduct()"
   ]
  },
  {
   "cell_type": "code",
   "execution_count": 29,
   "metadata": {
    "hidden": true
   },
   "outputs": [
    {
     "data": {
      "text/plain": [
       "\n",
       "  6\n",
       " 70\n",
       "[torch.cuda.FloatTensor of size 2 (GPU 0)]"
      ]
     },
     "execution_count": 29,
     "metadata": {},
     "output_type": "execute_result"
    }
   ],
   "source": [
    "model(a,b)"
   ]
  },
  {
   "cell_type": "code",
   "execution_count": null,
   "metadata": {},
   "outputs": [],
   "source": [
    "??nn.Module"
   ]
  },
  {
   "cell_type": "markdown",
   "metadata": {
    "heading_collapsed": true
   },
   "source": [
    "### Dot product model"
   ]
  },
  {
   "cell_type": "markdown",
   "metadata": {},
   "source": [
    "Build a layer or build a Pytorch Module"
   ]
  },
  {
   "cell_type": "markdown",
   "metadata": {},
   "source": [
    "List the unique userID"
   ]
  },
  {
   "cell_type": "code",
   "execution_count": 30,
   "metadata": {},
   "outputs": [
    {
     "data": {
      "text/plain": [
       "array([ 1,  2,  3,  4,  5,  6,  7,  8,  9, 10, 11, 12, 13, 14, 15, 16, 17, 18, 19, 20])"
      ]
     },
     "execution_count": 30,
     "metadata": {},
     "output_type": "execute_result"
    }
   ],
   "source": [
    "ratings.userId.unique()[:20]"
   ]
  },
  {
   "cell_type": "markdown",
   "metadata": {},
   "source": [
    "Count the number of unique UserIDs"
   ]
  },
  {
   "cell_type": "code",
   "execution_count": 31,
   "metadata": {},
   "outputs": [
    {
     "data": {
      "text/plain": [
       "671"
      ]
     },
     "execution_count": 31,
     "metadata": {},
     "output_type": "execute_result"
    }
   ],
   "source": [
    "ratings.userId.nunique()"
   ]
  },
  {
   "cell_type": "code",
   "execution_count": 32,
   "metadata": {},
   "outputs": [],
   "source": [
    "u_uniq = ratings.userId.unique()"
   ]
  },
  {
   "cell_type": "markdown",
   "metadata": {},
   "source": [
    "Sometimes userID doesn't start from 0,1,2,3....but instead 1001,1005,1006,1100 etc.  \n",
    "We have to make them contiguous. Map every unique userID to a contiguous integer"
   ]
  },
  {
   "cell_type": "code",
   "execution_count": 33,
   "metadata": {},
   "outputs": [
    {
     "data": {
      "text/plain": [
       "{1: 0, 2: 1, 3: 2, 4: 3, 5: 4, 6: 5, 7: 6, 8: 7, 9: 8, 10: 9}"
      ]
     },
     "execution_count": 33,
     "metadata": {},
     "output_type": "execute_result"
    }
   ],
   "source": [
    "{o:i for i,o in enumerate(u_uniq[:10])}"
   ]
  },
  {
   "cell_type": "markdown",
   "metadata": {},
   "source": [
    "Create the dictionary"
   ]
  },
  {
   "cell_type": "code",
   "execution_count": 34,
   "metadata": {},
   "outputs": [],
   "source": [
    "user2idx = {o:i for i,o in enumerate(u_uniq)}"
   ]
  },
  {
   "cell_type": "markdown",
   "metadata": {},
   "source": [
    "Replace old id with new id"
   ]
  },
  {
   "cell_type": "code",
   "execution_count": 35,
   "metadata": {},
   "outputs": [
    {
     "data": {
      "text/plain": [
       "0     0\n",
       "1     0\n",
       "2     0\n",
       "3     0\n",
       "4     0\n",
       "5     0\n",
       "6     0\n",
       "7     0\n",
       "8     0\n",
       "9     0\n",
       "10    0\n",
       "11    0\n",
       "12    0\n",
       "13    0\n",
       "14    0\n",
       "15    0\n",
       "16    0\n",
       "17    0\n",
       "18    0\n",
       "19    0\n",
       "20    1\n",
       "21    1\n",
       "22    1\n",
       "23    1\n",
       "24    1\n",
       "25    1\n",
       "26    1\n",
       "27    1\n",
       "28    1\n",
       "29    1\n",
       "Name: userId, dtype: int64"
      ]
     },
     "execution_count": 35,
     "metadata": {},
     "output_type": "execute_result"
    }
   ],
   "source": [
    "ratings.userId[:30].apply(lambda x: user2idx[x])"
   ]
  },
  {
   "cell_type": "code",
   "execution_count": 36,
   "metadata": {},
   "outputs": [],
   "source": [
    "ratings.userId = ratings.userId.apply(lambda x: user2idx[x])"
   ]
  },
  {
   "cell_type": "markdown",
   "metadata": {},
   "source": [
    "Do the same for movies"
   ]
  },
  {
   "cell_type": "code",
   "execution_count": 37,
   "metadata": {},
   "outputs": [
    {
     "data": {
      "text/plain": [
       "0            0\n",
       "1            1\n",
       "2            2\n",
       "3            3\n",
       "4            4\n",
       "5            5\n",
       "6            6\n",
       "7            7\n",
       "8            8\n",
       "9            9\n",
       "10          10\n",
       "11          11\n",
       "12          12\n",
       "13          13\n",
       "14          14\n",
       "15          15\n",
       "16          16\n",
       "17          17\n",
       "18          18\n",
       "19          19\n",
       "20          20\n",
       "21          21\n",
       "22          22\n",
       "23          23\n",
       "24          24\n",
       "25          25\n",
       "26          26\n",
       "27          27\n",
       "28          28\n",
       "29          29\n",
       "          ... \n",
       "99974      473\n",
       "99975      354\n",
       "99976      355\n",
       "99977     5577\n",
       "99978      477\n",
       "99979      478\n",
       "99980      358\n",
       "99981      479\n",
       "99982      480\n",
       "99983      359\n",
       "99984     1225\n",
       "99985     1240\n",
       "99986      361\n",
       "99987      126\n",
       "99988     1260\n",
       "99989      483\n",
       "99990      362\n",
       "99991      127\n",
       "99992      364\n",
       "99993     1299\n",
       "99994      412\n",
       "99995      486\n",
       "99996     1308\n",
       "99997      365\n",
       "99998     2930\n",
       "99999     7005\n",
       "100000    4771\n",
       "100001    1329\n",
       "100002    1331\n",
       "100003    2946\n",
       "Name: movieId, Length: 100004, dtype: int64"
      ]
     },
     "execution_count": 37,
     "metadata": {},
     "output_type": "execute_result"
    }
   ],
   "source": [
    "m_uniq = ratings.movieId.unique()\n",
    "movie2idx = {o:i for i,o in enumerate(m_uniq)}\n",
    "ratings.movieId.apply(lambda x: movie2idx[x])"
   ]
  },
  {
   "cell_type": "code",
   "execution_count": 38,
   "metadata": {},
   "outputs": [],
   "source": [
    "ratings.movieId = ratings.movieId.apply(lambda x: movie2idx[x])"
   ]
  },
  {
   "cell_type": "code",
   "execution_count": 39,
   "metadata": {},
   "outputs": [
    {
     "data": {
      "text/plain": [
       "671"
      ]
     },
     "execution_count": 39,
     "metadata": {},
     "output_type": "execute_result"
    }
   ],
   "source": [
    "int(ratings.userId.nunique())"
   ]
  },
  {
   "cell_type": "code",
   "execution_count": 40,
   "metadata": {},
   "outputs": [],
   "source": [
    "n_users=int(ratings.userId.nunique())"
   ]
  },
  {
   "cell_type": "code",
   "execution_count": 41,
   "metadata": {},
   "outputs": [
    {
     "data": {
      "text/plain": [
       "9066"
      ]
     },
     "execution_count": 41,
     "metadata": {},
     "output_type": "execute_result"
    }
   ],
   "source": [
    "int(ratings.movieId.nunique())"
   ]
  },
  {
   "cell_type": "code",
   "execution_count": 42,
   "metadata": {
    "hidden": true
   },
   "outputs": [],
   "source": [
    "n_movies=int(ratings.movieId.nunique())"
   ]
  },
  {
   "cell_type": "markdown",
   "metadata": {},
   "source": [
    "## Create a more complex module"
   ]
  },
  {
   "cell_type": "code",
   "execution_count": null,
   "metadata": {
    "hidden": true
   },
   "outputs": [],
   "source": [
    "class EmbeddingDot(nn.Module):\n",
    "    def __init__(self, n_users, n_movies):\n",
    "        super().__init__()\n",
    "        self.u = nn.Embedding(n_users, n_factors)  # create users embedding\n",
    "        self.m = nn.Embedding(n_movies, n_factors) # create movie embedding\n",
    "        self.u.weight.data.uniform_(0,0.05) # randomly initialize \n",
    "        self.m.weight.data.uniform_(0,0.05) # randomly initialize\n",
    "        \n",
    "    def forward(self, cats, conts):\n",
    "        users,movies = cats[:,0],cats[:,1]\n",
    "        u,m = self.u(users),self.m(movies)\n",
    "        return (u*m).sum(1)\n",
    "    "
   ]
  },
  {
   "cell_type": "code",
   "execution_count": 31,
   "metadata": {
    "hidden": true
   },
   "outputs": [],
   "source": [
    "???    \n",
    "    @property\n",
    "    def get_emb(ni,nf):\n",
    "    e = nn.Embedding(ni, nf)\n",
    "    e.weight.data.uniform_(-0.01,0.01)\n",
    "    return e\n",
    "\n",
    "    @classmethod\n",
    "    def add_bias(cls):\n",
    "        \n",
    "        (self.u, self.m, self.ub, self.mb) = [get_emb(*o) for o in [\n",
    "            (n_users, n_factors), (n_movies, n_factors), (n_users,1), (n_movies,1)\n",
    "        ]]\n",
    "    "
   ]
  },
  {
   "cell_type": "code",
   "execution_count": 34,
   "metadata": {},
   "outputs": [],
   "source": [
    "??nn.Embedding"
   ]
  },
  {
   "cell_type": "code",
   "execution_count": 36,
   "metadata": {
    "hidden": true
   },
   "outputs": [],
   "source": [
    "x = ratings.drop(['rating', 'timestamp'],axis=1)\n",
    "y = ratings['rating'].astype(np.float32)"
   ]
  },
  {
   "cell_type": "markdown",
   "metadata": {},
   "source": [
    "Create panda dataframe in memory"
   ]
  },
  {
   "cell_type": "code",
   "execution_count": null,
   "metadata": {},
   "outputs": [],
   "source": [
    "??ColumnarModelData.from_data_frame"
   ]
  },
  {
   "cell_type": "code",
   "execution_count": null,
   "metadata": {},
   "outputs": [],
   "source": [
    "Signature: ColumnarModelData.from_data_frame(path, val_idxs, df, y, cat_flds, bs, \n",
    "                                             is_reg=True, is_multi=False, test_df=None, shuffle=True)\n",
    "Docstring: <no docstring>\n",
    "Source:   \n",
    "    @classmethod\n",
    "    def from_data_frame(cls, path, val_idxs, df, y, cat_flds, bs, is_reg=True, is_multi=False, \n",
    "                        test_df=None, shuffle=True):\n",
    "        ((val_df, trn_df), (val_y, trn_y)) = split_by_idx(val_idxs, df, y)\n",
    "        return cls.from_data_frames(path, trn_df, val_df, trn_y, val_y, cat_flds, bs, \n",
    "                                    is_reg, is_multi, test_df=test_df, shuffle=shuffle)\n",
    "File:      ~/Documents/Git/fastai/courses/dl1/fastai/column_data.py\n",
    "Type:      method"
   ]
  },
  {
   "cell_type": "markdown",
   "metadata": {},
   "source": [
    "from_data_frame(path, val_idxs, df, y, cat_flds, bs)"
   ]
  },
  {
   "cell_type": "markdown",
   "metadata": {},
   "source": [
    "Next comes the data loader, which just load data into the learner at the rate of 64.  \n",
    "x consists of two columns: `userID` and `movieId` are categorical variables. \n",
    "y is `rating`."
   ]
  },
  {
   "cell_type": "code",
   "execution_count": 37,
   "metadata": {
    "hidden": true
   },
   "outputs": [],
   "source": [
    "data = ColumnarModelData.from_data_frame(path, val_idxs, x, y, ['userId', 'movieId'], 64)"
   ]
  },
  {
   "cell_type": "markdown",
   "metadata": {},
   "source": [
    "L2 regularization weight decay"
   ]
  },
  {
   "cell_type": "code",
   "execution_count": 47,
   "metadata": {},
   "outputs": [],
   "source": [
    "wd=1e-5"
   ]
  },
  {
   "cell_type": "markdown",
   "metadata": {},
   "source": [
    "Instantiate class `EmbeddingDot`"
   ]
  },
  {
   "cell_type": "code",
   "execution_count": null,
   "metadata": {},
   "outputs": [],
   "source": [
    "model = EmbeddingDot(n_users, n_movies).cuda()"
   ]
  },
  {
   "cell_type": "markdown",
   "metadata": {},
   "source": [
    "create the optimizer.  \n",
    "model.parameters() is inherited from nn.Module. It automatically gives all the weights in the model to be updated (in this case the two pytorch *variables* `EmbeddingDot.u.weight` and `EmbeddingDot.m.weight`."
   ]
  },
  {
   "cell_type": "code",
   "execution_count": 49,
   "metadata": {
    "hidden": true
   },
   "outputs": [],
   "source": [
    "opt = optim.SGD(model.parameters(), 1e-1, weight_decay=wd, momentum=0.9)"
   ]
  },
  {
   "cell_type": "code",
   "execution_count": null,
   "metadata": {},
   "outputs": [],
   "source": [
    "??fit\n",
    "\n",
    "fit is just the training loop,\n",
    "\n",
    "Signature: fit(model, data, n_epochs, opt, crit, metrics=None, callbacks=None, stepper=<class 'fastai.model.Stepper'>, swa_model=None, swa_start=None, swa_eval_freq=None, **kwargs)\n",
    "Source:   \n",
    "def fit(model, data, n_epochs, opt, crit, metrics=None, callbacks=None, stepper=Stepper,\n",
    "        swa_model=None, swa_start=None, swa_eval_freq=None, **kwargs):\n",
    "    \"\"\" Fits a model\n",
    "\n",
    "    Arguments:\n",
    "       model (model): any pytorch module\n",
    "           net = to_gpu(net)\n",
    "       data (ModelData): see ModelData class and subclasses (can be a list)\n",
    "       opts: an optimizer. Example: optim.Adam. \n",
    "       If n_epochs is a list, it needs to be the layer_optimizer to get the optimizer as it changes.\n",
    "       n_epochs(int or list): number of epochs (or list of number of epochs)\n",
    "       crit: loss function to optimize. Example: F.cross_entropy\n",
    "    \"\"\"\n",
    "\n",
    "    seq_first = kwargs.pop('seq_first', False)\n",
    "    all_val = kwargs.pop('all_val', False)\n",
    "    get_ep_vals = kwargs.pop('get_ep_vals', False)\n",
    "    metrics = metrics or []\n",
    "    callbacks = callbacks or []\n",
    "    avg_mom=0.98\n",
    "    batch_num,avg_loss=0,0.\n",
    "    for cb in callbacks: cb.on_train_begin()\n",
    "    names = [\"epoch\", \"trn_loss\", \"val_loss\"] + [f.__name__ for f in metrics]\n",
    "    if swa_model is not None:\n",
    "        swa_names = ['swa_loss'] + [f'swa_{f.__name__}' for f in metrics]\n",
    "        names += swa_names\n",
    "        # will use this to call evaluate later\n",
    "        swa_stepper = stepper(swa_model, None, crit, **kwargs)\n",
    "\n",
    "    layout = \"{!s:10} \" * len(names)\n",
    "    if not isinstance(n_epochs, Iterable): n_epochs=[n_epochs]\n",
    "    if not isinstance(data, Iterable): data = [data]\n",
    "    if len(data) == 1: data = data * len(n_epochs)\n",
    "    for cb in callbacks: cb.on_phase_begin()\n",
    "    model_stepper = stepper(model, opt.opt if hasattr(opt,'opt') else opt, crit, **kwargs)\n",
    "    ep_vals = collections.OrderedDict()\n",
    "    tot_epochs = int(np.ceil(np.array(n_epochs).sum()))\n",
    "    cnt_phases = np.array([ep * len(dat.trn_dl) for (ep,dat) in zip(n_epochs,data)]).cumsum()\n",
    "    phase = 0\n",
    "    for epoch in tnrange(tot_epochs, desc='Epoch'): # For these epochs \n",
    "        if phase >= len(n_epochs): break #Sometimes cumulated errors make this append.\n",
    "        model_stepper.reset(True)\n",
    "        cur_data = data[phase]\n",
    "        if hasattr(cur_data, 'trn_sampler'): cur_data.trn_sampler.set_epoch(epoch)\n",
    "        if hasattr(cur_data, 'val_sampler'): cur_data.val_sampler.set_epoch(epoch)\n",
    "        num_batch = len(cur_data.trn_dl)\n",
    "        t = tqdm(iter(cur_data.trn_dl), leave=False, total=num_batch, miniters=0)\n",
    "        if all_val: val_iter = IterBatch(cur_data.val_dl)\n",
    "\n",
    "        for (*x,y) in t: #Q For x and y in training data loader\n",
    "            batch_num += 1\n",
    "            for cb in callbacks: cb.on_batch_begin()\n",
    "            loss = model_stepper.step(V(x),V(y), epoch) #Q calculate the loss\n",
    "            avg_loss = avg_loss * avg_mom + loss * (1-avg_mom)\n",
    "            debias_loss = avg_loss / (1 - avg_mom**batch_num)\n",
    "            t.set_postfix(loss=debias_loss, refresh=False) #Q print out the loss in progress bar\n",
    "            stop=False\n",
    "            los = debias_loss if not all_val else [debias_loss] + validate_next(model_stepper,metrics, val_iter)\n",
    "            for cb in callbacks: stop = stop or cb.on_batch_end(los)\n",
    "            if stop: return\n",
    "            if batch_num >= cnt_phases[phase]:\n",
    "                for cb in callbacks: cb.on_phase_end()\n",
    "                phase += 1\n",
    "                if phase >= len(n_epochs):\n",
    "                    t.close()\n",
    "                    break\n",
    "                for cb in callbacks: cb.on_phase_begin()\n",
    "                if isinstance(opt, LayerOptimizer): model_stepper.opt = opt.opt\n",
    "                if cur_data != data[phase]:\n",
    "                    t.close()\n",
    "                    break\n",
    "\n",
    "        if not all_val:\n",
    "            vals = validate(model_stepper, cur_data.val_dl, metrics, seq_first=seq_first) #Q call metric on valid\n",
    "            stop=False\n",
    "            for cb in callbacks: stop = stop or cb.on_epoch_end(vals)\n",
    "            if swa_model is not None:\n",
    "                if (epoch + 1) >= swa_start and ((epoch + 1 - swa_start) % swa_eval_freq == 0 or epoch == tot_epochs - 1):\n",
    "                    fix_batchnorm(swa_model, cur_data.trn_dl)\n",
    "                    swa_vals = validate(swa_stepper, cur_data.val_dl, metrics)\n",
    "                    vals += swa_vals\n",
    "\n",
    "            if epoch == 0: print(layout.format(*names))\n",
    "            print_stats(epoch, [debias_loss] + vals)\n",
    "            ep_vals = append_stats(ep_vals, epoch, [debias_loss] + vals)\n",
    "        if stop: break\n",
    "    for cb in callbacks: cb.on_train_end()\n",
    "    if get_ep_vals: return vals, ep_vals\n",
    "    else: return vals\n",
    "File:      ~/Documents/Git/fastai/courses/dl1/fastai/model.py\n",
    "Type:      function\n"
   ]
  },
  {
   "cell_type": "markdown",
   "metadata": {},
   "source": [
    "Note that no fastai learner was used. Just the pytorch module `EmbeddingDo` and `fit`, although both found in fastai, are much lower level and takes in regular pytorch model"
   ]
  },
  {
   "cell_type": "code",
   "execution_count": 50,
   "metadata": {
    "hidden": true
   },
   "outputs": [
    {
     "data": {
      "application/vnd.jupyter.widget-view+json": {
       "model_id": "ce5fc9f5ccd9481bb953301442caeffc",
       "version_major": 2,
       "version_minor": 0
      },
      "text/plain": [
       "HBox(children=(IntProgress(value=0, description='Epoch', max=3), HTML(value='')))"
      ]
     },
     "metadata": {},
     "output_type": "display_data"
    },
    {
     "name": "stdout",
     "output_type": "stream",
     "text": [
      "epoch      trn_loss   val_loss                                 \n",
      "    0      1.651911   1.641445  \n",
      "    1      1.098256   1.302979                                 \n",
      "    2      0.933108   1.227365                                  \n",
      "\n"
     ]
    },
    {
     "data": {
      "text/plain": [
       "[array([1.22737])]"
      ]
     },
     "execution_count": 50,
     "metadata": {},
     "output_type": "execute_result"
    }
   ],
   "source": [
    "fit(model, data, 3, opt, F.mse_loss)"
   ]
  },
  {
   "cell_type": "markdown",
   "metadata": {},
   "source": [
    "Note that fastai learner attained 0.76, way better than 1.222 in this DIY model. Tha's because the former has SGDRestart and learning rate annealing and other stuffs built into it. Let's try to do better."
   ]
  },
  {
   "cell_type": "markdown",
   "metadata": {},
   "source": [
    "Let's add learning rate annealing. Passed in a standard pytorch optimizer `opt` and the new learning rate 0.01.  \n",
    "This is effectively **'manual'** annealing."
   ]
  },
  {
   "cell_type": "code",
   "execution_count": 40,
   "metadata": {},
   "outputs": [],
   "source": [
    "??set_lrs"
   ]
  },
  {
   "cell_type": "code",
   "execution_count": 51,
   "metadata": {
    "hidden": true
   },
   "outputs": [],
   "source": [
    "set_lrs(opt, 0.01)"
   ]
  },
  {
   "cell_type": "code",
   "execution_count": 52,
   "metadata": {
    "hidden": true
   },
   "outputs": [
    {
     "data": {
      "application/vnd.jupyter.widget-view+json": {
       "model_id": "a150eb8ee2cc402e92f1dc74556d5fe1",
       "version_major": 2,
       "version_minor": 0
      },
      "text/plain": [
       "HBox(children=(IntProgress(value=0, description='Epoch', max=3), HTML(value='')))"
      ]
     },
     "metadata": {},
     "output_type": "display_data"
    },
    {
     "name": "stdout",
     "output_type": "stream",
     "text": [
      "epoch      trn_loss   val_loss                                  \n",
      "    0      0.691295   1.144963  \n",
      "    1      0.697526   1.133717                                  \n",
      "    2      0.692301   1.127552                                  \n",
      "\n"
     ]
    },
    {
     "data": {
      "text/plain": [
       "[array([1.12755])]"
      ]
     },
     "execution_count": 52,
     "metadata": {},
     "output_type": "execute_result"
    }
   ],
   "source": [
    "fit(model, data, 3, opt, F.mse_loss)"
   ]
  },
  {
   "cell_type": "markdown",
   "metadata": {},
   "source": [
    "Slight improvement to 1.13."
   ]
  },
  {
   "cell_type": "markdown",
   "metadata": {
    "heading_collapsed": true
   },
   "source": [
    "### Bias"
   ]
  },
  {
   "cell_type": "markdown",
   "metadata": {},
   "source": [
    "Some users are just more enthuastic about movies and rate them higher, while some movies are just more popular, like Hollywood blockbuster.  \n",
    "So there should be a bias added to account for these."
   ]
  },
  {
   "cell_type": "markdown",
   "metadata": {},
   "source": [
    "Get the min and max ratings for squishing the sigmoid function later."
   ]
  },
  {
   "cell_type": "code",
   "execution_count": 53,
   "metadata": {
    "hidden": true
   },
   "outputs": [
    {
     "data": {
      "text/plain": [
       "(0.5, 5.0)"
      ]
     },
     "execution_count": 53,
     "metadata": {},
     "output_type": "execute_result"
    }
   ],
   "source": [
    "min_rating,max_rating = ratings.rating.min(),ratings.rating.max()\n",
    "min_rating,max_rating"
   ]
  },
  {
   "cell_type": "markdown",
   "metadata": {},
   "source": [
    "Create a simple embedding `get_emb(ni,nf)`"
   ]
  },
  {
   "cell_type": "code",
   "execution_count": 54,
   "metadata": {},
   "outputs": [],
   "source": [
    "def get_emb(ni,nf):\n",
    "    e = nn.Embedding(ni, nf)\n",
    "    e.weight.data.uniform_(-0.01,0.01)\n",
    "    return e"
   ]
  },
  {
   "cell_type": "markdown",
   "metadata": {},
   "source": [
    "Use it to create 4 embedding matrices of different sizes, u,m,ub,mb.   \n",
    "This time the biases are created using   \n",
    "(n_users,1) and  \n",
    "(n_movies,1)"
   ]
  },
  {
   "cell_type": "code",
   "execution_count": 55,
   "metadata": {},
   "outputs": [
    {
     "data": {
      "text/plain": [
       "[Embedding(671, 50),\n",
       " Embedding(9066, 50),\n",
       " Embedding(671, 1),\n",
       " Embedding(9066, 1)]"
      ]
     },
     "execution_count": 55,
     "metadata": {},
     "output_type": "execute_result"
    }
   ],
   "source": [
    "[get_emb(*o) for o in [(n_users, n_factors), \n",
    "                       (n_movies, n_factors), \n",
    "                       (n_users,1), \n",
    "                       (n_movies,1)]]"
   ]
  },
  {
   "cell_type": "markdown",
   "metadata": {},
   "source": [
    "pytorch squeeze()"
   ]
  },
  {
   "cell_type": "code",
   "execution_count": null,
   "metadata": {},
   "outputs": [],
   "source": [
    "t = torch.ones(2,1,2,1) # Size 2x1x2x1\n",
    "r = torch.squeeze(t)     # Size 2x2\n",
    "r1 = torch.squeeze(t, 1)  # Squeeze dimension 1: Size 2x2x1"
   ]
  },
  {
   "cell_type": "markdown",
   "metadata": {},
   "source": [
    "`um + self.ub(users).squeeze() + self.mb(movies).squeeze() ` means the 2 bias is broadcasted to the dot.product `um`   \n",
    "(number of times = 64 = batch size)"
   ]
  },
  {
   "cell_type": "markdown",
   "metadata": {},
   "source": [
    "`F.` is pytorch.nn.Functional contains the activation functional modules such as sigmoid, relu, and also dropouts and loss functions such as mse.  \n",
    "`F.sigmoid(res) * (max_rating-min_rating) + min_rating` squishes the ratings between 1-5.  \n",
    "**res = F.sigmoid(res) * (max_rating-min_rating) + min_rating** is actually optional, as the NN will still learn eventually that the ratings are 1-5, albeit slowly. Making it explicit in this manner quickens the learning."
   ]
  },
  {
   "cell_type": "code",
   "execution_count": 49,
   "metadata": {
    "hidden": true
   },
   "outputs": [],
   "source": [
    "class EmbeddingDotBias(nn.Module):\n",
    "    def __init__(self, n_users, n_movies):\n",
    "        super().__init__()\n",
    "        (self.u, self.m, self.ub, self.mb) = [get_emb(*o) for o in [\n",
    "            (n_users, n_factors), (n_movies, n_factors), (n_users,1), (n_movies,1)\n",
    "        ]]\n",
    "        \n",
    "        \n",
    "    def forward(self, cats, conts):\n",
    "        users,movies = cats[:,0],cats[:,1]\n",
    "        um = (self.u(users)* self.m(movies)).sum(1) # usual dot product        \n",
    "        res = um + self.ub(users).squeeze() + self.mb(movies).squeeze() # here added the biases\n",
    "        res = F.sigmoid(res) * (max_rating-min_rating) + min_rating\n",
    "        return res"
   ]
  },
  {
   "cell_type": "markdown",
   "metadata": {},
   "source": [
    "Run the same DIY model. `.cuda()` has to be called so that it is run in the GPU. in `learner` this is automatically done."
   ]
  },
  {
   "cell_type": "code",
   "execution_count": null,
   "metadata": {
    "hidden": true
   },
   "outputs": [],
   "source": [
    "wd=2e-4 #l2 regularization\n",
    "#model = \n",
    "EmbeddingDotBias(cf.n_users, cf.n_items).cuda() \n",
    "opt = optim.SGD(model.parameters(), 1e-1, weight_decay=wd, momentum=0.9)"
   ]
  },
  {
   "cell_type": "code",
   "execution_count": 58,
   "metadata": {
    "hidden": true
   },
   "outputs": [
    {
     "data": {
      "application/vnd.jupyter.widget-view+json": {
       "model_id": "a6fe7cdf83c744e49343d6078d793bd7",
       "version_major": 2,
       "version_minor": 0
      },
      "text/plain": [
       "HBox(children=(IntProgress(value=0, description='Epoch', max=3), HTML(value='')))"
      ]
     },
     "metadata": {},
     "output_type": "display_data"
    },
    {
     "name": "stdout",
     "output_type": "stream",
     "text": [
      "epoch      trn_loss   val_loss                                  \n",
      "    0      0.837298   0.837997  \n",
      "    1      0.800115   0.817285                                  \n",
      "    2      0.825385   0.806785                                  \n",
      "\n"
     ]
    },
    {
     "data": {
      "text/plain": [
       "[array([0.80678])]"
      ]
     },
     "execution_count": 58,
     "metadata": {},
     "output_type": "execute_result"
    }
   ],
   "source": [
    "fit(model, data, 3, opt, F.mse_loss)"
   ]
  },
  {
   "cell_type": "markdown",
   "metadata": {},
   "source": [
    "Pretty good number for DIY model.  \n",
    "Perform **'manual'** lr annealing."
   ]
  },
  {
   "cell_type": "code",
   "execution_count": 59,
   "metadata": {
    "hidden": true
   },
   "outputs": [],
   "source": [
    "set_lrs(opt, 1e-2)"
   ]
  },
  {
   "cell_type": "code",
   "execution_count": 60,
   "metadata": {
    "hidden": true
   },
   "outputs": [
    {
     "data": {
      "application/vnd.jupyter.widget-view+json": {
       "model_id": "30a0882a8cbc4b778f935b81ee6566ca",
       "version_major": 2,
       "version_minor": 0
      },
      "text/plain": [
       "HBox(children=(IntProgress(value=0, description='Epoch', max=3), HTML(value='')))"
      ]
     },
     "metadata": {},
     "output_type": "display_data"
    },
    {
     "name": "stdout",
     "output_type": "stream",
     "text": [
      "epoch      trn_loss   val_loss                                  \n",
      "    0      0.747505   0.802222  \n",
      "    1      0.782201   0.800711                                  \n",
      "    2      0.758882   0.800307                                  \n",
      "\n"
     ]
    },
    {
     "data": {
      "text/plain": [
       "[array([0.80031])]"
      ]
     },
     "execution_count": 60,
     "metadata": {},
     "output_type": "execute_result"
    }
   ],
   "source": [
    "fit(model, data, 3, opt, F.mse_loss)"
   ]
  },
  {
   "cell_type": "markdown",
   "metadata": {},
   "source": [
    "Very close to fastai learner's performance. learner performed better due to SGDR, cycle multiplier and ADAM optimizer."
   ]
  },
  {
   "cell_type": "markdown",
   "metadata": {},
   "source": [
    "Next we create a deep learning version of collaborative filtering."
   ]
  },
  {
   "cell_type": "markdown",
   "metadata": {},
   "source": [
    "### Mini net"
   ]
  },
  {
   "cell_type": "markdown",
   "metadata": {},
   "source": [
    "Concatenate the userID embedding vector and movieID embedding vector together as input, which is then fed into a NN by doing this: `torch.cat([self.u(users),self.m(movies)`  \n",
    "It is joined by columns, hence dim = 1 or axis 1 as the embedding matrix are of shape (n_movies, n_factors).  \n",
    "  \n",
    "Note that `userID embedding vector` and `movieID embedding vector` no longer needs to be the same size as they were in collaborative filtering. Now that they are in a neural-net, the two can be of different embedding size.  "
   ]
  },
  {
   "cell_type": "markdown",
   "metadata": {},
   "source": [
    "`nn.Linear(n_factors*2, nh)` creates a hidden layer with size  \n",
    "twice the embedding vector `n_factors*2` AND the number of hidden nodes `nh`  \n",
    "It is later put into a RELU using `F.relu(self.lin1(x))`  \n",
    "\n",
    "`nn.Linear(nh, 1)` is the last layer with a single output, as we want to predict a single rating. It is later put in a sigmoid using `F.sigmoid(self.lin2(x))`"
   ]
  },
  {
   "cell_type": "code",
   "execution_count": 61,
   "metadata": {
    "code_folding": []
   },
   "outputs": [],
   "source": [
    "class EmbeddingNet(nn.Module):\n",
    "    def __init__(self, n_users, n_movies, nh=10, p1=0.05, p2=0.5):\n",
    "        super().__init__()\n",
    "        #  create th embeddings\n",
    "        (self.u, self.m) = [get_emb(*o) for o in [\n",
    "            (n_users, n_factors), (n_movies, n_factors)]]\n",
    "        # create the 2 dense layer\n",
    "        self.lin1 = nn.Linear(n_factors*2, nh)\n",
    "        self.lin2 = nn.Linear(nh, 1)\n",
    "        self.drop1 = nn.Dropout(p1)\n",
    "        self.drop2 = nn.Dropout(p2)\n",
    "        \n",
    "    def forward(self, cats, conts):\n",
    "        users,movies = cats[:,0],cats[:,1]\n",
    "        # concat the 2 embedding vectors by column (axis 1)\n",
    "        x = self.drop1(torch.cat([self.u(users),self.m(movies)], dim=1))\n",
    "        x = self.drop2(F.relu(self.lin1(x)))\n",
    "        return F.sigmoid(self.lin2(x)) * (max_rating-min_rating+1) + min_rating-0.5"
   ]
  },
  {
   "cell_type": "code",
   "execution_count": 62,
   "metadata": {},
   "outputs": [],
   "source": [
    "wd=1e-5\n",
    "model = EmbeddingNet(n_users, n_movies).cuda()\n",
    "opt = optim.Adam(model.parameters(), 1e-3, weight_decay=wd)"
   ]
  },
  {
   "cell_type": "code",
   "execution_count": 63,
   "metadata": {},
   "outputs": [
    {
     "data": {
      "application/vnd.jupyter.widget-view+json": {
       "model_id": "b1a13dc4548f411e94910e036a7e7208",
       "version_major": 2,
       "version_minor": 0
      },
      "text/plain": [
       "HBox(children=(IntProgress(value=0, description='Epoch', max=3), HTML(value='')))"
      ]
     },
     "metadata": {},
     "output_type": "display_data"
    },
    {
     "name": "stdout",
     "output_type": "stream",
     "text": [
      "epoch      trn_loss   val_loss                                  \n",
      "    0      0.935745   0.826266  \n",
      "    1      0.817079   0.797127                                  \n",
      "    2      0.800073   0.789632                                  \n",
      "\n"
     ]
    },
    {
     "data": {
      "text/plain": [
       "[array([0.78963])]"
      ]
     },
     "execution_count": 63,
     "metadata": {},
     "output_type": "execute_result"
    }
   ],
   "source": [
    "fit(model, data, 3, opt, F.mse_loss)"
   ]
  },
  {
   "cell_type": "code",
   "execution_count": 64,
   "metadata": {},
   "outputs": [],
   "source": [
    "set_lrs(opt, 1e-3)"
   ]
  },
  {
   "cell_type": "code",
   "execution_count": 65,
   "metadata": {},
   "outputs": [
    {
     "data": {
      "application/vnd.jupyter.widget-view+json": {
       "model_id": "e9890934065041778d1c9ca66f7fa83a",
       "version_major": 2,
       "version_minor": 0
      },
      "text/plain": [
       "HBox(children=(IntProgress(value=0, description='Epoch', max=3), HTML(value='')))"
      ]
     },
     "metadata": {},
     "output_type": "display_data"
    },
    {
     "name": "stdout",
     "output_type": "stream",
     "text": [
      "epoch      trn_loss   val_loss                                  \n",
      "    0      0.777137   0.790877  \n",
      "    1      0.790171   0.792207                                  \n",
      "    2      0.761778   0.794079                                  \n",
      "\n"
     ]
    },
    {
     "data": {
      "text/plain": [
       "[array([0.79408])]"
      ]
     },
     "execution_count": 65,
     "metadata": {},
     "output_type": "execute_result"
    }
   ],
   "source": [
    "fit(model, data, 3, opt, F.mse_loss)"
   ]
  },
  {
   "cell_type": "code",
   "execution_count": null,
   "metadata": {},
   "outputs": [],
   "source": []
  }
 ],
 "metadata": {
  "kernelspec": {
   "display_name": "Python 3",
   "language": "python",
   "name": "python3"
  },
  "language_info": {
   "codemirror_mode": {
    "name": "ipython",
    "version": 3
   },
   "file_extension": ".py",
   "mimetype": "text/x-python",
   "name": "python",
   "nbconvert_exporter": "python",
   "pygments_lexer": "ipython3",
   "version": "3.6.6"
  },
  "toc": {
   "colors": {
    "hover_highlight": "#DAA520",
    "navigate_num": "#000000",
    "navigate_text": "#333333",
    "running_highlight": "#FF0000",
    "selected_highlight": "#FFD700",
    "sidebar_border": "#EEEEEE",
    "wrapper_background": "#FFFFFF"
   },
   "moveMenuLeft": true,
   "nav_menu": {
    "height": "123px",
    "width": "252px"
   },
   "navigate_menu": true,
   "number_sections": true,
   "sideBar": true,
   "threshold": 4,
   "toc_cell": false,
   "toc_section_display": "block",
   "toc_window_display": false,
   "widenNotebook": false
  }
 },
 "nbformat": 4,
 "nbformat_minor": 2
}
