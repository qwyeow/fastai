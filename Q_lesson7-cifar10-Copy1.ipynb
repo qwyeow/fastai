{
 "cells": [
  {
   "cell_type": "markdown",
   "metadata": {},
   "source": [
    "## CIFAR 10"
   ]
  },
  {
   "cell_type": "code",
   "execution_count": 5,
   "metadata": {},
   "outputs": [],
   "source": [
    "%matplotlib inline\n",
    "%reload_ext autoreload\n",
    "%autoreload 2\n",
    "import numpy as np"
   ]
  },
  {
   "cell_type": "code",
   "execution_count": 3,
   "metadata": {},
   "outputs": [
    {
     "data": {
      "text/plain": [
       "(5, 1)"
      ]
     },
     "execution_count": 3,
     "metadata": {},
     "output_type": "execute_result"
    }
   ],
   "source": [
    "x = np.array([1,2,3,4,5])\n",
    "x = x[:,None]\n",
    "x.shape"
   ]
  },
  {
   "cell_type": "code",
   "execution_count": 4,
   "metadata": {},
   "outputs": [
    {
     "data": {
      "text/plain": [
       "(5,)"
      ]
     },
     "execution_count": 4,
     "metadata": {},
     "output_type": "execute_result"
    }
   ],
   "source": [
    "x = x.flatten()\n",
    "x.shape"
   ]
  },
  {
   "cell_type": "markdown",
   "metadata": {},
   "source": [
    "You can get the data via: `wget http://pjreddie.com/media/files/cifar.tgz`"
   ]
  },
  {
   "cell_type": "code",
   "execution_count": 6,
   "metadata": {},
   "outputs": [],
   "source": [
    "from fastai.conv_learner import *\n",
    "PATH = \"data/cifar10/\"\n",
    "os.makedirs(PATH,exist_ok=True)"
   ]
  },
  {
   "cell_type": "markdown",
   "metadata": {},
   "source": [
    "Use pathlib to see what's inside cifar"
   ]
  },
  {
   "cell_type": "code",
   "execution_count": 23,
   "metadata": {},
   "outputs": [],
   "source": [
    "from pathlib import Path"
   ]
  },
  {
   "cell_type": "code",
   "execution_count": 24,
   "metadata": {},
   "outputs": [],
   "source": [
    "PATH1 = Path(\"data/cifar10\")"
   ]
  },
  {
   "cell_type": "code",
   "execution_count": 25,
   "metadata": {},
   "outputs": [
    {
     "data": {
      "text/plain": [
       "[PosixPath('data/cifar10/models'),\n",
       " PosixPath('data/cifar10/test'),\n",
       " PosixPath('data/cifar10/train_original'),\n",
       " PosixPath('data/cifar10/tmp'),\n",
       " PosixPath('data/cifar10/labels.txt'),\n",
       " PosixPath('data/cifar10/train')]"
      ]
     },
     "execution_count": 25,
     "metadata": {},
     "output_type": "execute_result"
    }
   ],
   "source": [
    "list(PATH1.iterdir())"
   ]
  },
  {
   "cell_type": "code",
   "execution_count": 15,
   "metadata": {},
   "outputs": [
    {
     "data": {
      "text/plain": [
       "['data/cifar10/train/horse/42299_horse.png',\n",
       " 'data/cifar10/train/horse/40859_horse.png']"
      ]
     },
     "execution_count": 15,
     "metadata": {},
     "output_type": "execute_result"
    }
   ],
   "source": [
    "#train_path = 'data/cifar10/train/deer/29827_deer.png'\n",
    "#plt.imread(train_path)\n",
    "images = [str(filename)\n",
    "          for folder in (PATH1/\"train\").iterdir() \n",
    "          for filename in folder.iterdir()]\n",
    "images[:2]"
   ]
  },
  {
   "cell_type": "code",
   "execution_count": 88,
   "metadata": {},
   "outputs": [
    {
     "data": {
      "text/plain": [
       "(32, 32, 3)"
      ]
     },
     "execution_count": 88,
     "metadata": {},
     "output_type": "execute_result"
    }
   ],
   "source": [
    "x = np.array(plt.imread(images[1]))\n",
    "x.shape"
   ]
  },
  {
   "cell_type": "code",
   "execution_count": null,
   "metadata": {},
   "outputs": [],
   "source": [
    "#a = np.empty([32, 32, 3])\n",
    "a = np.zeros((32,32,3))\n",
    "for i in images:\n",
    "    j = plt.imread(i)\n",
    "    #a.append(j)\n",
    "    a += j\n",
    "    "
   ]
  },
  {
   "cell_type": "code",
   "execution_count": 91,
   "metadata": {},
   "outputs": [
    {
     "data": {
      "text/plain": [
       "[array([[[0.57647, 0.72549, 0.83137],\n",
       "         [0.57255, 0.71765, 0.82353],\n",
       "         [0.57647, 0.72549, 0.82745],\n",
       "         ...,\n",
       "         [0.56078, 0.7098 , 0.81176],\n",
       "         [0.55686, 0.70588, 0.80784],\n",
       "         [0.56078, 0.7098 , 0.81176]],\n",
       " \n",
       "        [[0.57255, 0.72157, 0.82353],\n",
       "         [0.56471, 0.7098 , 0.81176],\n",
       "         [0.56471, 0.7098 , 0.81176],\n",
       "         ...,\n",
       "         [0.55686, 0.70196, 0.80392],\n",
       "         [0.55294, 0.69804, 0.8    ],\n",
       "         [0.55686, 0.70196, 0.80784]],\n",
       " \n",
       "        [[0.57647, 0.72157, 0.82745],\n",
       "         [0.56863, 0.71373, 0.81569],\n",
       "         [0.57255, 0.71765, 0.81961],\n",
       "         ...,\n",
       "         [0.56471, 0.7098 , 0.81176],\n",
       "         [0.56078, 0.70588, 0.80784],\n",
       "         [0.56471, 0.71373, 0.81569]],\n",
       " \n",
       "        ...,\n",
       " \n",
       "        [[0.58039, 0.60784, 0.54902],\n",
       "         [0.58039, 0.61569, 0.55294],\n",
       "         [0.5451 , 0.59608, 0.52941],\n",
       "         ...,\n",
       "         [0.54118, 0.6    , 0.54118],\n",
       "         [0.54902, 0.61176, 0.55294],\n",
       "         [0.55686, 0.61961, 0.56471]],\n",
       " \n",
       "        [[0.4549 , 0.50196, 0.26275],\n",
       "         [0.45882, 0.51373, 0.27059],\n",
       "         [0.40784, 0.47451, 0.22745],\n",
       "         ...,\n",
       "         [0.44706, 0.5098 , 0.27059],\n",
       "         [0.4549 , 0.50588, 0.27843],\n",
       "         [0.47451, 0.52549, 0.29412]],\n",
       " \n",
       "        [[0.43922, 0.48235, 0.23529],\n",
       "         [0.40784, 0.44706, 0.20784],\n",
       "         [0.38039, 0.42353, 0.18039],\n",
       "         ...,\n",
       "         [0.43529, 0.4902 , 0.23137],\n",
       "         [0.43529, 0.47843, 0.23137],\n",
       "         [0.44314, 0.47843, 0.22745]]], dtype=float32),\n",
       " array([[[0.56078, 0.54902, 0.5098 ],\n",
       "         [0.54902, 0.53725, 0.45882],\n",
       "         [0.36863, 0.35686, 0.22745],\n",
       "         ...,\n",
       "         [0.38824, 0.38824, 0.15294],\n",
       "         [0.46275, 0.46667, 0.19608],\n",
       "         [0.42745, 0.42353, 0.19608]],\n",
       " \n",
       "        [[0.62353, 0.60392, 0.53333],\n",
       "         [0.6549 , 0.63922, 0.50588],\n",
       "         [0.44706, 0.43529, 0.23137],\n",
       "         ...,\n",
       "         [0.47843, 0.5098 , 0.18039],\n",
       "         [0.4549 , 0.47843, 0.17255],\n",
       "         [0.35294, 0.36863, 0.13333]],\n",
       " \n",
       "        [[0.48627, 0.47059, 0.32157],\n",
       "         [0.56471, 0.54902, 0.34902],\n",
       "         [0.46667, 0.45098, 0.19216],\n",
       "         ...,\n",
       "         [0.37255, 0.39608, 0.18824],\n",
       "         [0.35686, 0.38039, 0.18824],\n",
       "         [0.28235, 0.29804, 0.1451 ]],\n",
       " \n",
       "        ...,\n",
       " \n",
       "        [[0.51373, 0.46667, 0.38039],\n",
       "         [0.6902 , 0.63137, 0.5098 ],\n",
       "         [0.71373, 0.65098, 0.51373],\n",
       "         ...,\n",
       "         [0.53333, 0.28627, 0.12157],\n",
       "         [0.49412, 0.23137, 0.07059],\n",
       "         [0.35294, 0.1451 , 0.03529]],\n",
       " \n",
       "        [[0.49804, 0.47059, 0.38039],\n",
       "         [0.63922, 0.61961, 0.49412],\n",
       "         [0.63137, 0.61569, 0.47843],\n",
       "         ...,\n",
       "         [0.3098 , 0.16471, 0.04706],\n",
       "         [0.38824, 0.20392, 0.08627],\n",
       "         [0.28627, 0.12941, 0.05098]],\n",
       " \n",
       "        [[0.39608, 0.38039, 0.30588],\n",
       "         [0.48627, 0.47451, 0.37647],\n",
       "         [0.48235, 0.47059, 0.37255],\n",
       "         ...,\n",
       "         [0.16863, 0.13333, 0.06275],\n",
       "         [0.1451 , 0.06667, 0.01176],\n",
       "         [0.12941, 0.05098, 0.02745]]], dtype=float32)]"
      ]
     },
     "execution_count": 91,
     "metadata": {},
     "output_type": "execute_result"
    }
   ],
   "source": [
    "a."
   ]
  },
  {
   "cell_type": "code",
   "execution_count": 12,
   "metadata": {},
   "outputs": [
    {
     "data": {
      "text/plain": [
       "[PosixPath('data/cifar10/train/29827_deer.png'),\n",
       " PosixPath('data/cifar10/train/48213_ship.png'),\n",
       " PosixPath('data/cifar10/train/24551_cat.png'),\n",
       " PosixPath('data/cifar10/train/21499_ship.png'),\n",
       " PosixPath('data/cifar10/train/1285_bird.png'),\n",
       " PosixPath('data/cifar10/train/42299_horse.png'),\n",
       " PosixPath('data/cifar10/train/38699_cat.png'),\n",
       " PosixPath('data/cifar10/train/40859_horse.png'),\n",
       " PosixPath('data/cifar10/train/42059_deer.png'),\n",
       " PosixPath('data/cifar10/train/15743_ship.png'),\n",
       " PosixPath('data/cifar10/train/3111_frog.png'),\n",
       " PosixPath('data/cifar10/train/25993_automobile.png'),\n",
       " PosixPath('data/cifar10/train/3532_frog.png'),\n",
       " PosixPath('data/cifar10/train/4469_ship.png'),\n",
       " PosixPath('data/cifar10/train/30752_automobile.png'),\n",
       " PosixPath('data/cifar10/train/44070_bird.png'),\n",
       " PosixPath('data/cifar10/train/7704_truck.png'),\n",
       " PosixPath('data/cifar10/train/14177_truck.png'),\n",
       " PosixPath('data/cifar10/train/14748_dog.png'),\n",
       " PosixPath('data/cifar10/train/42666_automobile.png')]"
      ]
     },
     "execution_count": 12,
     "metadata": {},
     "output_type": "execute_result"
    }
   ],
   "source": [
    "list((PATH1/\"train\").iterdir())[:20]"
   ]
  },
  {
   "cell_type": "markdown",
   "metadata": {},
   "source": [
    "#### How to get mean and std of iamges"
   ]
  },
  {
   "cell_type": "code",
   "execution_count": null,
   "metadata": {},
   "outputs": [],
   "source": [
    "TRAIN = Path(\"data/cifar10/train_original\")\n",
    "images = (plt.imread(str(i)) for i in TRAIN.iterdir()) # generator comprehension\n",
    "images = np.stack(images)   \n",
    "images = np.reshape(images.T, (3,-1)) # images.shape = (3,5120000)"
   ]
  },
  {
   "cell_type": "code",
   "execution_count": null,
   "metadata": {},
   "outputs": [],
   "source": [
    "np.mean(images, axis =1)\n",
    "np.std(images, axis = 1)"
   ]
  },
  {
   "cell_type": "markdown",
   "metadata": {},
   "source": [
    "#### 2nd way"
   ]
  },
  {
   "cell_type": "code",
   "execution_count": null,
   "metadata": {},
   "outputs": [],
   "source": [
    "TRAIN = Path(\"data/cifar10/train_original\")\n",
    "images = (plt.imread(str(i)) for i in TRAIN.iterdir()) # generator comprehension\n",
    "images = np.stack(images)  # this takes time \n",
    "np.mean(images[:,:,:,0]),np.mean(images[:,:,:,1]),np.mean(images[:,:,:,2])\n",
    "np.std(images[:,:,:,0]),np.std(images[:,:,:,1]),np.std(images[:,:,:,2])"
   ]
  },
  {
   "cell_type": "markdown",
   "metadata": {},
   "source": [
    "------------------------------"
   ]
  },
  {
   "cell_type": "code",
   "execution_count": 13,
   "metadata": {},
   "outputs": [
    {
     "name": "stdout",
     "output_type": "stream",
     "text": [
      "airplane\n",
      "automobile\n",
      "bird\n",
      "cat\n",
      "deer\n",
      "dog\n",
      "frog\n",
      "horse\n",
      "ship\n",
      "truck\n",
      "\n"
     ]
    }
   ],
   "source": [
    "labels = (PATH1/\"labels.txt\").open()\n",
    "print(labels.read())"
   ]
  },
  {
   "cell_type": "code",
   "execution_count": 26,
   "metadata": {},
   "outputs": [],
   "source": [
    "classes = ('plane', 'car', 'bird', 'cat', 'deer', 'dog', 'frog', 'horse', 'ship', 'truck')"
   ]
  },
  {
   "cell_type": "code",
   "execution_count": 27,
   "metadata": {},
   "outputs": [],
   "source": [
    "stats = (np.array([ 0.4914 ,  0.48216,  0.44653]), np.array([ 0.24703,  0.24349,  0.26159]))"
   ]
  },
  {
   "cell_type": "markdown",
   "metadata": {},
   "source": [
    "How to get these stats"
   ]
  },
  {
   "cell_type": "code",
   "execution_count": null,
   "metadata": {},
   "outputs": [],
   "source": []
  },
  {
   "cell_type": "code",
   "execution_count": 86,
   "metadata": {},
   "outputs": [],
   "source": [
    "??tfms_from_stats\n",
    "\n",
    "Signature: tfms_from_stats(stats, sz, aug_tfms=None, max_zoom=None, pad=0, crop_type=<CropType.RANDOM: 1>, \n",
    "                           tfm_y=None, sz_y=None, pad_mode=2, norm_y=True, scale=None)\n",
    "Source:   \n",
    "def tfms_from_stats(stats, sz, aug_tfms=None, max_zoom=None, pad=0, crop_type=CropType.RANDOM,\n",
    "                    tfm_y=None, sz_y=None, pad_mode=cv2.BORDER_REFLECT, norm_y=True, scale=None):\n",
    "    \"\"\" Given the statistics of the training image sets, returns separate training and validation \n",
    "    transform functions\n",
    "    \"\"\"\n",
    "    if aug_tfms is None: aug_tfms=[]\n",
    "    tfm_norm = Normalize(*stats, tfm_y=tfm_y if norm_y else TfmType.NO) if stats is not None else None\n",
    "    tfm_denorm = Denormalize(*stats) if stats is not None else None\n",
    "    val_crop = CropType.CENTER if crop_type in (CropType.RANDOM,CropType.GOOGLENET) else crop_type\n",
    "    val_tfm = image_gen(tfm_norm, tfm_denorm, sz, pad=pad, crop_type=val_crop,\n",
    "            tfm_y=tfm_y, sz_y=sz_y, scale=scale)\n",
    "    trn_tfm = image_gen(tfm_norm, tfm_denorm, sz, pad=pad, crop_type=crop_type,\n",
    "            tfm_y=tfm_y, sz_y=sz_y, tfms=aug_tfms, max_zoom=max_zoom, pad_mode=pad_mode, scale=scale)\n",
    "    return trn_tfm, val_tfm\n",
    "File:      ~/Documents/Git/fastai/courses/dl1/fastai/transforms.py\n",
    "Type:      function\n"
   ]
  },
  {
   "cell_type": "code",
   "execution_count": 28,
   "metadata": {},
   "outputs": [],
   "source": [
    "def get_data(sz,bs):\n",
    "    tfms = tfms_from_stats(stats, sz, aug_tfms=[RandomFlip()], pad=sz//8) \n",
    "                                                               #add 4pixels each side\n",
    "    return ImageClassifierData.from_paths(PATH, val_name='test', tfms=tfms, bs=bs)"
   ]
  },
  {
   "cell_type": "code",
   "execution_count": 29,
   "metadata": {},
   "outputs": [],
   "source": [
    "bs=256"
   ]
  },
  {
   "cell_type": "markdown",
   "metadata": {},
   "source": [
    "### Look at data"
   ]
  },
  {
   "cell_type": "markdown",
   "metadata": {},
   "source": [
    "Data files not in respective class folders."
   ]
  },
  {
   "cell_type": "code",
   "execution_count": 11,
   "metadata": {},
   "outputs": [],
   "source": [
    "import os\n",
    "import glob\n",
    "import shutil\n",
    "classes = ('airplane', 'automobile', 'bird', 'cat', 'deer', 'dog', 'frog', 'horse', 'ship', 'truck')\n",
    "cwd = os.getcwd()\n",
    "train_path = cwd + '/data/cifar10/train/'"
   ]
  },
  {
   "cell_type": "markdown",
   "metadata": {},
   "source": [
    "Create folders in training"
   ]
  },
  {
   "cell_type": "code",
   "execution_count": 19,
   "metadata": {},
   "outputs": [],
   "source": [
    "# go through classes and make a directory for each one\n",
    "for class_now in classes:\n",
    "    path_now = train_path + class_now\n",
    "    if not os.path.exists(path_now):\n",
    "        os.makedirs(path_now)"
   ]
  },
  {
   "cell_type": "code",
   "execution_count": 20,
   "metadata": {},
   "outputs": [],
   "source": [
    "for class_now in classes:\n",
    "    identifier = train_path + '*' + class_now + '.png' # /data/cifar10/train/*airplane.png\n",
    "    class_files = glob.glob(identifier)\n",
    "    file_destination = train_path + class_now\n",
    "    # move all frog files to proper class directory\n",
    "    for file_to_move in class_files:\n",
    "        shutil.move(file_to_move, file_destination)"
   ]
  },
  {
   "cell_type": "markdown",
   "metadata": {},
   "source": [
    "Create folders in test"
   ]
  },
  {
   "cell_type": "code",
   "execution_count": 21,
   "metadata": {},
   "outputs": [],
   "source": [
    "# do all the same but now for the test data\n",
    "test_path = cwd + '/data/cifar10/test/'\n",
    "for class_now in classes:\n",
    "    path_now = test_path + class_now\n",
    "    if not os.path.exists(path_now):\n",
    "        os.makedirs(path_now)\n",
    "for class_now in classes:\n",
    "    identifier = test_path + '*' + class_now + '.png'\n",
    "    class_files = glob.glob(identifier)\n",
    "    file_destination = test_path + class_now\n",
    "    for file_to_move in class_files:\n",
    "        shutil.move(file_to_move, file_destination)"
   ]
  },
  {
   "cell_type": "code",
   "execution_count": 27,
   "metadata": {
    "scrolled": true
   },
   "outputs": [
    {
     "name": "stdout",
     "output_type": "stream",
     "text": [
      "airplane  automobile  bird  cat  deer  dog  frog  horse  ship  truck\r\n"
     ]
    }
   ],
   "source": [
    "!ls {PATH}/train"
   ]
  },
  {
   "cell_type": "code",
   "execution_count": 28,
   "metadata": {},
   "outputs": [
    {
     "data": {
      "text/plain": [
       "[PosixPath('data/cifar10/test'),\n",
       " PosixPath('data/cifar10/labels.txt'),\n",
       " PosixPath('data/cifar10/train')]"
      ]
     },
     "execution_count": 28,
     "metadata": {},
     "output_type": "execute_result"
    }
   ],
   "source": [
    "list(PATH1.iterdir())"
   ]
  },
  {
   "cell_type": "markdown",
   "metadata": {},
   "source": [
    "Folders created in train folder"
   ]
  },
  {
   "cell_type": "code",
   "execution_count": 10,
   "metadata": {},
   "outputs": [
    {
     "data": {
      "text/plain": [
       "[PosixPath('data/cifar10/train/horse'),\n",
       " PosixPath('data/cifar10/train/deer'),\n",
       " PosixPath('data/cifar10/train/cat'),\n",
       " PosixPath('data/cifar10/train/frog'),\n",
       " PosixPath('data/cifar10/train/airplane'),\n",
       " PosixPath('data/cifar10/train/bird'),\n",
       " PosixPath('data/cifar10/train/truck'),\n",
       " PosixPath('data/cifar10/train/ship'),\n",
       " PosixPath('data/cifar10/train/dog'),\n",
       " PosixPath('data/cifar10/train/automobile')]"
      ]
     },
     "execution_count": 10,
     "metadata": {},
     "output_type": "execute_result"
    }
   ],
   "source": [
    "list((PATH1/\"train\").iterdir())"
   ]
  },
  {
   "cell_type": "markdown",
   "metadata": {},
   "source": [
    "Inside train/dog folder"
   ]
  },
  {
   "cell_type": "code",
   "execution_count": 31,
   "metadata": {},
   "outputs": [
    {
     "data": {
      "text/plain": [
       "[PosixPath('data/cifar10/train/dog/14748_dog.png'),\n",
       " PosixPath('data/cifar10/train/dog/36487_dog.png'),\n",
       " PosixPath('data/cifar10/train/dog/3660_dog.png'),\n",
       " PosixPath('data/cifar10/train/dog/46536_dog.png'),\n",
       " PosixPath('data/cifar10/train/dog/45705_dog.png'),\n",
       " PosixPath('data/cifar10/train/dog/39660_dog.png'),\n",
       " PosixPath('data/cifar10/train/dog/35748_dog.png'),\n",
       " PosixPath('data/cifar10/train/dog/337_dog.png'),\n",
       " PosixPath('data/cifar10/train/dog/34757_dog.png'),\n",
       " PosixPath('data/cifar10/train/dog/20348_dog.png')]"
      ]
     },
     "execution_count": 31,
     "metadata": {},
     "output_type": "execute_result"
    }
   ],
   "source": [
    "list((PATH1/\"train\"/\"dog\").iterdir())[:10]"
   ]
  },
  {
   "cell_type": "markdown",
   "metadata": {},
   "source": [
    "get_data() is a wrapper that returns 'ImageClassifierData.from_paths'.  \n",
    "It returns a batch of 4 32by32 images."
   ]
  },
  {
   "cell_type": "code",
   "execution_count": 30,
   "metadata": {},
   "outputs": [],
   "source": [
    "data = get_data(32,4)"
   ]
  },
  {
   "cell_type": "markdown",
   "metadata": {},
   "source": [
    "Iterate the dataloader so that we can look at the images."
   ]
  },
  {
   "cell_type": "code",
   "execution_count": 31,
   "metadata": {},
   "outputs": [],
   "source": [
    "x,y=next(iter(data.trn_dl))"
   ]
  },
  {
   "cell_type": "markdown",
   "metadata": {},
   "source": [
    "bs, channels, rows, height"
   ]
  },
  {
   "cell_type": "markdown",
   "metadata": {},
   "source": [
    "Image 0"
   ]
  },
  {
   "cell_type": "code",
   "execution_count": 44,
   "metadata": {},
   "outputs": [
    {
     "data": {
      "image/png": "[encoded data removed]",
      "text/plain": [
       "<Figure size 432x288 with 1 Axes>"
      ]
     },
     "metadata": {},
     "output_type": "display_data"
    }
   ],
   "source": [
    "plt.imshow(data.trn_ds.denorm(x)[0]);"
   ]
  },
  {
   "cell_type": "markdown",
   "metadata": {},
   "source": [
    "Image 1"
   ]
  },
  {
   "cell_type": "code",
   "execution_count": 35,
   "metadata": {},
   "outputs": [
    {
     "data": {
      "image/png": "[encoded data removed]",
      "text/plain": [
       "<Figure size 432x288 with 1 Axes>"
      ]
     },
     "metadata": {},
     "output_type": "display_data"
    }
   ],
   "source": [
    "plt.imshow(data.trn_ds.denorm(x)[1]);"
   ]
  },
  {
   "cell_type": "markdown",
   "metadata": {},
   "source": [
    "## Fully connected model"
   ]
  },
  {
   "cell_type": "markdown",
   "metadata": {},
   "source": [
    "Build a Dense net for classifying images."
   ]
  },
  {
   "cell_type": "code",
   "execution_count": 17,
   "metadata": {},
   "outputs": [],
   "source": [
    "data = get_data(32,bs)"
   ]
  },
  {
   "cell_type": "code",
   "execution_count": 18,
   "metadata": {},
   "outputs": [],
   "source": [
    "lr=1e-2"
   ]
  },
  {
   "cell_type": "markdown",
   "metadata": {},
   "source": [
    "From [this notebook](https://github.com/KeremTurgutlu/deeplearning/blob/master/Exploring%20Optimizers.ipynb) by our student Kerem Turgutlu:"
   ]
  },
  {
   "cell_type": "markdown",
   "metadata": {},
   "source": [
    "A simple 2-layer DenseNet."
   ]
  },
  {
   "cell_type": "code",
   "execution_count": 30,
   "metadata": {},
   "outputs": [],
   "source": [
    "class SimpleNet(nn.Module):\n",
    "    def __init__(self, layers):\n",
    "        super().__init__()\n",
    "        # nn.ModuleList() must be used on a \n",
    "        # normal list to turn them into torch layers\n",
    "        self.layers = nn.ModuleList([nn.Linear(layers[i], layers[i + 1]) \n",
    "                                      for i in range(len(layers) - 1)])\n",
    "        \n",
    "    def forward(self, x):\n",
    "        x = x.view(x.size(0), -1)\n",
    "        for l in self.layers:\n",
    "            l_x = l(x)\n",
    "            x = F.relu(l_x)\n",
    "        return F.log_softmax(l_x, dim=-1)"
   ]
  },
  {
   "cell_type": "markdown",
   "metadata": {},
   "source": [
    "#### How the layers are created\n",
    "\n",
    "Passing in 5 arguments will create a range of 0, 1, 2, 3"
   ]
  },
  {
   "cell_type": "code",
   "execution_count": 41,
   "metadata": {},
   "outputs": [
    {
     "data": {
      "text/plain": [
       "range(0, 4)"
      ]
     },
     "execution_count": 41,
     "metadata": {},
     "output_type": "execute_result"
    }
   ],
   "source": [
    "layerz = [32*32*3, 40,20,10,5] # input size,filter size, output size\n",
    "range(len(layerz) - 1)"
   ]
  },
  {
   "cell_type": "markdown",
   "metadata": {},
   "source": [
    "which can be used in a for loop to create 4 linear layers of the correct sizes."
   ]
  },
  {
   "cell_type": "code",
   "execution_count": 43,
   "metadata": {},
   "outputs": [
    {
     "data": {
      "text/plain": [
       "[Linear(in_features=3072, out_features=40, bias=True),\n",
       " Linear(in_features=40, out_features=20, bias=True),\n",
       " Linear(in_features=20, out_features=10, bias=True),\n",
       " Linear(in_features=10, out_features=5, bias=True)]"
      ]
     },
     "execution_count": 43,
     "metadata": {},
     "output_type": "execute_result"
    }
   ],
   "source": [
    "[nn.Linear(layerz[i], layerz[i + 1]) for i in range(len(layerz) - 1)]"
   ]
  },
  {
   "cell_type": "code",
   "execution_count": 22,
   "metadata": {},
   "outputs": [],
   "source": [
    "??ConvLearner.from_model_data\n",
    "\n",
    "Signature: ConvLearner.from_model_data(m, data, **kwargs)\n",
    "Docstring: <no docstring>\n",
    "    \n",
    "class ConvLearner(Learner):\n",
    "    \"\"\"\n",
    "    Class used to train a chosen supported covnet model. Eg. ResNet-34, etc.\n",
    "    Arguments:\n",
    "        data: training data for model\n",
    "        models: model architectures to base learner\n",
    "        precompute: bool to reuse precomputed activations\n",
    "        **kwargs: parameters from Learner() class\n",
    "    \"\"\"    \n",
    "Source:   \n",
    "    @classmethod\n",
    "    def from_model_data(cls, m, data, **kwargs):\n",
    "        self = cls(data, BasicModel(to_gpu(m)), **kwargs)\n",
    "        self.unfreeze()\n",
    "        return self"
   ]
  },
  {
   "cell_type": "markdown",
   "metadata": {},
   "source": [
    "Let's create a learner that has 2 layers. Instead of using `fit(Simplenet.cuda(),data,optim.Adam, lr)`, we create a learner which has SGDR, LR finder..etc. The first method will require us to use callbacks in order to enjoy these features."
   ]
  },
  {
   "cell_type": "code",
   "execution_count": 34,
   "metadata": {},
   "outputs": [],
   "source": [
    "learn = ConvLearner.from_model_data(SimpleNet([32*32*3, 40,10]), data)"
   ]
  },
  {
   "cell_type": "code",
   "execution_count": 36,
   "metadata": {},
   "outputs": [
    {
     "data": {
      "text/plain": [
       "SimpleNet(\n",
       "  (layers): ModuleList(\n",
       "    (0): Linear(in_features=3072, out_features=40, bias=True)\n",
       "    (1): Linear(in_features=40, out_features=10, bias=True)\n",
       "  )\n",
       ")"
      ]
     },
     "execution_count": 36,
     "metadata": {},
     "output_type": "execute_result"
    }
   ],
   "source": [
    "learn"
   ]
  },
  {
   "cell_type": "markdown",
   "metadata": {},
   "source": [
    "The parameters in the layers are  \n",
    "3072 X 40 = 122880 weights + 40 bias  \n",
    "40 X 10 = 400 weights + bias"
   ]
  },
  {
   "cell_type": "code",
   "execution_count": 45,
   "metadata": {},
   "outputs": [
    {
     "data": {
      "text/plain": [
       "[122880, 40, 400, 10]"
      ]
     },
     "execution_count": 45,
     "metadata": {},
     "output_type": "execute_result"
    }
   ],
   "source": [
    "[o.numel() for o in learn.model.parameters()]"
   ]
  },
  {
   "cell_type": "markdown",
   "metadata": {},
   "source": [
    "Information is also available using .summary()."
   ]
  },
  {
   "cell_type": "code",
   "execution_count": 44,
   "metadata": {},
   "outputs": [
    {
     "data": {
      "text/plain": [
       "OrderedDict([('Linear-1',\n",
       "              OrderedDict([('input_shape', [-1, 3072]),\n",
       "                           ('output_shape', [-1, 40]),\n",
       "                           ('trainable', True),\n",
       "                           ('nb_params', 122920)])),\n",
       "             ('Linear-2',\n",
       "              OrderedDict([('input_shape', [-1, 40]),\n",
       "                           ('output_shape', [-1, 10]),\n",
       "                           ('trainable', True),\n",
       "                           ('nb_params', 410)]))])"
      ]
     },
     "execution_count": 44,
     "metadata": {},
     "output_type": "execute_result"
    }
   ],
   "source": [
    "learn.summary()"
   ]
  },
  {
   "cell_type": "markdown",
   "metadata": {},
   "source": [
    "#### Training"
   ]
  },
  {
   "cell_type": "code",
   "execution_count": 47,
   "metadata": {},
   "outputs": [
    {
     "data": {
      "application/vnd.jupyter.widget-view+json": {
       "model_id": "d29782853245430eaf70af2c7ef87f97",
       "version_major": 2,
       "version_minor": 0
      },
      "text/plain": [
       "HBox(children=(IntProgress(value=0, description='Epoch', max=1), HTML(value='')))"
      ]
     },
     "metadata": {},
     "output_type": "display_data"
    },
    {
     "name": "stdout",
     "output_type": "stream",
     "text": [
      " 75%|███████▌  | 147/196 [01:31<00:30,  1.60it/s, loss=6.77]"
     ]
    }
   ],
   "source": [
    "learn.lr_find()"
   ]
  },
  {
   "cell_type": "code",
   "execution_count": 48,
   "metadata": {},
   "outputs": [
    {
     "data": {
      "image/png": "[encoded data removed]",
      "text/plain": [
       "<Figure size 432x288 with 1 Axes>"
      ]
     },
     "metadata": {},
     "output_type": "display_data"
    }
   ],
   "source": [
    "learn.sched.plot()"
   ]
  },
  {
   "cell_type": "code",
   "execution_count": 49,
   "metadata": {},
   "outputs": [
    {
     "data": {
      "application/vnd.jupyter.widget-view+json": {
       "model_id": "0e2594840789441bb327e8fd61875818",
       "version_major": 2,
       "version_minor": 0
      },
      "text/plain": [
       "HBox(children=(IntProgress(value=0, description='Epoch', max=2), HTML(value='')))"
      ]
     },
     "metadata": {},
     "output_type": "display_data"
    },
    {
     "name": "stdout",
     "output_type": "stream",
     "text": [
      "epoch      trn_loss   val_loss   accuracy                   \n",
      "    0      1.759363   1.626371   0.4271    \n",
      "    1      1.684098   1.575762   0.4427                     \n",
      "CPU times: user 49 s, sys: 15 s, total: 1min 3s\n",
      "Wall time: 48 s\n"
     ]
    },
    {
     "data": {
      "text/plain": [
       "[array([1.57576]), 0.4427]"
      ]
     },
     "execution_count": 49,
     "metadata": {},
     "output_type": "execute_result"
    }
   ],
   "source": [
    "%time learn.fit(lr, 2)"
   ]
  },
  {
   "cell_type": "code",
   "execution_count": 50,
   "metadata": {},
   "outputs": [
    {
     "data": {
      "application/vnd.jupyter.widget-view+json": {
       "model_id": "3b97227eadb64d25b46043184c2dfad9",
       "version_major": 2,
       "version_minor": 0
      },
      "text/plain": [
       "HBox(children=(IntProgress(value=0, description='Epoch', max=2), HTML(value='')))"
      ]
     },
     "metadata": {},
     "output_type": "display_data"
    },
    {
     "name": "stdout",
     "output_type": "stream",
     "text": [
      "epoch      trn_loss   val_loss   accuracy                   \n",
      "    0      1.611521   1.514844   0.4645    \n",
      "    1      1.597344   1.491126   0.4759                     \n",
      "CPU times: user 24.2 s, sys: 8.77 s, total: 32.9 s\n",
      "Wall time: 17.6 s\n"
     ]
    },
    {
     "data": {
      "text/plain": [
       "[array([1.49113]), 0.4759]"
      ]
     },
     "execution_count": 50,
     "metadata": {},
     "output_type": "execute_result"
    }
   ],
   "source": [
    "%time learn.fit(lr, 2, cycle_len=1)"
   ]
  },
  {
   "cell_type": "markdown",
   "metadata": {},
   "source": [
    "## CNN"
   ]
  },
  {
   "cell_type": "markdown",
   "metadata": {},
   "source": [
    "Create a CNN model next."
   ]
  },
  {
   "cell_type": "markdown",
   "metadata": {},
   "source": [
    "nn.Conv2d(in_channels, out_channels, kernel_size, stride=1, \n",
    "          padding=0, dilation=1,groups=1, bias=True)    \n",
    " \n",
    "Applies a 2D convolution over an input signal composed of several input planes."
   ]
  },
  {
   "cell_type": "code",
   "execution_count": 8,
   "metadata": {},
   "outputs": [],
   "source": [
    "class ConvNet(nn.Module):\n",
    "    def __init__(self, layers, c): \n",
    "        super().__init__()\n",
    "        self.layers = nn.ModuleList([\n",
    "            nn.Conv2d(layers[i], layers[i + 1], kernel_size=3, stride=2)\n",
    "            for i in range(len(layers) - 1)])\n",
    "        self.pool = nn.AdaptiveMaxPool2d(1) #this declares the output size \n",
    "        self.out = nn.Linear(layers[-1], c)\n",
    "        \n",
    "    def forward(self, x):\n",
    "        for l in self.layers:        #  loop through all the layers\n",
    "            x = F.relu(l(x))         #  override inputs x with the output activations. \n",
    "                                     #  Note Relu happens here \n",
    "        x = self.pool(x)             #  pool the outputs from the last CNN layer;  [-1, 80, 1, 1]  \n",
    "        x = x.view(x.size(0), -1)    #  flatten to 2D tensor, keep batch size\n",
    "                                     #  flattening changes x from [-1, 80, 1, 1] to [-1, 80]\n",
    "                                     #  Note that [80, 1, 1] to [80] is effectively a np.squeeze \n",
    "        \n",
    "        return F.log_softmax(self.out(x), dim=-1) # x = [bs,80],softmax the 80"
   ]
  },
  {
   "cell_type": "markdown",
   "metadata": {},
   "source": [
    "**ConvNet([3, 20, 40, 80]** means number of channels in each layer.   \n",
    "Inputs have the standard **3** channels, followed by CNN layer of **20** channels,...etc.    \n",
    "ConvNet([   ,    ,     ,   ], 10) means **10** outputs in the final layer."
   ]
  },
  {
   "cell_type": "markdown",
   "metadata": {},
   "source": [
    "Suppose you activation input is 28X28, using `nn.AdaptiveMaxPool2d(14)` means that you are doing a 2X2 maxpool. If you use `nn.AdaptiveMaxPool2d(2)` it means you are doing a 14X14 maxpool. So here a `nn.AdaptiveMaxPool2d(1)` means a 28X28 maxpool."
   ]
  },
  {
   "cell_type": "code",
   "execution_count": 25,
   "metadata": {},
   "outputs": [],
   "source": [
    "learn = ConvLearner.from_model_data(ConvNet([3, 20, 40, 80], 10), data)"
   ]
  },
  {
   "cell_type": "code",
   "execution_count": 62,
   "metadata": {},
   "outputs": [
    {
     "data": {
      "text/plain": [
       "OrderedDict([('Conv2d-1',\n",
       "              OrderedDict([('input_shape', [-1, 3, 32, 32]),\n",
       "                           ('output_shape', [-1, 20, 15, 15]),\n",
       "                           ('trainable', True),\n",
       "                           ('nb_params', 560)])),\n",
       "             ('Conv2d-2',\n",
       "              OrderedDict([('input_shape', [-1, 20, 15, 15]),\n",
       "                           ('output_shape', [-1, 40, 7, 7]),\n",
       "                           ('trainable', True),\n",
       "                           ('nb_params', 7240)])),\n",
       "             ('Conv2d-3',\n",
       "              OrderedDict([('input_shape', [-1, 40, 7, 7]),\n",
       "                           ('output_shape', [-1, 80, 3, 3]),\n",
       "                           ('trainable', True),\n",
       "                           ('nb_params', 28880)])),\n",
       "             ('AdaptiveMaxPool2d-4',\n",
       "              OrderedDict([('input_shape', [-1, 80, 3, 3]),\n",
       "                           ('output_shape', [-1, 80, 1, 1]),\n",
       "                           ('nb_params', 0)])),\n",
       "             ('Linear-5',\n",
       "              OrderedDict([('input_shape', [-1, 80]),\n",
       "                           ('output_shape', [-1, 10]),\n",
       "                           ('trainable', True),\n",
       "                           ('nb_params', 810)]))])"
      ]
     },
     "execution_count": 62,
     "metadata": {},
     "output_type": "execute_result"
    }
   ],
   "source": [
    "learn.summary()"
   ]
  },
  {
   "cell_type": "code",
   "execution_count": 56,
   "metadata": {},
   "outputs": [
    {
     "data": {
      "application/vnd.jupyter.widget-view+json": {
       "model_id": "1f32863468a445bd8ac0aca905c3dabf",
       "version_major": 2,
       "version_minor": 0
      },
      "text/plain": [
       "HBox(children=(IntProgress(value=0, description='Epoch', max=1), HTML(value='')))"
      ]
     },
     "metadata": {},
     "output_type": "display_data"
    },
    {
     "name": "stdout",
     "output_type": "stream",
     "text": [
      "                                                            \r"
     ]
    }
   ],
   "source": [
    "learn.lr_find(end_lr=100)"
   ]
  },
  {
   "cell_type": "code",
   "execution_count": 57,
   "metadata": {},
   "outputs": [
    {
     "data": {
      "image/png": "[encoded data removed]",
      "text/plain": [
       "<Figure size 432x288 with 1 Axes>"
      ]
     },
     "metadata": {},
     "output_type": "display_data"
    }
   ],
   "source": [
    "learn.sched.plot()"
   ]
  },
  {
   "cell_type": "code",
   "execution_count": 58,
   "metadata": {},
   "outputs": [
    {
     "data": {
      "application/vnd.jupyter.widget-view+json": {
       "model_id": "b1c4c07c3a2546efbd018aaba2c251cb",
       "version_major": 2,
       "version_minor": 0
      },
      "text/plain": [
       "HBox(children=(IntProgress(value=0, description='Epoch', max=2), HTML(value='')))"
      ]
     },
     "metadata": {},
     "output_type": "display_data"
    },
    {
     "name": "stdout",
     "output_type": "stream",
     "text": [
      "epoch      trn_loss   val_loss   accuracy                   \n",
      "    0      1.69685    1.580841   0.4166    \n",
      "    1      1.521899   1.464984   0.4557                     \n",
      "CPU times: user 25.1 s, sys: 8.39 s, total: 33.5 s\n",
      "Wall time: 17.9 s\n"
     ]
    },
    {
     "data": {
      "text/plain": [
       "[array([1.46498]), 0.4557]"
      ]
     },
     "execution_count": 58,
     "metadata": {},
     "output_type": "execute_result"
    }
   ],
   "source": [
    "%time learn.fit(1e-1, 2)"
   ]
  },
  {
   "cell_type": "code",
   "execution_count": 59,
   "metadata": {},
   "outputs": [
    {
     "data": {
      "application/vnd.jupyter.widget-view+json": {
       "model_id": "e9cbccaf926c41938d58041a9134bb92",
       "version_major": 2,
       "version_minor": 0
      },
      "text/plain": [
       "HBox(children=(IntProgress(value=0, description='Epoch', max=4), HTML(value='')))"
      ]
     },
     "metadata": {},
     "output_type": "display_data"
    },
    {
     "name": "stdout",
     "output_type": "stream",
     "text": [
      "epoch      trn_loss   val_loss   accuracy                   \n",
      "    0      1.366506   1.293354   0.5289    \n",
      "    1      1.307932   1.23342    0.5605                     \n",
      "    2      1.264291   1.201246   0.5663                     \n",
      "    3      1.221219   1.164459   0.5784                     \n",
      "CPU times: user 49.8 s, sys: 17.1 s, total: 1min 6s\n",
      "Wall time: 35.7 s\n"
     ]
    },
    {
     "data": {
      "text/plain": [
       "[array([1.16446]), 0.5784]"
      ]
     },
     "execution_count": 59,
     "metadata": {},
     "output_type": "execute_result"
    }
   ],
   "source": [
    "%time learn.fit(1e-1, 4, cycle_len=1)"
   ]
  },
  {
   "cell_type": "markdown",
   "metadata": {},
   "source": [
    "## Refactored"
   ]
  },
  {
   "cell_type": "markdown",
   "metadata": {},
   "source": [
    "Join `nn.Conv2d()` + `F.relu()` into `ConvLayer`"
   ]
  },
  {
   "cell_type": "code",
   "execution_count": 26,
   "metadata": {},
   "outputs": [],
   "source": [
    "class ConvLayer(nn.Module):\n",
    "    def __init__(self, ni, nf):\n",
    "        super().__init__()\n",
    "        self.conv = nn.Conv2d(ni, nf, kernel_size=3, stride=2, padding=1)\n",
    "        # padding is added so that the corners info are kept (?)\n",
    "        \n",
    "    def forward(self, x): return F.relu(self.conv(x))"
   ]
  },
  {
   "cell_type": "markdown",
   "metadata": {},
   "source": [
    "Some changes made are commented below:"
   ]
  },
  {
   "cell_type": "code",
   "execution_count": 27,
   "metadata": {},
   "outputs": [],
   "source": [
    "class ConvNet2(nn.Module):\n",
    "    def __init__(self, layers, c):\n",
    "        super().__init__()\n",
    "        self.layers = nn.ModuleList([ConvLayer(layers[i], layers[i + 1]) # Use ConvLayer instead of nn.Conv2d\n",
    "            for i in range(len(layers) - 1)])\n",
    "        self.out = nn.Linear(layers[-1], c)\n",
    "        \n",
    "    def forward(self, x):\n",
    "        for l in self.layers: x = l(x)\n",
    "        x = F.adaptive_max_pool2d(x, 1) # adaptive Max Pooling is just a function, \n",
    "                                        # there is no weights inside\n",
    "                    \n",
    "            \n",
    "        x = x.view(x.size(0), -1)       # flatten to (batch size, )\n",
    "                                        # flattening changes x from \n",
    "                                        # [-1, 80, 1, 1] to [-1, 80]\n",
    "        \n",
    "        return F.log_softmax(self.out(x), dim=-1)"
   ]
  },
  {
   "cell_type": "markdown",
   "metadata": {},
   "source": [
    "Build the learner"
   ]
  },
  {
   "cell_type": "code",
   "execution_count": 28,
   "metadata": {},
   "outputs": [],
   "source": [
    "learn = ConvLearner.from_model_data(ConvNet2([3, 20, 40, 80], 10), data)"
   ]
  },
  {
   "cell_type": "code",
   "execution_count": 29,
   "metadata": {},
   "outputs": [
    {
     "data": {
      "text/plain": [
       "OrderedDict([('Conv2d-1',\n",
       "              OrderedDict([('input_shape', [-1, 3, 32, 32]),\n",
       "                           ('output_shape', [-1, 20, 16, 16]),\n",
       "                           ('trainable', True),\n",
       "                           ('nb_params', 560)])),\n",
       "             ('ConvLayer-2',\n",
       "              OrderedDict([('input_shape', [-1, 3, 32, 32]),\n",
       "                           ('output_shape', [-1, 20, 16, 16]),\n",
       "                           ('nb_params', 0)])),\n",
       "             ('Conv2d-3',\n",
       "              OrderedDict([('input_shape', [-1, 20, 16, 16]),\n",
       "                           ('output_shape', [-1, 40, 8, 8]),\n",
       "                           ('trainable', True),\n",
       "                           ('nb_params', 7240)])),\n",
       "             ('ConvLayer-4',\n",
       "              OrderedDict([('input_shape', [-1, 20, 16, 16]),\n",
       "                           ('output_shape', [-1, 40, 8, 8]),\n",
       "                           ('nb_params', 0)])),\n",
       "             ('Conv2d-5',\n",
       "              OrderedDict([('input_shape', [-1, 40, 8, 8]),\n",
       "                           ('output_shape', [-1, 80, 4, 4]),\n",
       "                           ('trainable', True),\n",
       "                           ('nb_params', 28880)])),\n",
       "             ('ConvLayer-6',\n",
       "              OrderedDict([('input_shape', [-1, 40, 8, 8]),\n",
       "                           ('output_shape', [-1, 80, 4, 4]),\n",
       "                           ('nb_params', 0)])),\n",
       "             ('Linear-7',\n",
       "              OrderedDict([('input_shape', [-1, 80]),\n",
       "                           ('output_shape', [-1, 10]),\n",
       "                           ('trainable', True),\n",
       "                           ('nb_params', 810)]))])"
      ]
     },
     "execution_count": 29,
     "metadata": {},
     "output_type": "execute_result"
    }
   ],
   "source": [
    "learn.summary()"
   ]
  },
  {
   "cell_type": "code",
   "execution_count": 30,
   "metadata": {},
   "outputs": [
    {
     "data": {
      "application/vnd.jupyter.widget-view+json": {
       "model_id": "0d80a9b8e3ad4723967c3f0858259e95",
       "version_major": 2,
       "version_minor": 0
      },
      "text/plain": [
       "HBox(children=(IntProgress(value=0, description='Epoch', max=2), HTML(value='')))"
      ]
     },
     "metadata": {},
     "output_type": "display_data"
    },
    {
     "name": "stdout",
     "output_type": "stream",
     "text": [
      "epoch      trn_loss   val_loss   accuracy                   \n",
      "    0      1.69756    1.543612   0.4323    \n",
      "    1      1.513018   1.470446   0.4679                     \n",
      "\n",
      "CPU times: user 1min 3s, sys: 16.9 s, total: 1min 20s\n",
      "Wall time: 2min 16s\n"
     ]
    },
    {
     "data": {
      "text/plain": [
       "[array([1.47045]), 0.4679]"
      ]
     },
     "execution_count": 30,
     "metadata": {},
     "output_type": "execute_result"
    }
   ],
   "source": [
    "%time learn.fit(1e-1, 2)"
   ]
  },
  {
   "cell_type": "code",
   "execution_count": 31,
   "metadata": {},
   "outputs": [
    {
     "data": {
      "application/vnd.jupyter.widget-view+json": {
       "model_id": "ec3ce74be75b4f8fa2755a13fb343ef4",
       "version_major": 2,
       "version_minor": 0
      },
      "text/plain": [
       "HBox(children=(IntProgress(value=0, description='Epoch', max=2), HTML(value='')))"
      ]
     },
     "metadata": {},
     "output_type": "display_data"
    },
    {
     "name": "stdout",
     "output_type": "stream",
     "text": [
      "epoch      trn_loss   val_loss   accuracy                   \n",
      "    0      1.347076   1.27404    0.5423    \n",
      "    1      1.285686   1.215371   0.5649                     \n",
      "\n",
      "CPU times: user 25.2 s, sys: 8.49 s, total: 33.7 s\n",
      "Wall time: 18.2 s\n"
     ]
    },
    {
     "data": {
      "text/plain": [
       "[array([1.21537]), 0.5649]"
      ]
     },
     "execution_count": 31,
     "metadata": {},
     "output_type": "execute_result"
    }
   ],
   "source": [
    "%time learn.fit(1e-1, 2, cycle_len=1)"
   ]
  },
  {
   "cell_type": "markdown",
   "metadata": {},
   "source": [
    "The problem with this model is that if you try to add more layers to improve performance, you will encounter exploding/vanishing gradient problems. So we need to introduce batchnorm."
   ]
  },
  {
   "cell_type": "markdown",
   "metadata": {},
   "source": [
    "## BatchNorm"
   ]
  },
  {
   "cell_type": "markdown",
   "metadata": {},
   "source": [
    "#### Build the batchnorm conv layer"
   ]
  },
  {
   "cell_type": "markdown",
   "metadata": {},
   "source": [
    "In each mini batch, normalize each of the activation outputs and  \n",
    "allow for scaling and shifting at the macro level.  \n",
    "If you just simply minus the mean from yhe input activations, the weights will learn that it has to get bigger in order to reduce the loss for this minibatch. But in the next minibatch, it will encounter the same thing (mean and std for each minibatch are diferent), so the weights will grow bigger again. If this continues, the weights will keep growing while the loss stays the same, because the two forces are cancelling out each other. This is what is called a covariate shift (?). In order to prevent this, we have to introduce 2 new parameters `self.a` and `self.m`, which will scale and shift the outputs on behalf of the the weights. \n",
    "\n",
    "Since the mean and std of each minibatch are different, the meanings of each filter are also changing slightly, akin to adding noise, which gives rise to an accidental regularization effect.\n",
    "\n",
    "Note that batchnorm is turned off during test because we don't want to change the input activations in an inconsistent manner. Imagine if reordering the test set and sending the minibatches in a different order. Since each minibatch will produce a different mean and std, this means that the predictions will be different for the same image, depending on which minibatch it is in. This is like leaving dropout on during test time, which will give you different predictions for the same input image, since dropouts are randomly mask.\n",
    "\n",
    "Also, during finetuning a pretrained model, Jeremy discovered that it's better to freeze batchnorm as well, especailly if the new image data is similiar to imagenet data."
   ]
  },
  {
   "cell_type": "code",
   "execution_count": 19,
   "metadata": {},
   "outputs": [],
   "source": [
    "class BnLayer(nn.Module):\n",
    "    def __init__(self, ni, nf, stride=2, kernel_size=3):\n",
    "        super().__init__()\n",
    "        self.conv = nn.Conv2d(ni, nf,                  # standard conv2d; nf = number of filters\n",
    "                              kernel_size=kernel_size, \n",
    "                              stride=stride,\n",
    "                              bias=False, \n",
    "                              padding=1)\n",
    "        \n",
    "        self.a = nn.Parameter(torch.zeros(nf,1,1))     # to allow for shifting at macro level\n",
    "        self.m = nn.Parameter(torch.ones(nf,1,1))      # to allow for scaling at macro level\n",
    "        \n",
    "    def forward(self, x):\n",
    "        x = F.relu(self.conv(x))\n",
    "        x_chan = x.transpose(0,1).contiguous().view(x.size(1), -1) # see below\n",
    "        if self.training:            # mean is taken along axis 1\n",
    "            self.means = x_chan.mean(1)[:,None,None] # create a 1D tensor of dim 3 \n",
    "            self.stds  = x_chan.std (1)[:,None,None] # create a 1D stddev\n",
    "            # actual batch norm uses exponentially weighted average of means and std\n",
    "            \n",
    "        return (x-self.means) / self.stds *self.m + self.a # normalise + scaling + shifting\n",
    "    \n",
    "        # Note that self.m and self.a are broadcasted as well, sort of reversing self.means and \n",
    "        # self.stds"
   ]
  },
  {
   "cell_type": "markdown",
   "metadata": {},
   "source": [
    "#### Examining the transposing and flattening in forward()\n",
    "\n",
    "`x.transpose(0,1).contiguous().view(x.size(1), -1)`"
   ]
  },
  {
   "cell_type": "markdown",
   "metadata": {},
   "source": [
    "Let's create a matrix of the following size"
   ]
  },
  {
   "cell_type": "code",
   "execution_count": 28,
   "metadata": {},
   "outputs": [
    {
     "data": {
      "text/plain": [
       "torch.Size([64, 3, 32, 32])"
      ]
     },
     "execution_count": 28,
     "metadata": {},
     "output_type": "execute_result"
    }
   ],
   "source": [
    "xx = np.random.randn(64, 3, 32, 32)\n",
    "xx = V(xx)\n",
    "xx.size()"
   ]
  },
  {
   "cell_type": "markdown",
   "metadata": {},
   "source": [
    "tranposed axis 0 and 1 of the matrix "
   ]
  },
  {
   "cell_type": "code",
   "execution_count": 29,
   "metadata": {},
   "outputs": [
    {
     "data": {
      "text/plain": [
       "torch.Size([3, 64, 32, 32])"
      ]
     },
     "execution_count": 29,
     "metadata": {},
     "output_type": "execute_result"
    }
   ],
   "source": [
    "xx_t = xx.transpose(0,1)\n",
    "xx_t.size()"
   ]
  },
  {
   "cell_type": "markdown",
   "metadata": {},
   "source": [
    "axis 1 of the **original** matrix"
   ]
  },
  {
   "cell_type": "code",
   "execution_count": 30,
   "metadata": {},
   "outputs": [
    {
     "data": {
      "text/plain": [
       "3"
      ]
     },
     "execution_count": 30,
     "metadata": {},
     "output_type": "execute_result"
    }
   ],
   "source": [
    "xx.size(1)"
   ]
  },
  {
   "cell_type": "markdown",
   "metadata": {},
   "source": [
    "Transposed and flattened the original matrix will combine all inputs in each filter"
   ]
  },
  {
   "cell_type": "code",
   "execution_count": 31,
   "metadata": {},
   "outputs": [
    {
     "data": {
      "text/plain": [
       "torch.Size([3, 65536])"
      ]
     },
     "execution_count": 31,
     "metadata": {},
     "output_type": "execute_result"
    }
   ],
   "source": [
    "xx1 = xx.transpose(0,1).contiguous().view(xx.size(1), -1)\n",
    "xx1.size()"
   ]
  },
  {
   "cell_type": "markdown",
   "metadata": {},
   "source": [
    "This will enable us to get the mean and std dev of the 3 filters.\n",
    "Lets get mean along axis 1"
   ]
  },
  {
   "cell_type": "code",
   "execution_count": 32,
   "metadata": {},
   "outputs": [
    {
     "data": {
      "text/plain": [
       "Variable containing:\n",
       "1.00000e-03 *\n",
       " -4.0686\n",
       "  6.7995\n",
       " -3.8353\n",
       "[torch.cuda.FloatTensor of size 3 (GPU 0)]"
      ]
     },
     "execution_count": 32,
     "metadata": {},
     "output_type": "execute_result"
    }
   ],
   "source": [
    "xx1.mean(1)"
   ]
  },
  {
   "cell_type": "markdown",
   "metadata": {},
   "source": [
    "Note that using [:,None,None] creates a rank 3 tensor with size **3X1X1**"
   ]
  },
  {
   "cell_type": "code",
   "execution_count": 33,
   "metadata": {},
   "outputs": [
    {
     "data": {
      "text/plain": [
       "torch.Size([3, 1, 1])"
      ]
     },
     "execution_count": 33,
     "metadata": {},
     "output_type": "execute_result"
    }
   ],
   "source": [
    "mean_ = xx1.mean(1)[:,None,None]\n",
    "mean_.size()"
   ]
  },
  {
   "cell_type": "markdown",
   "metadata": {},
   "source": [
    "This allow us to normalise the original matrix with the mean.  \n",
    "Note the mean matrix [3,1,1] is **broadcasted** to fit the original matrix xx  \n",
    "so that matrix subtraction can take place.  \n",
    "Lots of braodcasting happening here.  "
   ]
  },
  {
   "cell_type": "code",
   "execution_count": 36,
   "metadata": {},
   "outputs": [
    {
     "data": {
      "text/plain": [
       "torch.Size([64, 3, 32, 32])"
      ]
     },
     "execution_count": 36,
     "metadata": {},
     "output_type": "execute_result"
    }
   ],
   "source": [
    "y = xx-mean_\n",
    "y.size()"
   ]
  },
  {
   "cell_type": "code",
   "execution_count": 60,
   "metadata": {},
   "outputs": [
    {
     "data": {
      "text/plain": [
       "array([[[[101., 101., 101., 101.],\n",
       "         [101., 101., 101., 101.],\n",
       "         [101., 101., 101., 101.]],\n",
       "\n",
       "        [[101., 101., 101., 101.],\n",
       "         [101., 101., 101., 101.],\n",
       "         [101., 101., 101., 101.]]],\n",
       "\n",
       "\n",
       "       [[[101., 101., 101., 101.],\n",
       "         [101., 101., 101., 101.],\n",
       "         [101., 101., 101., 101.]],\n",
       "\n",
       "        [[101., 101., 101., 101.],\n",
       "         [101., 101., 101., 101.],\n",
       "         [101., 101., 101., 101.]]]])"
      ]
     },
     "execution_count": 60,
     "metadata": {},
     "output_type": "execute_result"
    }
   ],
   "source": [
    "xx = np.ones((2, 2, 3,4))\n",
    "mean = np.reshape((-100,-100,-100),(1,1,3,1))\n",
    "xx-mean"
   ]
  },
  {
   "cell_type": "markdown",
   "metadata": {},
   "source": [
    "#### Build the Model"
   ]
  },
  {
   "cell_type": "markdown",
   "metadata": {},
   "source": [
    "Note that in keeping up with **modern CNN approaches**, Jeremy added `self.conv1 = nn.Conv2d(3, 10, kernel_size=5, stride=1, padding=2)`, which has a kernel size of 5 (instead of the usual 3) and more filters (10) as the first layer.  \n",
    "\n",
    "The padding=2 and stride=1 will make output size equal to input size, so this will just increase the number of filters from 3 to 10, hence providing a richer starting point for the later sequences."
   ]
  },
  {
   "cell_type": "code",
   "execution_count": 20,
   "metadata": {},
   "outputs": [],
   "source": [
    "class ConvBnNet(nn.Module):\n",
    "    def __init__(self, layers, c):\n",
    "        super().__init__()\n",
    "        self.conv1 = nn.Conv2d(3, 10, kernel_size=5, stride=1, padding=2) # Note that this has no batchnorm\n",
    "        self.layers = nn.ModuleList([BnLayer(layers[i], layers[i + 1])    # batchnorm only starts here \n",
    "            for i in range(len(layers) - 1)])\n",
    "        self.out = nn.Linear(layers[-1], c)                               # output size c = 10   \n",
    "        \n",
    "    def forward(self, x):\n",
    "        x = self.conv1(x)\n",
    "        for l in self.layers: x = l(x)\n",
    "        x = F.adaptive_max_pool2d(x, 1)\n",
    "        x = x.view(x.size(0), -1)\n",
    "        return F.log_softmax(self.out(x), dim=-1) # dim = -1 means softmax using last axis"
   ]
  },
  {
   "cell_type": "code",
   "execution_count": 21,
   "metadata": {},
   "outputs": [],
   "source": [
    "learn = ConvLearner.from_model_data(ConvBnNet([10, 20, 40, 80, 160], 10), data)"
   ]
  },
  {
   "cell_type": "code",
   "execution_count": 22,
   "metadata": {},
   "outputs": [
    {
     "data": {
      "text/plain": [
       "OrderedDict([('Conv2d-1',\n",
       "              OrderedDict([('input_shape', [-1, 3, 32, 32]),\n",
       "                           ('output_shape', [-1, 10, 32, 32]),\n",
       "                           ('trainable', True),\n",
       "                           ('nb_params', 760)])),\n",
       "             ('Conv2d-2',\n",
       "              OrderedDict([('input_shape', [-1, 10, 32, 32]),\n",
       "                           ('output_shape', [-1, 20, 16, 16]),\n",
       "                           ('trainable', True),\n",
       "                           ('nb_params', 1800)])),\n",
       "             ('BnLayer-3',\n",
       "              OrderedDict([('input_shape', [-1, 10, 32, 32]),\n",
       "                           ('output_shape', [-1, 20, 16, 16]),\n",
       "                           ('nb_params', 0)])),\n",
       "             ('Conv2d-4',\n",
       "              OrderedDict([('input_shape', [-1, 20, 16, 16]),\n",
       "                           ('output_shape', [-1, 40, 8, 8]),\n",
       "                           ('trainable', True),\n",
       "                           ('nb_params', 7200)])),\n",
       "             ('BnLayer-5',\n",
       "              OrderedDict([('input_shape', [-1, 20, 16, 16]),\n",
       "                           ('output_shape', [-1, 40, 8, 8]),\n",
       "                           ('nb_params', 0)])),\n",
       "             ('Conv2d-6',\n",
       "              OrderedDict([('input_shape', [-1, 40, 8, 8]),\n",
       "                           ('output_shape', [-1, 80, 4, 4]),\n",
       "                           ('trainable', True),\n",
       "                           ('nb_params', 28800)])),\n",
       "             ('BnLayer-7',\n",
       "              OrderedDict([('input_shape', [-1, 40, 8, 8]),\n",
       "                           ('output_shape', [-1, 80, 4, 4]),\n",
       "                           ('nb_params', 0)])),\n",
       "             ('Conv2d-8',\n",
       "              OrderedDict([('input_shape', [-1, 80, 4, 4]),\n",
       "                           ('output_shape', [-1, 160, 2, 2]),\n",
       "                           ('trainable', True),\n",
       "                           ('nb_params', 115200)])),\n",
       "             ('BnLayer-9',\n",
       "              OrderedDict([('input_shape', [-1, 80, 4, 4]),\n",
       "                           ('output_shape', [-1, 160, 2, 2]),\n",
       "                           ('nb_params', 0)])),\n",
       "             ('Linear-10',\n",
       "              OrderedDict([('input_shape', [-1, 160]),\n",
       "                           ('output_shape', [-1, 10]),\n",
       "                           ('trainable', True),\n",
       "                           ('nb_params', 1610)]))])"
      ]
     },
     "execution_count": 22,
     "metadata": {},
     "output_type": "execute_result"
    }
   ],
   "source": [
    "learn.summary()"
   ]
  },
  {
   "cell_type": "markdown",
   "metadata": {},
   "source": [
    "**Conv2d-1** inputs [-1, 3, 32, 32] and outputs [-1, 10, 32, 32]  \n",
    "kernel_size=5, stride=1, padding=2    \n",
    "\n",
    "Batchnorm only starts hereon   \n",
    "**Conv2d-2** inputs [-1, 10, 32, 32] and outputs [-1, 20, 16, 16]  \n",
    "kernel_size=3, stride=2, padding=1  "
   ]
  },
  {
   "cell_type": "markdown",
   "metadata": {
    "scrolled": false
   },
   "source": [
    "%time learn.fit(3e-2, 2)"
   ]
  },
  {
   "cell_type": "code",
   "execution_count": 24,
   "metadata": {},
   "outputs": [
    {
     "data": {
      "application/vnd.jupyter.widget-view+json": {
       "model_id": "9c6e31954480452cb994aead17a632ce",
       "version_major": 2,
       "version_minor": 0
      },
      "text/plain": [
       "HBox(children=(IntProgress(value=0, description='Epoch', max=4), HTML(value='')))"
      ]
     },
     "metadata": {},
     "output_type": "display_data"
    },
    {
     "name": "stdout",
     "output_type": "stream",
     "text": [
      "epoch      trn_loss   val_loss   accuracy                   \n",
      "    0      1.173683   1.075614   0.6158    \n",
      "    1      1.060249   0.980317   0.6508                     \n",
      "    2      0.97709    0.894631   0.6802                      \n",
      "    3      0.909451   0.828158   0.7069                      \n",
      "\n",
      "CPU times: user 55.2 s, sys: 18.3 s, total: 1min 13s\n",
      "Wall time: 39.7 s\n"
     ]
    },
    {
     "data": {
      "text/plain": [
       "[array([0.82816]), 0.7069]"
      ]
     },
     "execution_count": 24,
     "metadata": {},
     "output_type": "execute_result"
    }
   ],
   "source": [
    "%time learn.fit(1e-1, 4, cycle_len=1)"
   ]
  },
  {
   "cell_type": "markdown",
   "metadata": {},
   "source": [
    "## Deep BatchNorm"
   ]
  },
  {
   "cell_type": "markdown",
   "metadata": {},
   "source": [
    "Two layers of batchnorms"
   ]
  },
  {
   "cell_type": "code",
   "execution_count": 25,
   "metadata": {},
   "outputs": [],
   "source": [
    "class ConvBnNet2(nn.Module):\n",
    "    def __init__(self, layers, c):\n",
    "        super().__init__()\n",
    "        self.conv1 = nn.Conv2d(3, 10, kernel_size=5, stride=1, padding=2)\n",
    "        \n",
    "        self.layers = nn.ModuleList([BnLayer(layers[i], layers[i+1])          # 1st batchnorm layer\n",
    "            for i in range(len(layers) - 1)])\n",
    "        \n",
    "        self.layers2 = nn.ModuleList([BnLayer(layers[i+1], layers[i + 1], 1)  # 2nd batchnorm layer \n",
    "            for i in range(len(layers) - 1)])                                 # Note layer2 is square matrix\n",
    "                                                                              # with the same sizes          \n",
    "        self.out = nn.Linear(layers[-1], c)\n",
    "        \n",
    "    def forward(self, x):\n",
    "        x = self.conv1(x)\n",
    "        for l,l2 in zip(self.layers, self.layers2):\n",
    "            x = l(x)   # input goes through layer1 then layer2 (a block), then loops to the next block \n",
    "            x = l2(x)\n",
    "        x = F.adaptive_max_pool2d(x, 1)\n",
    "        x = x.view(x.size(0), -1)\n",
    "        return F.log_softmax(self.out(x), dim=-1)"
   ]
  },
  {
   "cell_type": "code",
   "execution_count": 26,
   "metadata": {},
   "outputs": [],
   "source": [
    "learn = ConvLearner.from_model_data(ConvBnNet2([10, 20, 40, 80, 160], 10), data)"
   ]
  },
  {
   "cell_type": "code",
   "execution_count": 27,
   "metadata": {
    "scrolled": false
   },
   "outputs": [
    {
     "data": {
      "application/vnd.jupyter.widget-view+json": {
       "model_id": "ef35661302a845f491aee3fc9fe2370c",
       "version_major": 2,
       "version_minor": 0
      },
      "text/plain": [
       "HBox(children=(IntProgress(value=0, description='Epoch', max=2), HTML(value='')))"
      ]
     },
     "metadata": {},
     "output_type": "display_data"
    },
    {
     "name": "stdout",
     "output_type": "stream",
     "text": [
      "epoch      trn_loss   val_loss   accuracy                   \n",
      "    0      1.498652   1.367926   0.5084    \n",
      "    1      1.289263   1.216457   0.5615                     \n",
      "\n",
      "CPU times: user 30 s, sys: 9.97 s, total: 39.9 s\n",
      "Wall time: 22.6 s\n"
     ]
    },
    {
     "data": {
      "text/plain": [
       "[array([1.21646]), 0.5615]"
      ]
     },
     "execution_count": 27,
     "metadata": {},
     "output_type": "execute_result"
    }
   ],
   "source": [
    "%time learn.fit(1e-2, 2)"
   ]
  },
  {
   "cell_type": "code",
   "execution_count": 28,
   "metadata": {},
   "outputs": [
    {
     "data": {
      "application/vnd.jupyter.widget-view+json": {
       "model_id": "ad2d97151257413a98e593e3d0af76e0",
       "version_major": 2,
       "version_minor": 0
      },
      "text/plain": [
       "HBox(children=(IntProgress(value=0, description='Epoch', max=2), HTML(value='')))"
      ]
     },
     "metadata": {},
     "output_type": "display_data"
    },
    {
     "name": "stdout",
     "output_type": "stream",
     "text": [
      "epoch      trn_loss   val_loss   accuracy                   \n",
      "    0      1.096619   1.022666   0.6321    \n",
      "    1      1.021075   0.99591    0.6477                     \n",
      "\n",
      "CPU times: user 30.3 s, sys: 9.69 s, total: 40 s\n",
      "Wall time: 22.6 s\n"
     ]
    },
    {
     "data": {
      "text/plain": [
       "[array([0.99591]), 0.6477]"
      ]
     },
     "execution_count": 28,
     "metadata": {},
     "output_type": "execute_result"
    }
   ],
   "source": [
    "%time learn.fit(1e-2, 2, cycle_len=1)"
   ]
  },
  {
   "cell_type": "markdown",
   "metadata": {},
   "source": [
    "This didn't help accuracy because now the NN is 12 layers deep, and it's even hard for batchnorm to be effective."
   ]
  },
  {
   "cell_type": "markdown",
   "metadata": {},
   "source": [
    "## Resnet 1"
   ]
  },
  {
   "cell_type": "markdown",
   "metadata": {},
   "source": [
    "Build a Boosting layer by simply **adding the input x to the last line**.  \n",
    "The rest of the codes here is exactly the same as BnLayer()"
   ]
  },
  {
   "cell_type": "code",
   "execution_count": 40,
   "metadata": {},
   "outputs": [],
   "source": [
    "class ResnetLayer(nn.Module):  # Code here is exactly the same as BnLayer()\n",
    "    def __init__(self, ni, nf, stride=2, kernel_size=3):\n",
    "        super().__init__()\n",
    "        self.conv = nn.Conv2d(ni, nf,                  \n",
    "                              kernel_size=kernel_size, \n",
    "                              stride=stride,\n",
    "                              bias=False, \n",
    "                              padding=1)\n",
    "        \n",
    "        self.a = nn.Parameter(torch.zeros(nf,1,1))     \n",
    "        self.m = nn.Parameter(torch.ones(nf,1,1))      \n",
    "        \n",
    "    def forward(self, x):\n",
    "        x = F.relu(self.conv(x))\n",
    "        x_chan = x.transpose(0,1).contiguous().view(x.size(1), -1)\n",
    "        if self.training:\n",
    "            self.means = x_chan.mean(1)[:,None,None] \n",
    "            self.stds  = x_chan.std (1)[:,None,None] \n",
    "            \n",
    "        return (x-self.means) / self.stds *self.m + self.a + x # resnet is just add x here!!!"
   ]
  },
  {
   "cell_type": "markdown",
   "metadata": {},
   "source": [
    "Short way of doing it"
   ]
  },
  {
   "cell_type": "code",
   "execution_count": 41,
   "metadata": {},
   "outputs": [],
   "source": [
    "class ResnetLayer(BnLayer): # note that actual resnet has 2 conv layers before x added\n",
    "    def forward(self, x): return x + super().forward(x)"
   ]
  },
  {
   "cell_type": "markdown",
   "metadata": {},
   "source": [
    "### Build the Resnet model"
   ]
  },
  {
   "cell_type": "code",
   "execution_count": 42,
   "metadata": {},
   "outputs": [],
   "source": [
    "class Resnet(nn.Module):\n",
    "    def __init__(self, layers, c):\n",
    "        super().__init__()\n",
    "        self.conv1 = nn.Conv2d(3, 10, kernel_size=5, stride=1, padding=2)\n",
    "        self.layers = nn.ModuleList([BnLayer(layers[i], layers[i+1])\n",
    "            for i in range(len(layers) - 1)])\n",
    "        self.layers2 = nn.ModuleList([ResnetLayer(layers[i+1], layers[i + 1], 1)\n",
    "            for i in range(len(layers) - 1)])\n",
    "        self.layers3 = nn.ModuleList([ResnetLayer(layers[i+1], layers[i + 1], 1)\n",
    "            for i in range(len(layers) - 1)])\n",
    "        self.out = nn.Linear(layers[-1], c)\n",
    "        \n",
    "    def forward(self, x):\n",
    "        x = self.conv1(x)\n",
    "        for l,l2,l3 in zip(self.layers, self.layers2, self.layers3):\n",
    "            x = l3(l2(l(x)))\n",
    "        x = F.adaptive_max_pool2d(x, 1)\n",
    "        x = x.view(x.size(0), -1)\n",
    "        return F.log_softmax(self.out(x), dim=-1)"
   ]
  },
  {
   "cell_type": "code",
   "execution_count": null,
   "metadata": {},
   "outputs": [],
   "source": [
    "A Resnet block consists of \n",
    "BnLayer(layers[i], layers[i+1])\n",
    "[ResnetLayer(layers[i+1], layers[i + 1], 1) # square matrix, stride 1\n",
    "[ResnetLayer(layers[i+1], layers[i + 1], 1) # square matrix, stride 1\n",
    " \n",
    "self.layers = nn.ModuleList([BnLayer(layers[i], layers[i+1]) for i in range(len(layers) - 1)])\n",
    "self.layers2 = nn.ModuleList([ResnetLayer(layers[i+1], layers[i + 1], 1)for i in range(len(layers) - 1)])\n",
    "self.layers3 = nn.ModuleList([ResnetLayer(layers[i+1], layers[i + 1], 1) for i in range(len(layers) - 1)]) "
   ]
  },
  {
   "cell_type": "code",
   "execution_count": 43,
   "metadata": {},
   "outputs": [],
   "source": [
    "learn = ConvLearner.from_model_data(Resnet([10, 20, 40, 80, 160], 10), data)"
   ]
  },
  {
   "cell_type": "code",
   "execution_count": 44,
   "metadata": {},
   "outputs": [],
   "source": [
    "wd=1e-5"
   ]
  },
  {
   "cell_type": "code",
   "execution_count": 45,
   "metadata": {},
   "outputs": [
    {
     "data": {
      "application/vnd.jupyter.widget-view+json": {
       "model_id": "b2b7aab13c5647bea24358386a479259",
       "version_major": 2,
       "version_minor": 0
      },
      "text/plain": [
       "HBox(children=(IntProgress(value=0, description='Epoch', max=2), HTML(value='')))"
      ]
     },
     "metadata": {},
     "output_type": "display_data"
    },
    {
     "name": "stdout",
     "output_type": "stream",
     "text": [
      "epoch      trn_loss   val_loss   accuracy                   \n",
      "    0      1.594788   1.457152   0.4671    \n",
      "    1      1.385794   1.300497   0.5302                     \n",
      "\n",
      "CPU times: user 33.3 s, sys: 10.7 s, total: 44 s\n",
      "Wall time: 26.9 s\n"
     ]
    },
    {
     "data": {
      "text/plain": [
       "[array([1.3005]), 0.5302]"
      ]
     },
     "execution_count": 45,
     "metadata": {},
     "output_type": "execute_result"
    }
   ],
   "source": [
    "%time learn.fit(1e-2, 2, wds=wd)"
   ]
  },
  {
   "cell_type": "code",
   "execution_count": 46,
   "metadata": {},
   "outputs": [
    {
     "data": {
      "application/vnd.jupyter.widget-view+json": {
       "model_id": "ba319963a42a4b3ca2a6770fd8dafbb5",
       "version_major": 2,
       "version_minor": 0
      },
      "text/plain": [
       "HBox(children=(IntProgress(value=0, description='Epoch', max=7), HTML(value='')))"
      ]
     },
     "metadata": {},
     "output_type": "display_data"
    },
    {
     "name": "stdout",
     "output_type": "stream",
     "text": [
      "epoch      trn_loss   val_loss   accuracy                   \n",
      "    0      1.207471   1.146561   0.5861    \n",
      "    1      1.172769   1.077084   0.6077                     \n",
      "    2      1.029038   0.993887   0.6458                     \n",
      "    3      1.075508   1.026033   0.6372                     \n",
      "    4      0.954697   0.901545   0.679                       \n",
      "    5      0.854785   0.85922    0.6943                      \n",
      "    6      0.816608   0.826892   0.7025                      \n",
      "\n",
      "CPU times: user 1min 56s, sys: 37.5 s, total: 2min 33s\n",
      "Wall time: 1min 33s\n"
     ]
    },
    {
     "data": {
      "text/plain": [
       "[array([0.82689]), 0.7025]"
      ]
     },
     "execution_count": 46,
     "metadata": {},
     "output_type": "execute_result"
    }
   ],
   "source": [
    "%time learn.fit(1e-2, 3, cycle_len=1, cycle_mult=2, wds=wd)"
   ]
  },
  {
   "cell_type": "code",
   "execution_count": 59,
   "metadata": {},
   "outputs": [
    {
     "data": {
      "application/vnd.jupyter.widget-view+json": {
       "model_id": "849a1d31a0ca4c39bacd99d34603d642",
       "version_major": 2,
       "version_minor": 0
      },
      "text/plain": [
       "A Jupyter Widget"
      ]
     },
     "metadata": {},
     "output_type": "display_data"
    },
    {
     "name": "stdout",
     "output_type": "stream",
     "text": [
      "[ 0.       0.8307   0.83635  0.7126 ]                        \n",
      "[ 1.       0.74295  0.73682  0.74189]                        \n",
      "[ 2.       0.66492  0.69554  0.75996]                        \n",
      "[ 3.       0.62392  0.67166  0.7625 ]                        \n",
      "[ 4.       0.73479  0.80425  0.72861]                        \n",
      "[ 5.       0.65423  0.68876  0.76318]                        \n",
      "[ 6.       0.58608  0.64105  0.77783]                        \n",
      "[ 7.       0.55738  0.62641  0.78721]                        \n",
      "[ 8.       0.66163  0.74154  0.7501 ]                        \n",
      "[ 9.       0.59444  0.64253  0.78106]                        \n",
      "[ 10.        0.53      0.61772   0.79385]                    \n",
      "[ 11.        0.49747   0.65968   0.77832]                    \n",
      "[ 12.        0.59463   0.67915   0.77422]                    \n",
      "[ 13.        0.55023   0.65815   0.78106]                    \n",
      "[ 14.        0.48959   0.59035   0.80273]                    \n",
      "[ 15.        0.4459    0.61823   0.79336]                    \n",
      "[ 16.        0.55848   0.64115   0.78018]                    \n",
      "[ 17.        0.50268   0.61795   0.79541]                    \n",
      "[ 18.        0.45084   0.57577   0.80654]                    \n",
      "[ 19.        0.40726   0.5708    0.80947]                    \n",
      "[ 20.        0.51177   0.66771   0.78232]                    \n",
      "[ 21.        0.46516   0.6116    0.79932]                    \n",
      "[ 22.        0.40966   0.56865   0.81172]                    \n",
      "[ 23.        0.3852    0.58161   0.80967]                    \n",
      "[ 24.        0.48268   0.59944   0.79551]                    \n",
      "[ 25.        0.43282   0.56429   0.81182]                    \n",
      "[ 26.        0.37634   0.54724   0.81797]                    \n",
      "[ 27.        0.34953   0.54169   0.82129]                    \n",
      "[ 28.        0.46053   0.58128   0.80342]                    \n",
      "[ 29.        0.4041    0.55185   0.82295]                    \n",
      "[ 30.        0.3599    0.53953   0.82861]                    \n",
      "[ 31.        0.32937   0.55605   0.82227]                    \n",
      "\n",
      "CPU times: user 22min 52s, sys: 8min 58s, total: 31min 51s\n",
      "Wall time: 16min 38s\n"
     ]
    }
   ],
   "source": [
    "%time learn.fit(1e-2, 8, cycle_len=4, wds=wd)"
   ]
  },
  {
   "cell_type": "markdown",
   "metadata": {
    "heading_collapsed": true
   },
   "source": [
    "## Resnet 2"
   ]
  },
  {
   "cell_type": "code",
   "execution_count": 47,
   "metadata": {
    "hidden": true
   },
   "outputs": [],
   "source": [
    "class Resnet2(nn.Module):\n",
    "    def __init__(self, layers, c, p=0.5):\n",
    "        super().__init__()\n",
    "        self.conv1 = BnLayer(3, 16, stride=1, kernel_size=7) # starts with a Bnlayer not a conv like Resnet1\n",
    "                   \n",
    "        self.layers = nn.ModuleList([BnLayer(layers[i], layers[i+1])\n",
    "            for i in range(len(layers) - 1)]) #known as bottleneck layer\n",
    "        \n",
    "        self.layers2 = nn.ModuleList([ResnetLayer(layers[i+1], layers[i + 1], 1)\n",
    "            for i in range(len(layers) - 1)])\n",
    "        \n",
    "        self.layers3 = nn.ModuleList([ResnetLayer(layers[i+1], layers[i + 1], 1)\n",
    "            for i in range(len(layers) - 1)])\n",
    "        \n",
    "        self.out = nn.Linear(layers[-1], c)\n",
    "        self.drop = nn.Dropout(p) #added dropout\n",
    "        \n",
    "    def forward(self, x):\n",
    "        x = self.conv1(x)\n",
    "        for l,l2,l3 in zip(self.layers, self.layers2, self.layers3):\n",
    "            x = l3(l2(l(x)))\n",
    "        x = F.adaptive_max_pool2d(x, 1)\n",
    "        x = x.view(x.size(0), -1)\n",
    "        x = self.drop(x)\n",
    "        return F.log_softmax(self.out(x), dim=-1)"
   ]
  },
  {
   "cell_type": "code",
   "execution_count": 48,
   "metadata": {
    "hidden": true
   },
   "outputs": [],
   "source": [
    "learn = ConvLearner.from_model_data(Resnet2([16, 32, 64, 128, 256], 10, 0.2), data)"
   ]
  },
  {
   "cell_type": "code",
   "execution_count": 49,
   "metadata": {
    "hidden": true
   },
   "outputs": [],
   "source": [
    "wd=1e-6"
   ]
  },
  {
   "cell_type": "code",
   "execution_count": 50,
   "metadata": {
    "hidden": true,
    "scrolled": false
   },
   "outputs": [
    {
     "data": {
      "application/vnd.jupyter.widget-view+json": {
       "model_id": "0a3a048db6a74a5788d879f761b4ff8a",
       "version_major": 2,
       "version_minor": 0
      },
      "text/plain": [
       "HBox(children=(IntProgress(value=0, description='Epoch', max=2), HTML(value='')))"
      ]
     },
     "metadata": {},
     "output_type": "display_data"
    },
    {
     "name": "stdout",
     "output_type": "stream",
     "text": [
      "epoch      trn_loss   val_loss   accuracy                   \n",
      "    0      1.743232   2.033102   0.4253    \n",
      "    1      1.527541   1.323802   0.5161                     \n",
      "\n",
      "CPU times: user 35.5 s, sys: 11.6 s, total: 47.1 s\n",
      "Wall time: 30 s\n"
     ]
    },
    {
     "data": {
      "text/plain": [
       "[array([1.3238]), 0.5161]"
      ]
     },
     "execution_count": 50,
     "metadata": {},
     "output_type": "execute_result"
    }
   ],
   "source": [
    "%time learn.fit(1e-2, 2, wds=wd)"
   ]
  },
  {
   "cell_type": "code",
   "execution_count": 73,
   "metadata": {
    "hidden": true
   },
   "outputs": [
    {
     "data": {
      "application/vnd.jupyter.widget-view+json": {
       "model_id": "d338e700ad424bb283ebf7980e70f827",
       "version_major": 2,
       "version_minor": 0
      },
      "text/plain": [
       "A Jupyter Widget"
      ]
     },
     "metadata": {},
     "output_type": "display_data"
    },
    {
     "name": "stdout",
     "output_type": "stream",
     "text": [
      "[ 0.       1.29414  1.26694  0.57041]                       \n",
      "[ 1.       1.21206  1.06634  0.62373]                       \n",
      "[ 2.       1.05583  1.0129   0.64258]                       \n",
      "[ 3.       1.09763  1.11568  0.61318]                       \n",
      "[ 4.       0.97597  0.93726  0.67266]                        \n",
      "[ 5.       0.86295  0.82655  0.71426]                        \n",
      "[ 6.       0.827    0.8655   0.70244]                        \n",
      "\n",
      "CPU times: user 5min 11s, sys: 1min 58s, total: 7min 9s\n",
      "Wall time: 3min 48s\n"
     ]
    }
   ],
   "source": [
    "%time learn.fit(1e-2, 3, cycle_len=1, cycle_mult=2, wds=wd)"
   ]
  },
  {
   "cell_type": "code",
   "execution_count": 74,
   "metadata": {
    "hidden": true
   },
   "outputs": [
    {
     "data": {
      "application/vnd.jupyter.widget-view+json": {
       "model_id": "37ae7f5e5d6b475aab2c0c4438140f00",
       "version_major": 2,
       "version_minor": 0
      },
      "text/plain": [
       "A Jupyter Widget"
      ]
     },
     "metadata": {},
     "output_type": "display_data"
    },
    {
     "name": "stdout",
     "output_type": "stream",
     "text": [
      "[ 0.       0.92043  0.93876  0.67685]                        \n",
      "[ 1.       0.8359   0.81156  0.72168]                        \n",
      "[ 2.       0.73084  0.72091  0.74463]                        \n",
      "[ 3.       0.68688  0.71326  0.74824]                        \n",
      "[ 4.       0.81046  0.79485  0.72354]                        \n",
      "[ 5.       0.72155  0.68833  0.76006]                        \n",
      "[ 6.       0.63801  0.68419  0.76855]                        \n",
      "[ 7.       0.59678  0.64972  0.77363]                        \n",
      "[ 8.       0.71126  0.78098  0.73828]                        \n",
      "[ 9.       0.63549  0.65685  0.7708 ]                        \n",
      "[ 10.        0.56837   0.63656   0.78057]                    \n",
      "[ 11.        0.52093   0.59159   0.79629]                    \n",
      "[ 12.        0.66463   0.69927   0.76357]                    \n",
      "[ 13.        0.58121   0.64529   0.77871]                    \n",
      "[ 14.        0.52346   0.5751    0.80293]                    \n",
      "[ 15.        0.47279   0.55094   0.80498]                    \n",
      "[ 16.        0.59857   0.64519   0.77559]                    \n",
      "[ 17.        0.54384   0.68057   0.77676]                    \n",
      "[ 18.        0.48369   0.5821    0.80273]                    \n",
      "[ 19.        0.43456   0.54708   0.81182]                    \n",
      "[ 20.        0.54963   0.65753   0.78203]                    \n",
      "[ 21.        0.49259   0.55957   0.80791]                    \n",
      "[ 22.        0.43646   0.55221   0.81309]                    \n",
      "[ 23.        0.39269   0.55158   0.81426]                    \n",
      "[ 24.        0.51039   0.61335   0.7998 ]                    \n",
      "[ 25.        0.4667    0.56516   0.80869]                    \n",
      "[ 26.        0.39469   0.5823    0.81299]                    \n",
      "[ 27.        0.36389   0.51266   0.82764]                    \n",
      "[ 28.        0.48962   0.55353   0.81201]                    \n",
      "[ 29.        0.4328    0.55394   0.81328]                    \n",
      "[ 30.        0.37081   0.50348   0.83359]                    \n",
      "[ 31.        0.34045   0.52052   0.82949]                    \n",
      "\n",
      "CPU times: user 23min 30s, sys: 9min 1s, total: 32min 32s\n",
      "Wall time: 17min 16s\n"
     ]
    }
   ],
   "source": [
    "%time learn.fit(1e-2, 8, cycle_len=4, wds=wd)"
   ]
  },
  {
   "cell_type": "code",
   "execution_count": 75,
   "metadata": {
    "collapsed": true,
    "hidden": true
   },
   "outputs": [],
   "source": [
    "learn.save('tmp3')"
   ]
  },
  {
   "cell_type": "code",
   "execution_count": 76,
   "metadata": {
    "hidden": true
   },
   "outputs": [
    {
     "name": "stdout",
     "output_type": "stream",
     "text": [
      "                                             \r"
     ]
    }
   ],
   "source": [
    "log_preds,y = learn.TTA()\n",
    "preds = np.mean(np.exp(log_preds),0)"
   ]
  },
  {
   "cell_type": "code",
   "execution_count": 77,
   "metadata": {
    "hidden": true
   },
   "outputs": [
    {
     "data": {
      "text/plain": [
       "(0.44507397166057938, 0.84909999999999997)"
      ]
     },
     "execution_count": 77,
     "metadata": {},
     "output_type": "execute_result"
    }
   ],
   "source": [
    "metrics.log_loss(y,preds), accuracy(preds,y)"
   ]
  },
  {
   "cell_type": "markdown",
   "metadata": {
    "collapsed": true,
    "hidden": true
   },
   "source": [
    "### End"
   ]
  },
  {
   "cell_type": "code",
   "execution_count": null,
   "metadata": {
    "collapsed": true,
    "hidden": true
   },
   "outputs": [],
   "source": []
  }
 ],
 "metadata": {
  "kernelspec": {
   "display_name": "Python 3",
   "language": "python",
   "name": "python3"
  },
  "language_info": {
   "codemirror_mode": {
    "name": "ipython",
    "version": 3
   },
   "file_extension": ".py",
   "mimetype": "text/x-python",
   "name": "python",
   "nbconvert_exporter": "python",
   "pygments_lexer": "ipython3",
   "version": "3.6.5"
  },
  "toc": {
   "colors": {
    "hover_highlight": "#DAA520",
    "navigate_num": "#000000",
    "navigate_text": "#333333",
    "running_highlight": "#FF0000",
    "selected_highlight": "#FFD700",
    "sidebar_border": "#EEEEEE",
    "wrapper_background": "#FFFFFF"
   },
   "moveMenuLeft": true,
   "nav_menu": {
    "height": "266px",
    "width": "252px"
   },
   "navigate_menu": true,
   "number_sections": true,
   "sideBar": true,
   "threshold": 4,
   "toc_cell": false,
   "toc_section_display": "block",
   "toc_window_display": false,
   "widenNotebook": false
  }
 },
 "nbformat": 4,
 "nbformat_minor": 2
}
